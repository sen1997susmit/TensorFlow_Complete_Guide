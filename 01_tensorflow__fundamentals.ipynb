{
  "nbformat": 4,
  "nbformat_minor": 0,
  "metadata": {
    "colab": {
      "provenance": []
    },
    "kernelspec": {
      "name": "python3",
      "display_name": "Python 3"
    },
    "language_info": {
      "name": "python"
    },
    "accelerator": "GPU",
    "gpuClass": "standard"
  },
  "cells": [
    {
      "cell_type": "markdown",
      "source": [
        "#**Introduction to Tensors**"
      ],
      "metadata": {
        "id": "ac3YAjsHKFbC"
      }
    },
    {
      "cell_type": "markdown",
      "source": [
        "###**Topics covered**\n",
        "\n",
        "\n",
        "1.   Introduction to tensors\n",
        "2.   Getting information from tensors\n",
        "3. Manipulating tensors\n",
        "4. Tensors & Numpy\n",
        "5. Using @tf.function ( a way to speed up your regular python functions)\n",
        "6. Using GPU's with Tensorflow(or TPU)\n",
        "\n",
        "\n",
        "\n",
        "\n"
      ],
      "metadata": {
        "id": "TeeZMLNruEHb"
      }
    },
    {
      "cell_type": "code",
      "source": [
        "#Import tensorflow\n",
        "import tensorflow as tf\n",
        "import numpy as np\n",
        "print(tf.__version__)"
      ],
      "metadata": {
        "colab": {
          "base_uri": "https://localhost:8080/"
        },
        "id": "m3mdanMAt9dM",
        "outputId": "370931a1-5f67-48be-db9d-0dddabc5e159"
      },
      "execution_count": null,
      "outputs": [
        {
          "output_type": "stream",
          "name": "stdout",
          "text": [
            "2.11.0\n"
          ]
        }
      ]
    },
    {
      "cell_type": "code",
      "source": [
        "#Creating tensors with tf.constant()\n",
        "scalar=tf.constant(7)\n",
        "scalar"
      ],
      "metadata": {
        "colab": {
          "base_uri": "https://localhost:8080/"
        },
        "id": "9KF_ldjsu_kE",
        "outputId": "2fea8e10-b259-4915-b8ae-f782c6c28a64"
      },
      "execution_count": null,
      "outputs": [
        {
          "output_type": "execute_result",
          "data": {
            "text/plain": [
              "<tf.Tensor: shape=(), dtype=int32, numpy=7>"
            ]
          },
          "metadata": {},
          "execution_count": 2
        }
      ]
    },
    {
      "cell_type": "code",
      "source": [
        "# Check the number of diemension of a tensor (ndim stands for nnumber of diemensions)\n",
        "scalar.ndim"
      ],
      "metadata": {
        "colab": {
          "base_uri": "https://localhost:8080/"
        },
        "id": "6vPvfMJvwE2Z",
        "outputId": "66f84005-83f1-44dc-ec0d-eef574df3f65"
      },
      "execution_count": null,
      "outputs": [
        {
          "output_type": "execute_result",
          "data": {
            "text/plain": [
              "0"
            ]
          },
          "metadata": {},
          "execution_count": 3
        }
      ]
    },
    {
      "cell_type": "code",
      "source": [
        "#Create a vector\n",
        "vector=tf.constant([10,10])\n",
        "vector"
      ],
      "metadata": {
        "colab": {
          "base_uri": "https://localhost:8080/"
        },
        "id": "LDveXJJtwe_4",
        "outputId": "9ac5520d-ae5e-4a2f-889c-38218f4c1055"
      },
      "execution_count": null,
      "outputs": [
        {
          "output_type": "execute_result",
          "data": {
            "text/plain": [
              "<tf.Tensor: shape=(2,), dtype=int32, numpy=array([10, 10], dtype=int32)>"
            ]
          },
          "metadata": {},
          "execution_count": 4
        }
      ]
    },
    {
      "cell_type": "code",
      "source": [
        "#Check the diemension of our vector\n",
        "vector.ndim"
      ],
      "metadata": {
        "colab": {
          "base_uri": "https://localhost:8080/"
        },
        "id": "BXHm4JElwoN5",
        "outputId": "72f521a8-8797-4e15-d8b8-9b861cbdfb02"
      },
      "execution_count": null,
      "outputs": [
        {
          "output_type": "execute_result",
          "data": {
            "text/plain": [
              "1"
            ]
          },
          "metadata": {},
          "execution_count": 5
        }
      ]
    },
    {
      "cell_type": "code",
      "source": [
        "#Create a matrix ( has more than 1 diemension)\n",
        "matrix = tf.constant([[10,7],[7,10]])\n",
        "matrix"
      ],
      "metadata": {
        "colab": {
          "base_uri": "https://localhost:8080/"
        },
        "id": "w7ehsuiew1ZU",
        "outputId": "ae9ed518-429e-478b-ff81-83afd5956919"
      },
      "execution_count": null,
      "outputs": [
        {
          "output_type": "execute_result",
          "data": {
            "text/plain": [
              "<tf.Tensor: shape=(2, 2), dtype=int32, numpy=\n",
              "array([[10,  7],\n",
              "       [ 7, 10]], dtype=int32)>"
            ]
          },
          "metadata": {},
          "execution_count": 6
        }
      ]
    },
    {
      "cell_type": "code",
      "source": [
        "matrix.ndim"
      ],
      "metadata": {
        "colab": {
          "base_uri": "https://localhost:8080/"
        },
        "id": "xv329HhXxDDI",
        "outputId": "2edd5426-eb51-4b1b-a965-1cc4d1d7004c"
      },
      "execution_count": null,
      "outputs": [
        {
          "output_type": "execute_result",
          "data": {
            "text/plain": [
              "2"
            ]
          },
          "metadata": {},
          "execution_count": 7
        }
      ]
    },
    {
      "cell_type": "code",
      "source": [
        "#Create another matrix\n",
        "another_matrix=tf.constant([[10.,7.],\n",
        "                            [3.,2.],\n",
        "                            [8.,9.]],dtype=tf.float16) #specify the data type with dtype parameter\n",
        "another_matrix"
      ],
      "metadata": {
        "colab": {
          "base_uri": "https://localhost:8080/"
        },
        "id": "fOO_3cCYxKqR",
        "outputId": "af466d46-dad7-4c84-fd6d-4516d104f76c"
      },
      "execution_count": null,
      "outputs": [
        {
          "output_type": "execute_result",
          "data": {
            "text/plain": [
              "<tf.Tensor: shape=(3, 2), dtype=float16, numpy=\n",
              "array([[10.,  7.],\n",
              "       [ 3.,  2.],\n",
              "       [ 8.,  9.]], dtype=float16)>"
            ]
          },
          "metadata": {},
          "execution_count": 8
        }
      ]
    },
    {
      "cell_type": "code",
      "source": [
        "another_matrix.ndim"
      ],
      "metadata": {
        "colab": {
          "base_uri": "https://localhost:8080/"
        },
        "id": "pHOKSafQxxHU",
        "outputId": "a9fb22c4-7cb1-479e-81b4-33a13b0a4b42"
      },
      "execution_count": null,
      "outputs": [
        {
          "output_type": "execute_result",
          "data": {
            "text/plain": [
              "2"
            ]
          },
          "metadata": {},
          "execution_count": 9
        }
      ]
    },
    {
      "cell_type": "code",
      "source": [
        "#Let's create a tensor\n",
        "tensor=tf.constant([[[1,2,3,],\n",
        "                     [4,5,6]],\n",
        "                    [[7,8,9],\n",
        "                     [10,11,12]],\n",
        "                    [[13,14,15],\n",
        "                     [16,17,18]]])\n",
        "tensor"
      ],
      "metadata": {
        "colab": {
          "base_uri": "https://localhost:8080/"
        },
        "id": "Vy2JWBH6ygT6",
        "outputId": "6b12c7d2-5a1d-4201-c7f1-9f8ab4e75087"
      },
      "execution_count": null,
      "outputs": [
        {
          "output_type": "execute_result",
          "data": {
            "text/plain": [
              "<tf.Tensor: shape=(3, 2, 3), dtype=int32, numpy=\n",
              "array([[[ 1,  2,  3],\n",
              "        [ 4,  5,  6]],\n",
              "\n",
              "       [[ 7,  8,  9],\n",
              "        [10, 11, 12]],\n",
              "\n",
              "       [[13, 14, 15],\n",
              "        [16, 17, 18]]], dtype=int32)>"
            ]
          },
          "metadata": {},
          "execution_count": 10
        }
      ]
    },
    {
      "cell_type": "code",
      "source": [
        "#Diemension of tensor\n",
        "tensor.ndim"
      ],
      "metadata": {
        "colab": {
          "base_uri": "https://localhost:8080/"
        },
        "id": "K7AbPCGSzGGY",
        "outputId": "e7d99e95-e939-4844-a4f3-e52ecb60f769"
      },
      "execution_count": null,
      "outputs": [
        {
          "output_type": "execute_result",
          "data": {
            "text/plain": [
              "3"
            ]
          },
          "metadata": {},
          "execution_count": 11
        }
      ]
    },
    {
      "cell_type": "markdown",
      "source": [
        "1. Scalar: a single number\n",
        "2. Vector: a number with direction (e.g. wind speed and direction)\n",
        "3. Matrix: a 2-diemensional array of numbers\n",
        "4. Tensor: an n-diemensional array of numbers ( when n can be any diemenstion, 0-diemensional  is a scalar, 1-diemensional tensor is a vector, a 2-diemensional tensor is a matrix)"
      ],
      "metadata": {
        "id": "aq-PO4-Hze3u"
      }
    },
    {
      "cell_type": "markdown",
      "source": [
        "**Creating tensors with `tf.Variable`**"
      ],
      "metadata": {
        "id": "iQsh_OcCzLR2"
      }
    },
    {
      "cell_type": "code",
      "source": [
        "#Create the same tensor with tf.variable() as above\n",
        "changable_tensor=tf.Variable([10,7])\n",
        "unchangable_tensor=tf.constant([10,7])\n",
        "changable_tensor, unchangable_tensor"
      ],
      "metadata": {
        "colab": {
          "base_uri": "https://localhost:8080/"
        },
        "id": "6RiKBh730Uqg",
        "outputId": "e4f5d4ee-8b96-4b25-8dd0-fb86162423e9",
        "cellView": "code"
      },
      "execution_count": null,
      "outputs": [
        {
          "output_type": "execute_result",
          "data": {
            "text/plain": [
              "(<tf.Variable 'Variable:0' shape=(2,) dtype=int32, numpy=array([10,  7], dtype=int32)>,\n",
              " <tf.Tensor: shape=(2,), dtype=int32, numpy=array([10,  7], dtype=int32)>)"
            ]
          },
          "metadata": {},
          "execution_count": 12
        }
      ]
    },
    {
      "cell_type": "code",
      "source": [
        "#Let's try change one of the element in our changeable tensor\n",
        "changable_tensor[0]=7\n",
        "changable_tensor"
      ],
      "metadata": {
        "colab": {
          "base_uri": "https://localhost:8080/",
          "height": 201
        },
        "id": "AeCP2ZnP0eB5",
        "outputId": "343bae85-a86a-4e50-ef97-8ab34a649740"
      },
      "execution_count": null,
      "outputs": [
        {
          "output_type": "error",
          "ename": "TypeError",
          "evalue": "ignored",
          "traceback": [
            "\u001b[0;31m---------------------------------------------------------------------------\u001b[0m",
            "\u001b[0;31mTypeError\u001b[0m                                 Traceback (most recent call last)",
            "\u001b[0;32m<ipython-input-13-2a276c30b951>\u001b[0m in \u001b[0;36m<module>\u001b[0;34m\u001b[0m\n\u001b[1;32m      1\u001b[0m \u001b[0;31m#Let's try change one of the element in our changeable tensor\u001b[0m\u001b[0;34m\u001b[0m\u001b[0;34m\u001b[0m\u001b[0;34m\u001b[0m\u001b[0m\n\u001b[0;32m----> 2\u001b[0;31m \u001b[0mchangable_tensor\u001b[0m\u001b[0;34m[\u001b[0m\u001b[0;36m0\u001b[0m\u001b[0;34m]\u001b[0m\u001b[0;34m=\u001b[0m\u001b[0;36m7\u001b[0m\u001b[0;34m\u001b[0m\u001b[0;34m\u001b[0m\u001b[0m\n\u001b[0m\u001b[1;32m      3\u001b[0m \u001b[0mchangable_tensor\u001b[0m\u001b[0;34m\u001b[0m\u001b[0;34m\u001b[0m\u001b[0m\n",
            "\u001b[0;31mTypeError\u001b[0m: 'ResourceVariable' object does not support item assignment"
          ]
        }
      ]
    },
    {
      "cell_type": "code",
      "source": [
        "#Try with .assign()\n",
        "changable_tensor[0].assign(7)\n",
        "changable_tensor"
      ],
      "metadata": {
        "id": "U-NK47gO1gfx",
        "colab": {
          "base_uri": "https://localhost:8080/"
        },
        "outputId": "8722f447-a171-4d30-e9ab-1b1c2f62519c"
      },
      "execution_count": null,
      "outputs": [
        {
          "output_type": "execute_result",
          "data": {
            "text/plain": [
              "<tf.Variable 'Variable:0' shape=(2,) dtype=int32, numpy=array([7, 7], dtype=int32)>"
            ]
          },
          "metadata": {},
          "execution_count": 13
        }
      ]
    },
    {
      "cell_type": "code",
      "source": [
        "#Let's try change our unchangeable tensor\n",
        "unchangable_tensor[0].assign(20)\n",
        "unchangable_tensor"
      ],
      "metadata": {
        "id": "NOrbD0YL1xXx",
        "colab": {
          "base_uri": "https://localhost:8080/",
          "height": 323
        },
        "outputId": "348f27f6-3141-4d7a-9b12-bda8d4a7cb5a"
      },
      "execution_count": null,
      "outputs": [
        {
          "output_type": "error",
          "ename": "AttributeError",
          "evalue": "ignored",
          "traceback": [
            "\u001b[0;31m---------------------------------------------------------------------------\u001b[0m",
            "\u001b[0;31mAttributeError\u001b[0m                            Traceback (most recent call last)",
            "\u001b[0;32m<ipython-input-14-bd047eaf390e>\u001b[0m in \u001b[0;36m<module>\u001b[0;34m\u001b[0m\n\u001b[1;32m      1\u001b[0m \u001b[0;31m#Let's try change our unchangeable tensor\u001b[0m\u001b[0;34m\u001b[0m\u001b[0;34m\u001b[0m\u001b[0;34m\u001b[0m\u001b[0m\n\u001b[0;32m----> 2\u001b[0;31m \u001b[0munchangable_tensor\u001b[0m\u001b[0;34m[\u001b[0m\u001b[0;36m0\u001b[0m\u001b[0;34m]\u001b[0m\u001b[0;34m.\u001b[0m\u001b[0massign\u001b[0m\u001b[0;34m(\u001b[0m\u001b[0;36m20\u001b[0m\u001b[0;34m)\u001b[0m\u001b[0;34m\u001b[0m\u001b[0;34m\u001b[0m\u001b[0m\n\u001b[0m\u001b[1;32m      3\u001b[0m \u001b[0munchangable_tensor\u001b[0m\u001b[0;34m\u001b[0m\u001b[0;34m\u001b[0m\u001b[0m\n",
            "\u001b[0;32m/usr/local/lib/python3.8/dist-packages/tensorflow/python/framework/ops.py\u001b[0m in \u001b[0;36m__getattr__\u001b[0;34m(self, name)\u001b[0m\n\u001b[1;32m    444\u001b[0m         \u001b[0mnp_config\u001b[0m\u001b[0;34m.\u001b[0m\u001b[0menable_numpy_behavior\u001b[0m\u001b[0;34m(\u001b[0m\u001b[0;34m)\u001b[0m\u001b[0;34m\u001b[0m\u001b[0;34m\u001b[0m\u001b[0m\n\u001b[1;32m    445\u001b[0m       \"\"\")\n\u001b[0;32m--> 446\u001b[0;31m     \u001b[0mself\u001b[0m\u001b[0;34m.\u001b[0m\u001b[0m__getattribute__\u001b[0m\u001b[0;34m(\u001b[0m\u001b[0mname\u001b[0m\u001b[0;34m)\u001b[0m\u001b[0;34m\u001b[0m\u001b[0;34m\u001b[0m\u001b[0m\n\u001b[0m\u001b[1;32m    447\u001b[0m \u001b[0;34m\u001b[0m\u001b[0m\n\u001b[1;32m    448\u001b[0m   \u001b[0;34m@\u001b[0m\u001b[0mstaticmethod\u001b[0m\u001b[0;34m\u001b[0m\u001b[0;34m\u001b[0m\u001b[0m\n",
            "\u001b[0;31mAttributeError\u001b[0m: 'tensorflow.python.framework.ops.EagerTensor' object has no attribute 'assign'"
          ]
        }
      ]
    },
    {
      "cell_type": "markdown",
      "source": [
        "**Creating Random tensor**\n",
        "\n",
        "Random tensors are tensors of some arbitrary size which contain random numbers"
      ],
      "metadata": {
        "id": "5XxBZ5e22DzX"
      }
    },
    {
      "cell_type": "code",
      "source": [
        "#Create two random (but the same tensors)\n",
        "random_1=tf.random.Generator.from_seed(42) # set seed for reproducibility\n",
        "random_1=random_1.normal(shape=(3,2))\n",
        "random_2=tf.random.Generator.from_seed(42)\n",
        "random_2=random_2.normal(shape=(3,2))\n",
        "random_1,random_2, random_1 ==random_2"
      ],
      "metadata": {
        "id": "7mWSnuIK3D-Z",
        "colab": {
          "base_uri": "https://localhost:8080/"
        },
        "outputId": "d28e3105-6b13-4754-cca0-ad2314fc5a51"
      },
      "execution_count": null,
      "outputs": [
        {
          "output_type": "execute_result",
          "data": {
            "text/plain": [
              "(<tf.Tensor: shape=(3, 2), dtype=float32, numpy=\n",
              " array([[-0.7565803 , -0.06854702],\n",
              "        [ 0.07595026, -1.2573844 ],\n",
              "        [-0.23193763, -1.8107855 ]], dtype=float32)>,\n",
              " <tf.Tensor: shape=(3, 2), dtype=float32, numpy=\n",
              " array([[-0.7565803 , -0.06854702],\n",
              "        [ 0.07595026, -1.2573844 ],\n",
              "        [-0.23193763, -1.8107855 ]], dtype=float32)>,\n",
              " <tf.Tensor: shape=(3, 2), dtype=bool, numpy=\n",
              " array([[ True,  True],\n",
              "        [ True,  True],\n",
              "        [ True,  True]])>)"
            ]
          },
          "metadata": {},
          "execution_count": 15
        }
      ]
    },
    {
      "cell_type": "markdown",
      "source": [
        "**Shuffle the order of elements in a tensor**"
      ],
      "metadata": {
        "id": "7dVkcSVdk9Wk"
      }
    },
    {
      "cell_type": "code",
      "source": [
        "#Shuffle a tensor ( valuable for when you want to shuffle your data so iherent order does'nt affect learning)\n",
        "not_shuffled=tf.constant([[10,7],\n",
        "                          [3,4],\n",
        "                          [2,5]])\n",
        "not_shuffled.ndim"
      ],
      "metadata": {
        "id": "trAQmS74k7iC",
        "colab": {
          "base_uri": "https://localhost:8080/"
        },
        "outputId": "1fff8487-3037-49fe-e8b1-45c4dcd58d85"
      },
      "execution_count": null,
      "outputs": [
        {
          "output_type": "execute_result",
          "data": {
            "text/plain": [
              "2"
            ]
          },
          "metadata": {},
          "execution_count": 17
        }
      ]
    },
    {
      "cell_type": "code",
      "source": [
        "not_shuffled"
      ],
      "metadata": {
        "id": "Kl7uyxCEl9vR",
        "colab": {
          "base_uri": "https://localhost:8080/"
        },
        "outputId": "4537efa4-8100-4a85-8f68-e2cd7ad4745a"
      },
      "execution_count": null,
      "outputs": [
        {
          "output_type": "execute_result",
          "data": {
            "text/plain": [
              "<tf.Tensor: shape=(3, 2), dtype=int32, numpy=\n",
              "array([[10,  7],\n",
              "       [ 3,  4],\n",
              "       [ 2,  5]], dtype=int32)>"
            ]
          },
          "metadata": {},
          "execution_count": 18
        }
      ]
    },
    {
      "cell_type": "code",
      "source": [
        "#Shuffle our non shuffled tensor\n",
        "shuffled=tf.random.shuffle(not_shuffled)\n",
        "shuffled"
      ],
      "metadata": {
        "id": "j5DluyQPmgoI",
        "colab": {
          "base_uri": "https://localhost:8080/"
        },
        "outputId": "ee61244c-1704-460c-dfb6-7545ff01215f"
      },
      "execution_count": null,
      "outputs": [
        {
          "output_type": "execute_result",
          "data": {
            "text/plain": [
              "<tf.Tensor: shape=(3, 2), dtype=int32, numpy=\n",
              "array([[ 2,  5],\n",
              "       [ 3,  4],\n",
              "       [10,  7]], dtype=int32)>"
            ]
          },
          "metadata": {},
          "execution_count": 19
        }
      ]
    },
    {
      "cell_type": "markdown",
      "source": [
        "**Exercise:** Read through TensorFlow documentation on random seed generation: https://www.tensorflow.org/api_docs/python/tf/random/set_seed  and practices write 5 random tensors and shuffle them"
      ],
      "metadata": {
        "id": "UWG7op0ToggK"
      }
    },
    {
      "cell_type": "markdown",
      "source": [
        "If we wan to our shuffled tensors to be in the same order, we've got to use the global level random seed as well as the operation level random seed"
      ],
      "metadata": {
        "id": "Otke6AAL4Bxs"
      }
    },
    {
      "cell_type": "code",
      "source": [
        "tf.random.set_seed(42) #global level random seed\n",
        "tf.random.shuffle(not_shuffled,seed=42) # operation leve; random seed"
      ],
      "metadata": {
        "id": "kkG-R4x-oe85",
        "colab": {
          "base_uri": "https://localhost:8080/"
        },
        "outputId": "3e3a6259-4f01-4b73-91b6-a20644e335c8"
      },
      "execution_count": null,
      "outputs": [
        {
          "output_type": "execute_result",
          "data": {
            "text/plain": [
              "<tf.Tensor: shape=(3, 2), dtype=int32, numpy=\n",
              "array([[10,  7],\n",
              "       [ 3,  4],\n",
              "       [ 2,  5]], dtype=int32)>"
            ]
          },
          "metadata": {},
          "execution_count": 20
        }
      ]
    },
    {
      "cell_type": "markdown",
      "source": [
        "##**Other ways to make tensors**"
      ],
      "metadata": {
        "id": "oVApxqp_3Xq4"
      }
    },
    {
      "cell_type": "code",
      "source": [
        "#Create a tensor of all ones\n",
        "tf.ones([10,7])"
      ],
      "metadata": {
        "id": "GqvfPI2T4hOH",
        "colab": {
          "base_uri": "https://localhost:8080/"
        },
        "outputId": "36cc8e8f-1872-4482-f560-0afd0895b27a"
      },
      "execution_count": null,
      "outputs": [
        {
          "output_type": "execute_result",
          "data": {
            "text/plain": [
              "<tf.Tensor: shape=(10, 7), dtype=float32, numpy=\n",
              "array([[1., 1., 1., 1., 1., 1., 1.],\n",
              "       [1., 1., 1., 1., 1., 1., 1.],\n",
              "       [1., 1., 1., 1., 1., 1., 1.],\n",
              "       [1., 1., 1., 1., 1., 1., 1.],\n",
              "       [1., 1., 1., 1., 1., 1., 1.],\n",
              "       [1., 1., 1., 1., 1., 1., 1.],\n",
              "       [1., 1., 1., 1., 1., 1., 1.],\n",
              "       [1., 1., 1., 1., 1., 1., 1.],\n",
              "       [1., 1., 1., 1., 1., 1., 1.],\n",
              "       [1., 1., 1., 1., 1., 1., 1.]], dtype=float32)>"
            ]
          },
          "metadata": {},
          "execution_count": 21
        }
      ]
    },
    {
      "cell_type": "code",
      "source": [
        "#Create a tensor of all 0's\n",
        "tf.zeros(shape=(3,4))"
      ],
      "metadata": {
        "id": "VVnd-KdX4qyX",
        "colab": {
          "base_uri": "https://localhost:8080/"
        },
        "outputId": "cc05df75-9620-45b7-8c3c-d1c258351ee0"
      },
      "execution_count": null,
      "outputs": [
        {
          "output_type": "execute_result",
          "data": {
            "text/plain": [
              "<tf.Tensor: shape=(3, 4), dtype=float32, numpy=\n",
              "array([[0., 0., 0., 0.],\n",
              "       [0., 0., 0., 0.],\n",
              "       [0., 0., 0., 0.]], dtype=float32)>"
            ]
          },
          "metadata": {},
          "execution_count": 22
        }
      ]
    },
    {
      "cell_type": "markdown",
      "source": [
        "##**You can also turn NumPy arrays into tensors**\n",
        "The  main difference between NumPy arrays and TensorFlow tensors is that tensors can be run on a GPU ( much faster for numerical computing)"
      ],
      "metadata": {
        "id": "ydb_t_t_41my"
      }
    },
    {
      "cell_type": "code",
      "source": [
        "import numpy as np\n",
        "numpy_A= np.arange(1,25, dtype=np.int32)#create a Numpy array between 1 and 25\n",
        "numpy_A\n",
        "\n",
        "# X=tf.constant(some_matrix) # capital for matrix for matrix or tensor\n",
        "# y=tf.constant(vector) #non capital for vector"
      ],
      "metadata": {
        "id": "IiTE4ayn5EvV",
        "colab": {
          "base_uri": "https://localhost:8080/"
        },
        "outputId": "8669cd9a-da01-47c9-ff78-20ca61d1dd42"
      },
      "execution_count": null,
      "outputs": [
        {
          "output_type": "execute_result",
          "data": {
            "text/plain": [
              "array([ 1,  2,  3,  4,  5,  6,  7,  8,  9, 10, 11, 12, 13, 14, 15, 16, 17,\n",
              "       18, 19, 20, 21, 22, 23, 24], dtype=int32)"
            ]
          },
          "metadata": {},
          "execution_count": 23
        }
      ]
    },
    {
      "cell_type": "code",
      "source": [
        "A=tf.constant(numpy_A, shape=(2,3,4))\n",
        "A"
      ],
      "metadata": {
        "id": "3YBM52VA6FdW",
        "colab": {
          "base_uri": "https://localhost:8080/"
        },
        "outputId": "8b66bde4-731d-42ed-a669-6b25a0295fcb"
      },
      "execution_count": null,
      "outputs": [
        {
          "output_type": "execute_result",
          "data": {
            "text/plain": [
              "<tf.Tensor: shape=(2, 3, 4), dtype=int32, numpy=\n",
              "array([[[ 1,  2,  3,  4],\n",
              "        [ 5,  6,  7,  8],\n",
              "        [ 9, 10, 11, 12]],\n",
              "\n",
              "       [[13, 14, 15, 16],\n",
              "        [17, 18, 19, 20],\n",
              "        [21, 22, 23, 24]]], dtype=int32)>"
            ]
          },
          "metadata": {},
          "execution_count": 24
        }
      ]
    },
    {
      "cell_type": "markdown",
      "source": [
        "##Getting information from tensors"
      ],
      "metadata": {
        "id": "5gaDiiPF6JJz"
      }
    },
    {
      "cell_type": "markdown",
      "source": [
        "![Screenshot 2023-01-22 183114.png](data:image/png;base64,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)"
      ],
      "metadata": {
        "id": "-zRMqsyI7E9x"
      }
    },
    {
      "cell_type": "code",
      "source": [
        "#Create a rank 4 tensor (4 diemensions)\n",
        "rank_4_tensor=tf.zeros(shape=[2,3,4,5])\n",
        "rank_4_tensor"
      ],
      "metadata": {
        "colab": {
          "base_uri": "https://localhost:8080/"
        },
        "id": "8hb7M6-AkNdN",
        "outputId": "2d3a6043-ad76-41e2-b599-74d7b792affc"
      },
      "execution_count": null,
      "outputs": [
        {
          "output_type": "execute_result",
          "data": {
            "text/plain": [
              "<tf.Tensor: shape=(2, 3, 4, 5), dtype=float32, numpy=\n",
              "array([[[[0., 0., 0., 0., 0.],\n",
              "         [0., 0., 0., 0., 0.],\n",
              "         [0., 0., 0., 0., 0.],\n",
              "         [0., 0., 0., 0., 0.]],\n",
              "\n",
              "        [[0., 0., 0., 0., 0.],\n",
              "         [0., 0., 0., 0., 0.],\n",
              "         [0., 0., 0., 0., 0.],\n",
              "         [0., 0., 0., 0., 0.]],\n",
              "\n",
              "        [[0., 0., 0., 0., 0.],\n",
              "         [0., 0., 0., 0., 0.],\n",
              "         [0., 0., 0., 0., 0.],\n",
              "         [0., 0., 0., 0., 0.]]],\n",
              "\n",
              "\n",
              "       [[[0., 0., 0., 0., 0.],\n",
              "         [0., 0., 0., 0., 0.],\n",
              "         [0., 0., 0., 0., 0.],\n",
              "         [0., 0., 0., 0., 0.]],\n",
              "\n",
              "        [[0., 0., 0., 0., 0.],\n",
              "         [0., 0., 0., 0., 0.],\n",
              "         [0., 0., 0., 0., 0.],\n",
              "         [0., 0., 0., 0., 0.]],\n",
              "\n",
              "        [[0., 0., 0., 0., 0.],\n",
              "         [0., 0., 0., 0., 0.],\n",
              "         [0., 0., 0., 0., 0.],\n",
              "         [0., 0., 0., 0., 0.]]]], dtype=float32)>"
            ]
          },
          "metadata": {},
          "execution_count": 4
        }
      ]
    },
    {
      "cell_type": "code",
      "source": [
        "rank_4_tensor[0]"
      ],
      "metadata": {
        "colab": {
          "base_uri": "https://localhost:8080/"
        },
        "id": "YtWG6iw1mExw",
        "outputId": "e73aba82-f6fd-4096-e01a-527e9e55e64b"
      },
      "execution_count": null,
      "outputs": [
        {
          "output_type": "execute_result",
          "data": {
            "text/plain": [
              "<tf.Tensor: shape=(3, 4, 5), dtype=float32, numpy=\n",
              "array([[[0., 0., 0., 0., 0.],\n",
              "        [0., 0., 0., 0., 0.],\n",
              "        [0., 0., 0., 0., 0.],\n",
              "        [0., 0., 0., 0., 0.]],\n",
              "\n",
              "       [[0., 0., 0., 0., 0.],\n",
              "        [0., 0., 0., 0., 0.],\n",
              "        [0., 0., 0., 0., 0.],\n",
              "        [0., 0., 0., 0., 0.]],\n",
              "\n",
              "       [[0., 0., 0., 0., 0.],\n",
              "        [0., 0., 0., 0., 0.],\n",
              "        [0., 0., 0., 0., 0.],\n",
              "        [0., 0., 0., 0., 0.]]], dtype=float32)>"
            ]
          },
          "metadata": {},
          "execution_count": 5
        }
      ]
    },
    {
      "cell_type": "code",
      "source": [
        "rank_4_tensor.shape, rank_4_tensor.ndim,tf.size(rank_4_tensor)"
      ],
      "metadata": {
        "colab": {
          "base_uri": "https://localhost:8080/"
        },
        "id": "viJ7kEUOm8sM",
        "outputId": "e13766fc-7939-4e87-952f-02c3aa1fff35"
      },
      "execution_count": null,
      "outputs": [
        {
          "output_type": "execute_result",
          "data": {
            "text/plain": [
              "(TensorShape([2, 3, 4, 5]), 4, <tf.Tensor: shape=(), dtype=int32, numpy=120>)"
            ]
          },
          "metadata": {},
          "execution_count": 6
        }
      ]
    },
    {
      "cell_type": "code",
      "source": [
        "2*3*4*5"
      ],
      "metadata": {
        "colab": {
          "base_uri": "https://localhost:8080/"
        },
        "id": "6uLgFmKgnKMq",
        "outputId": "04253ca1-b919-4d17-99d4-b12d29174fb3"
      },
      "execution_count": null,
      "outputs": [
        {
          "output_type": "execute_result",
          "data": {
            "text/plain": [
              "120"
            ]
          },
          "metadata": {},
          "execution_count": 28
        }
      ]
    },
    {
      "cell_type": "code",
      "source": [
        "#Get various attributes of our tensors\n",
        "print(\"Datatype of every element: \",rank_4_tensor.dtype)\n",
        "print(\"Number of dimensions( rank):\", rank_4_tensor.ndim)\n",
        "print(\"Shape of the tensor: \", rank_4_tensor.shape)\n",
        "print(\"Elements along the 0 axis: \",rank_4_tensor.shape[0])\n",
        "print(\"Elements along the last axis: \", rank_4_tensor.shape[-1])\n",
        "print(\"Total number of elements in our tensor: \",tf.size(rank_4_tensor).numpy())"
      ],
      "metadata": {
        "colab": {
          "base_uri": "https://localhost:8080/"
        },
        "id": "GmvmqGegnbXh",
        "outputId": "1f172b5d-71fb-4adb-d32a-aa9607a789ea"
      },
      "execution_count": null,
      "outputs": [
        {
          "output_type": "stream",
          "name": "stdout",
          "text": [
            "Datatype of every element:  <dtype: 'float32'>\n",
            "Number of dimensions( rank): 4\n",
            "Shape of the tensor:  (2, 3, 4, 5)\n",
            "Elements along the 0 axis:  2\n",
            "Elements along the last axis:  5\n",
            "Total number of elements in our tensor:  120\n"
          ]
        }
      ]
    },
    {
      "cell_type": "markdown",
      "source": [
        "## **Indexing Tensors**\n",
        "\n",
        "Tensors can be indexed just like Python lists"
      ],
      "metadata": {
        "id": "tkHvWyixDXsw"
      }
    },
    {
      "cell_type": "code",
      "source": [
        "# Get the first 2 elements of each diemension\n",
        "rank_4_tensor[:2,:2,:2,:2]"
      ],
      "metadata": {
        "colab": {
          "base_uri": "https://localhost:8080/"
        },
        "id": "u9DQPCCpDUdW",
        "outputId": "c3bd7fa7-fa8e-45f6-88af-e8afdc3ac1ac"
      },
      "execution_count": null,
      "outputs": [
        {
          "output_type": "execute_result",
          "data": {
            "text/plain": [
              "<tf.Tensor: shape=(2, 2, 2, 2), dtype=float32, numpy=\n",
              "array([[[[0., 0.],\n",
              "         [0., 0.]],\n",
              "\n",
              "        [[0., 0.],\n",
              "         [0., 0.]]],\n",
              "\n",
              "\n",
              "       [[[0., 0.],\n",
              "         [0., 0.]],\n",
              "\n",
              "        [[0., 0.],\n",
              "         [0., 0.]]]], dtype=float32)>"
            ]
          },
          "metadata": {},
          "execution_count": 9
        }
      ]
    },
    {
      "cell_type": "code",
      "source": [
        "rank_4_tensor.shape"
      ],
      "metadata": {
        "colab": {
          "base_uri": "https://localhost:8080/"
        },
        "id": "GLACaqKb5sIC",
        "outputId": "243a8f7d-123d-4d34-c787-0b049b546a70"
      },
      "execution_count": null,
      "outputs": [
        {
          "output_type": "execute_result",
          "data": {
            "text/plain": [
              "TensorShape([2, 3, 4, 5])"
            ]
          },
          "metadata": {},
          "execution_count": 14
        }
      ]
    },
    {
      "cell_type": "code",
      "source": [
        "# get the first element from each dimension  from each index except for the final one\n",
        "rank_4_tensor[:1,:1,:,:1]"
      ],
      "metadata": {
        "id": "odr6HdY6Fk6S",
        "colab": {
          "base_uri": "https://localhost:8080/"
        },
        "outputId": "5586a52c-364f-4807-a28f-12584e47d69b"
      },
      "execution_count": null,
      "outputs": [
        {
          "output_type": "execute_result",
          "data": {
            "text/plain": [
              "<tf.Tensor: shape=(1, 1, 4, 1), dtype=float32, numpy=\n",
              "array([[[[0.],\n",
              "         [0.],\n",
              "         [0.],\n",
              "         [0.]]]], dtype=float32)>"
            ]
          },
          "metadata": {},
          "execution_count": 13
        }
      ]
    },
    {
      "cell_type": "code",
      "source": [
        "#Adding an extra  dimension in a tensor\n",
        "# Create a rank 2 tensor(2 dimensions)\n",
        "rank_2_tensor = tf.constant([[10,7],\n",
        "                                                                  [3,4]])\n",
        "rank_2_tensor.shape, rank_2_tensor.ndim"
      ],
      "metadata": {
        "colab": {
          "base_uri": "https://localhost:8080/"
        },
        "id": "PIgo3hQF51aC",
        "outputId": "034d9781-505c-4130-8d68-f7f4056cbb11"
      },
      "execution_count": null,
      "outputs": [
        {
          "output_type": "execute_result",
          "data": {
            "text/plain": [
              "(TensorShape([2, 2]), 2)"
            ]
          },
          "metadata": {},
          "execution_count": 19
        }
      ]
    },
    {
      "cell_type": "code",
      "source": [
        "rank_2_tensor"
      ],
      "metadata": {
        "colab": {
          "base_uri": "https://localhost:8080/"
        },
        "id": "CecBKSo77KZN",
        "outputId": "44ca4996-d556-4a8b-9285-b46842f165f3"
      },
      "execution_count": null,
      "outputs": [
        {
          "output_type": "execute_result",
          "data": {
            "text/plain": [
              "<tf.Tensor: shape=(2, 2), dtype=int32, numpy=\n",
              "array([[10,  7],\n",
              "       [ 3,  4]], dtype=int32)>"
            ]
          },
          "metadata": {},
          "execution_count": 20
        }
      ]
    },
    {
      "cell_type": "code",
      "source": [
        "# Get the last item of each of our rank 2 tensor\n",
        "rank_2_tensor[:,-1]"
      ],
      "metadata": {
        "colab": {
          "base_uri": "https://localhost:8080/"
        },
        "id": "Wc8NouM_6fJM",
        "outputId": "e4217c0c-05ea-42bb-d044-0ba4e2c0f95a"
      },
      "execution_count": null,
      "outputs": [
        {
          "output_type": "execute_result",
          "data": {
            "text/plain": [
              "<tf.Tensor: shape=(2,), dtype=int32, numpy=array([7, 4], dtype=int32)>"
            ]
          },
          "metadata": {},
          "execution_count": 23
        }
      ]
    },
    {
      "cell_type": "code",
      "source": [
        "#Add in extra dimension to our rank 2 tensor\n",
        "# [..., tf.newaxis] means everyaxis before the last one\n",
        "rank_3_tensor = rank_2_tensor[...,tf.newaxis]\n",
        "rank_3_tensor"
      ],
      "metadata": {
        "colab": {
          "base_uri": "https://localhost:8080/"
        },
        "id": "79gqWMCU7RgU",
        "outputId": "65124687-e45f-48a6-e95a-1d4a0eec3e96"
      },
      "execution_count": null,
      "outputs": [
        {
          "output_type": "execute_result",
          "data": {
            "text/plain": [
              "<tf.Tensor: shape=(2, 2, 1), dtype=int32, numpy=\n",
              "array([[[10],\n",
              "        [ 7]],\n",
              "\n",
              "       [[ 3],\n",
              "        [ 4]]], dtype=int32)>"
            ]
          },
          "metadata": {},
          "execution_count": 26
        }
      ]
    },
    {
      "cell_type": "code",
      "source": [
        "#Alternative to tf.newaxis\n",
        "tf.expand_dims(rank_2_tensor,axis=-1) #\"-1\" means expand the final axis"
      ],
      "metadata": {
        "colab": {
          "base_uri": "https://localhost:8080/"
        },
        "id": "S2rMIZ5y7xr8",
        "outputId": "808313f8-4e99-4880-b098-35cbe95e3242"
      },
      "execution_count": null,
      "outputs": [
        {
          "output_type": "execute_result",
          "data": {
            "text/plain": [
              "<tf.Tensor: shape=(2, 2, 1), dtype=int32, numpy=\n",
              "array([[[10],\n",
              "        [ 7]],\n",
              "\n",
              "       [[ 3],\n",
              "        [ 4]]], dtype=int32)>"
            ]
          },
          "metadata": {},
          "execution_count": 27
        }
      ]
    },
    {
      "cell_type": "code",
      "source": [
        "#Expand 0 axis\n",
        "tf.expand_dims(rank_2_tensor,axis=0)"
      ],
      "metadata": {
        "colab": {
          "base_uri": "https://localhost:8080/"
        },
        "id": "7SSr-PuG8guk",
        "outputId": "b0f00c56-3d8c-4d58-ba7b-d65be1545429"
      },
      "execution_count": null,
      "outputs": [
        {
          "output_type": "execute_result",
          "data": {
            "text/plain": [
              "<tf.Tensor: shape=(1, 2, 2), dtype=int32, numpy=\n",
              "array([[[10,  7],\n",
              "        [ 3,  4]]], dtype=int32)>"
            ]
          },
          "metadata": {},
          "execution_count": 31
        }
      ]
    },
    {
      "cell_type": "markdown",
      "source": [
        "##**Manipulating tensors (tensor operations)**\n",
        "\n",
        "\n",
        "**Basic Operations**\n",
        "`+`,`-`,`*`,`/`"
      ],
      "metadata": {
        "id": "XOgwovWV87UL"
      }
    },
    {
      "cell_type": "code",
      "source": [
        "#You can add valurs to a tensor using the addition operator\n",
        "tensor=tf.constant([[10,7],\n",
        "                                                  [3,4]])\n",
        "tensor + 10\n"
      ],
      "metadata": {
        "colab": {
          "base_uri": "https://localhost:8080/"
        },
        "id": "-QuSA7Vn9ASV",
        "outputId": "57872746-285c-444b-a440-9b2ad8e533c7"
      },
      "execution_count": null,
      "outputs": [
        {
          "output_type": "execute_result",
          "data": {
            "text/plain": [
              "<tf.Tensor: shape=(2, 2), dtype=int32, numpy=\n",
              "array([[20, 17],\n",
              "       [13, 14]], dtype=int32)>"
            ]
          },
          "metadata": {},
          "execution_count": 2
        }
      ]
    },
    {
      "cell_type": "code",
      "source": [
        "#original tensor is unchanged\n",
        "tensor"
      ],
      "metadata": {
        "colab": {
          "base_uri": "https://localhost:8080/"
        },
        "id": "_ohsELFW9fm2",
        "outputId": "991f7ff8-fc83-47c7-f004-e5d881dee887"
      },
      "execution_count": null,
      "outputs": [
        {
          "output_type": "execute_result",
          "data": {
            "text/plain": [
              "<tf.Tensor: shape=(2, 2), dtype=int32, numpy=\n",
              "array([[10,  7],\n",
              "       [ 3,  4]], dtype=int32)>"
            ]
          },
          "metadata": {},
          "execution_count": 3
        }
      ]
    },
    {
      "cell_type": "code",
      "source": [
        "#Multitplication also works\n",
        "tensor *10"
      ],
      "metadata": {
        "colab": {
          "base_uri": "https://localhost:8080/"
        },
        "id": "-4AzvheZ9ouR",
        "outputId": "2a91328b-d1f3-4d65-da23-ff58a7cfd104"
      },
      "execution_count": null,
      "outputs": [
        {
          "output_type": "execute_result",
          "data": {
            "text/plain": [
              "<tf.Tensor: shape=(2, 2), dtype=int32, numpy=\n",
              "array([[100,  70],\n",
              "       [ 30,  40]], dtype=int32)>"
            ]
          },
          "metadata": {},
          "execution_count": 36
        }
      ]
    },
    {
      "cell_type": "code",
      "source": [
        "#Subtraction if you want\n",
        "tensor - 10"
      ],
      "metadata": {
        "colab": {
          "base_uri": "https://localhost:8080/"
        },
        "id": "yRMNlbw_94OF",
        "outputId": "824fa6d3-3e89-43d7-982c-9978d16fe532"
      },
      "execution_count": null,
      "outputs": [
        {
          "output_type": "execute_result",
          "data": {
            "text/plain": [
              "<tf.Tensor: shape=(2, 2), dtype=int32, numpy=\n",
              "array([[ 0, -3],\n",
              "       [-7, -6]], dtype=int32)>"
            ]
          },
          "metadata": {},
          "execution_count": 38
        }
      ]
    },
    {
      "cell_type": "code",
      "source": [
        "#We can use the tensorflow built in functions too\n",
        "tf.multiply(tensor,10)"
      ],
      "metadata": {
        "colab": {
          "base_uri": "https://localhost:8080/"
        },
        "id": "9Vk-7jhD98I6",
        "outputId": "7768949d-8f96-488c-e973-82ef86427d10"
      },
      "execution_count": null,
      "outputs": [
        {
          "output_type": "execute_result",
          "data": {
            "text/plain": [
              "<tf.Tensor: shape=(2, 2), dtype=int32, numpy=\n",
              "array([[100,  70],\n",
              "       [ 30,  40]], dtype=int32)>"
            ]
          },
          "metadata": {},
          "execution_count": 39
        }
      ]
    },
    {
      "cell_type": "code",
      "source": [
        "tf.add(tensor,10)"
      ],
      "metadata": {
        "colab": {
          "base_uri": "https://localhost:8080/"
        },
        "id": "9ym6tdO7-19O",
        "outputId": "e8eccd0a-5518-4681-94ad-9b966491f1f8"
      },
      "execution_count": null,
      "outputs": [
        {
          "output_type": "execute_result",
          "data": {
            "text/plain": [
              "<tf.Tensor: shape=(2, 2), dtype=int32, numpy=\n",
              "array([[20, 17],\n",
              "       [13, 14]], dtype=int32)>"
            ]
          },
          "metadata": {},
          "execution_count": 40
        }
      ]
    },
    {
      "cell_type": "code",
      "source": [
        "tf.subtract(tensor,10)"
      ],
      "metadata": {
        "colab": {
          "base_uri": "https://localhost:8080/"
        },
        "id": "28sEyu8F-5cx",
        "outputId": "1d5ae26f-3648-44f1-d3e9-5a75a78f3da3"
      },
      "execution_count": null,
      "outputs": [
        {
          "output_type": "execute_result",
          "data": {
            "text/plain": [
              "<tf.Tensor: shape=(2, 2), dtype=int32, numpy=\n",
              "array([[ 0, -3],\n",
              "       [-7, -6]], dtype=int32)>"
            ]
          },
          "metadata": {},
          "execution_count": 41
        }
      ]
    },
    {
      "cell_type": "code",
      "source": [],
      "metadata": {
        "id": "yggSPGNx-5SU"
      },
      "execution_count": null,
      "outputs": []
    },
    {
      "cell_type": "markdown",
      "source": [
        "##**Matrix Multiplication**\n",
        "\n",
        "In Machine Learning, matrix multiplication is one of the most common tensor operations.\n",
        "\n",
        "\n",
        "There are two rules our tensors (or matrices) need to fulfil if we're going to matrix multiply them:\n",
        "\n",
        "1. The Inner dimension must match\n",
        "2. The resulting matrix has the shape of the outer dimensions"
      ],
      "metadata": {
        "id": "RLn0YkMM-P83"
      }
    },
    {
      "cell_type": "code",
      "source": [
        "#Matrix multiplication in tensorflow (tf.linal.matmul)\n",
        "print(tensor)\n",
        "tf.matmul(tensor,tensor)"
      ],
      "metadata": {
        "id": "yjDL4e77-wHG",
        "colab": {
          "base_uri": "https://localhost:8080/"
        },
        "outputId": "dd70a012-09d7-4b26-cd3b-135ebab37bb3"
      },
      "execution_count": null,
      "outputs": [
        {
          "output_type": "stream",
          "name": "stdout",
          "text": [
            "tf.Tensor(\n",
            "[[10  7]\n",
            " [ 3  4]], shape=(2, 2), dtype=int32)\n"
          ]
        },
        {
          "output_type": "execute_result",
          "data": {
            "text/plain": [
              "<tf.Tensor: shape=(2, 2), dtype=int32, numpy=\n",
              "array([[121,  98],\n",
              "       [ 42,  37]], dtype=int32)>"
            ]
          },
          "metadata": {},
          "execution_count": 5
        }
      ]
    },
    {
      "cell_type": "code",
      "source": [
        "#Matrix Multiplication with Python operator \"@\"\n",
        "tensor @ tensor"
      ],
      "metadata": {
        "colab": {
          "base_uri": "https://localhost:8080/"
        },
        "id": "2vVV9yE7HUKK",
        "outputId": "c12d34b0-fc8c-47fc-d7a1-5a9e899fbcc9"
      },
      "execution_count": null,
      "outputs": [
        {
          "output_type": "execute_result",
          "data": {
            "text/plain": [
              "<tf.Tensor: shape=(2, 2), dtype=int32, numpy=\n",
              "array([[121,  98],\n",
              "       [ 42,  37]], dtype=int32)>"
            ]
          },
          "metadata": {},
          "execution_count": 6
        }
      ]
    },
    {
      "cell_type": "code",
      "source": [
        "tensor.shape"
      ],
      "metadata": {
        "colab": {
          "base_uri": "https://localhost:8080/"
        },
        "id": "2PtB7nHoIGHU",
        "outputId": "c078f077-c9bd-4e43-f1d4-99fda798ea1f"
      },
      "execution_count": null,
      "outputs": [
        {
          "output_type": "execute_result",
          "data": {
            "text/plain": [
              "TensorShape([2, 2])"
            ]
          },
          "metadata": {},
          "execution_count": 8
        }
      ]
    },
    {
      "cell_type": "code",
      "source": [
        "# Create a tensor (3,2)\n",
        "x=tf.constant([[1,2],\n",
        "              [3,4],\n",
        "              [5,6]])\n",
        "#Create another tensor (3,2)\n",
        "y=tf.constant([[7,8],\n",
        "               [9,10],\n",
        "               [11,12]])\n",
        "x,y\n"
      ],
      "metadata": {
        "colab": {
          "base_uri": "https://localhost:8080/"
        },
        "id": "Y7AO8QzrII32",
        "outputId": "ebae2e49-a65b-4777-b062-e24ca0cfed8c"
      },
      "execution_count": null,
      "outputs": [
        {
          "output_type": "execute_result",
          "data": {
            "text/plain": [
              "(<tf.Tensor: shape=(3, 2), dtype=int32, numpy=\n",
              " array([[1, 2],\n",
              "        [3, 4],\n",
              "        [5, 6]], dtype=int32)>, <tf.Tensor: shape=(3, 2), dtype=int32, numpy=\n",
              " array([[ 7,  8],\n",
              "        [ 9, 10],\n",
              "        [11, 12]], dtype=int32)>)"
            ]
          },
          "metadata": {},
          "execution_count": 8
        }
      ]
    },
    {
      "cell_type": "code",
      "source": [
        "#Try to matrix multiply tensors of same shape\n",
        "tf.matmul(x,y)"
      ],
      "metadata": {
        "id": "j9BDZB2iIoPq",
        "colab": {
          "base_uri": "https://localhost:8080/",
          "height": 381
        },
        "outputId": "a475ba69-8e0a-4b1b-a05b-0223591af362"
      },
      "execution_count": null,
      "outputs": [
        {
          "output_type": "error",
          "ename": "InvalidArgumentError",
          "evalue": "ignored",
          "traceback": [
            "\u001b[0;31m---------------------------------------------------------------------------\u001b[0m",
            "\u001b[0;31mInvalidArgumentError\u001b[0m                      Traceback (most recent call last)",
            "\u001b[0;32m<ipython-input-9-9882cfad6d65>\u001b[0m in \u001b[0;36m<module>\u001b[0;34m\u001b[0m\n\u001b[1;32m      1\u001b[0m \u001b[0;31m#Try to matrix multiply tensors of same shape\u001b[0m\u001b[0;34m\u001b[0m\u001b[0;34m\u001b[0m\u001b[0;34m\u001b[0m\u001b[0m\n\u001b[0;32m----> 2\u001b[0;31m \u001b[0mtf\u001b[0m\u001b[0;34m.\u001b[0m\u001b[0mmatmul\u001b[0m\u001b[0;34m(\u001b[0m\u001b[0mx\u001b[0m\u001b[0;34m,\u001b[0m\u001b[0my\u001b[0m\u001b[0;34m)\u001b[0m\u001b[0;34m\u001b[0m\u001b[0;34m\u001b[0m\u001b[0m\n\u001b[0m",
            "\u001b[0;32m/usr/local/lib/python3.8/dist-packages/tensorflow/python/util/traceback_utils.py\u001b[0m in \u001b[0;36merror_handler\u001b[0;34m(*args, **kwargs)\u001b[0m\n\u001b[1;32m    151\u001b[0m     \u001b[0;32mexcept\u001b[0m \u001b[0mException\u001b[0m \u001b[0;32mas\u001b[0m \u001b[0me\u001b[0m\u001b[0;34m:\u001b[0m\u001b[0;34m\u001b[0m\u001b[0;34m\u001b[0m\u001b[0m\n\u001b[1;32m    152\u001b[0m       \u001b[0mfiltered_tb\u001b[0m \u001b[0;34m=\u001b[0m \u001b[0m_process_traceback_frames\u001b[0m\u001b[0;34m(\u001b[0m\u001b[0me\u001b[0m\u001b[0;34m.\u001b[0m\u001b[0m__traceback__\u001b[0m\u001b[0;34m)\u001b[0m\u001b[0;34m\u001b[0m\u001b[0;34m\u001b[0m\u001b[0m\n\u001b[0;32m--> 153\u001b[0;31m       \u001b[0;32mraise\u001b[0m \u001b[0me\u001b[0m\u001b[0;34m.\u001b[0m\u001b[0mwith_traceback\u001b[0m\u001b[0;34m(\u001b[0m\u001b[0mfiltered_tb\u001b[0m\u001b[0;34m)\u001b[0m \u001b[0;32mfrom\u001b[0m \u001b[0;32mNone\u001b[0m\u001b[0;34m\u001b[0m\u001b[0;34m\u001b[0m\u001b[0m\n\u001b[0m\u001b[1;32m    154\u001b[0m     \u001b[0;32mfinally\u001b[0m\u001b[0;34m:\u001b[0m\u001b[0;34m\u001b[0m\u001b[0;34m\u001b[0m\u001b[0m\n\u001b[1;32m    155\u001b[0m       \u001b[0;32mdel\u001b[0m \u001b[0mfiltered_tb\u001b[0m\u001b[0;34m\u001b[0m\u001b[0;34m\u001b[0m\u001b[0m\n",
            "\u001b[0;32m/usr/local/lib/python3.8/dist-packages/tensorflow/python/framework/ops.py\u001b[0m in \u001b[0;36mraise_from_not_ok_status\u001b[0;34m(e, name)\u001b[0m\n\u001b[1;32m   7213\u001b[0m \u001b[0;32mdef\u001b[0m \u001b[0mraise_from_not_ok_status\u001b[0m\u001b[0;34m(\u001b[0m\u001b[0me\u001b[0m\u001b[0;34m,\u001b[0m \u001b[0mname\u001b[0m\u001b[0;34m)\u001b[0m\u001b[0;34m:\u001b[0m\u001b[0;34m\u001b[0m\u001b[0;34m\u001b[0m\u001b[0m\n\u001b[1;32m   7214\u001b[0m   \u001b[0me\u001b[0m\u001b[0;34m.\u001b[0m\u001b[0mmessage\u001b[0m \u001b[0;34m+=\u001b[0m \u001b[0;34m(\u001b[0m\u001b[0;34m\" name: \"\u001b[0m \u001b[0;34m+\u001b[0m \u001b[0mname\u001b[0m \u001b[0;32mif\u001b[0m \u001b[0mname\u001b[0m \u001b[0;32mis\u001b[0m \u001b[0;32mnot\u001b[0m \u001b[0;32mNone\u001b[0m \u001b[0;32melse\u001b[0m \u001b[0;34m\"\"\u001b[0m\u001b[0;34m)\u001b[0m\u001b[0;34m\u001b[0m\u001b[0;34m\u001b[0m\u001b[0m\n\u001b[0;32m-> 7215\u001b[0;31m   \u001b[0;32mraise\u001b[0m \u001b[0mcore\u001b[0m\u001b[0;34m.\u001b[0m\u001b[0m_status_to_exception\u001b[0m\u001b[0;34m(\u001b[0m\u001b[0me\u001b[0m\u001b[0;34m)\u001b[0m \u001b[0;32mfrom\u001b[0m \u001b[0;32mNone\u001b[0m  \u001b[0;31m# pylint: disable=protected-access\u001b[0m\u001b[0;34m\u001b[0m\u001b[0;34m\u001b[0m\u001b[0m\n\u001b[0m\u001b[1;32m   7216\u001b[0m \u001b[0;34m\u001b[0m\u001b[0m\n\u001b[1;32m   7217\u001b[0m \u001b[0;34m\u001b[0m\u001b[0m\n",
            "\u001b[0;31mInvalidArgumentError\u001b[0m: {{function_node __wrapped__MatMul_device_/job:localhost/replica:0/task:0/device:CPU:0}} Matrix size-incompatible: In[0]: [3,2], In[1]: [3,2] [Op:MatMul]"
          ]
        }
      ]
    },
    {
      "cell_type": "code",
      "source": [
        "y"
      ],
      "metadata": {
        "colab": {
          "base_uri": "https://localhost:8080/"
        },
        "id": "H1FdiTDMJGe1",
        "outputId": "f7e9fca6-b05a-4ad9-b2f7-6577c48afdf3"
      },
      "execution_count": null,
      "outputs": [
        {
          "output_type": "execute_result",
          "data": {
            "text/plain": [
              "<tf.Tensor: shape=(3, 2), dtype=int32, numpy=\n",
              "array([[ 7,  8],\n",
              "       [ 9, 10],\n",
              "       [11, 12]], dtype=int32)>"
            ]
          },
          "metadata": {},
          "execution_count": 11
        }
      ]
    },
    {
      "cell_type": "code",
      "source": [
        "#Lets change the shape of Y\n",
        "tf.reshape(y,shape=(2,3))"
      ],
      "metadata": {
        "id": "RWld8ayaI35V",
        "colab": {
          "base_uri": "https://localhost:8080/"
        },
        "outputId": "6b07cd1f-464e-409c-f06e-796b593fb98b"
      },
      "execution_count": null,
      "outputs": [
        {
          "output_type": "execute_result",
          "data": {
            "text/plain": [
              "<tf.Tensor: shape=(2, 3), dtype=int32, numpy=\n",
              "array([[ 7,  8,  9],\n",
              "       [10, 11, 12]], dtype=int32)>"
            ]
          },
          "metadata": {},
          "execution_count": 12
        }
      ]
    },
    {
      "cell_type": "code",
      "source": [
        "#Try to multiply X by reshaped Y\n",
        "x @ tf.reshape(y,shape=(2,3))"
      ],
      "metadata": {
        "colab": {
          "base_uri": "https://localhost:8080/"
        },
        "id": "3ZxXwWhiJNE3",
        "outputId": "674a7a62-9c30-4fed-af4f-965f2c9bf29d"
      },
      "execution_count": null,
      "outputs": [
        {
          "output_type": "execute_result",
          "data": {
            "text/plain": [
              "<tf.Tensor: shape=(3, 3), dtype=int32, numpy=\n",
              "array([[ 27,  30,  33],\n",
              "       [ 61,  68,  75],\n",
              "       [ 95, 106, 117]], dtype=int32)>"
            ]
          },
          "metadata": {},
          "execution_count": 13
        }
      ]
    },
    {
      "cell_type": "code",
      "source": [
        "x.shape , tf.reshape(y,shape=(2,3)).shape"
      ],
      "metadata": {
        "colab": {
          "base_uri": "https://localhost:8080/"
        },
        "id": "gX6TE2nuJU3a",
        "outputId": "008e61d1-6fa1-455d-c20b-44a8ed739b38"
      },
      "execution_count": null,
      "outputs": [
        {
          "output_type": "execute_result",
          "data": {
            "text/plain": [
              "(TensorShape([3, 2]), TensorShape([2, 3]))"
            ]
          },
          "metadata": {},
          "execution_count": 15
        }
      ]
    },
    {
      "cell_type": "code",
      "source": [
        "tf.matmul(x,tf.reshape(y,shape=(2,3)))"
      ],
      "metadata": {
        "colab": {
          "base_uri": "https://localhost:8080/"
        },
        "id": "kJbP1CE4KlIY",
        "outputId": "dc3a9527-8687-4aa1-fec4-18e5d09cdaa9"
      },
      "execution_count": null,
      "outputs": [
        {
          "output_type": "execute_result",
          "data": {
            "text/plain": [
              "<tf.Tensor: shape=(3, 3), dtype=int32, numpy=\n",
              "array([[ 27,  30,  33],\n",
              "       [ 61,  68,  75],\n",
              "       [ 95, 106, 117]], dtype=int32)>"
            ]
          },
          "metadata": {},
          "execution_count": 16
        }
      ]
    },
    {
      "cell_type": "code",
      "source": [
        "#Try changing the shape of x instead of y\n",
        "tf.matmul(tf.reshape(x,shape=(2,3)),y)"
      ],
      "metadata": {
        "colab": {
          "base_uri": "https://localhost:8080/"
        },
        "id": "JwR5wWeIKtuA",
        "outputId": "1f0918e1-5ddf-4a71-b704-4efaccb19261"
      },
      "execution_count": null,
      "outputs": [
        {
          "output_type": "execute_result",
          "data": {
            "text/plain": [
              "<tf.Tensor: shape=(2, 2), dtype=int32, numpy=\n",
              "array([[ 58,  64],\n",
              "       [139, 154]], dtype=int32)>"
            ]
          },
          "metadata": {},
          "execution_count": 18
        }
      ]
    },
    {
      "cell_type": "code",
      "source": [
        "tf.reshape(x,shape=(2,3)).shape,y.shape"
      ],
      "metadata": {
        "colab": {
          "base_uri": "https://localhost:8080/"
        },
        "id": "lCR1UQFaK8vw",
        "outputId": "b6e06579-bb97-468b-beb7-86284a48788c"
      },
      "execution_count": null,
      "outputs": [
        {
          "output_type": "execute_result",
          "data": {
            "text/plain": [
              "(TensorShape([2, 3]), TensorShape([3, 2]))"
            ]
          },
          "metadata": {},
          "execution_count": 19
        }
      ]
    },
    {
      "cell_type": "code",
      "source": [
        "#can do the same with transpose\n",
        "x,tf.transpose(x),tf.reshape(x,shape=(2,3))"
      ],
      "metadata": {
        "colab": {
          "base_uri": "https://localhost:8080/"
        },
        "id": "EgtqI-CTLtr4",
        "outputId": "2f7380a9-bb1b-4840-948d-2a844c1b14cf"
      },
      "execution_count": null,
      "outputs": [
        {
          "output_type": "execute_result",
          "data": {
            "text/plain": [
              "(<tf.Tensor: shape=(3, 2), dtype=int32, numpy=\n",
              " array([[1, 2],\n",
              "        [3, 4],\n",
              "        [5, 6]], dtype=int32)>, <tf.Tensor: shape=(2, 3), dtype=int32, numpy=\n",
              " array([[1, 3, 5],\n",
              "        [2, 4, 6]], dtype=int32)>, <tf.Tensor: shape=(2, 3), dtype=int32, numpy=\n",
              " array([[1, 2, 3],\n",
              "        [4, 5, 6]], dtype=int32)>)"
            ]
          },
          "metadata": {},
          "execution_count": 21
        }
      ]
    },
    {
      "cell_type": "code",
      "source": [
        "#Try matrix multiplication with transpose rather than reshape\n",
        "tf.matmul(tf.transpose(x),y)"
      ],
      "metadata": {
        "colab": {
          "base_uri": "https://localhost:8080/"
        },
        "id": "qlMiVZjYMICI",
        "outputId": "0e94fdc5-ca92-447e-e367-c4da1737c697"
      },
      "execution_count": null,
      "outputs": [
        {
          "output_type": "execute_result",
          "data": {
            "text/plain": [
              "<tf.Tensor: shape=(2, 2), dtype=int32, numpy=\n",
              "array([[ 89,  98],\n",
              "       [116, 128]], dtype=int32)>"
            ]
          },
          "metadata": {},
          "execution_count": 22
        }
      ]
    },
    {
      "cell_type": "markdown",
      "source": [
        "**Dot Product**\n",
        "\n",
        "Matrix multiplication is also referred to as the dot product.\n",
        "\n",
        "You can perform matrix multiplication using: \n",
        "* `tf.matmul`\n",
        "* `tf.tensordot()`\n"
      ],
      "metadata": {
        "id": "0oI2hLtuMplJ"
      }
    },
    {
      "cell_type": "code",
      "source": [
        "x,y"
      ],
      "metadata": {
        "colab": {
          "base_uri": "https://localhost:8080/"
        },
        "id": "G53LNoukN8CF",
        "outputId": "14656f30-00b0-4394-cf47-751cce42abb2"
      },
      "execution_count": null,
      "outputs": [
        {
          "output_type": "execute_result",
          "data": {
            "text/plain": [
              "(<tf.Tensor: shape=(3, 2), dtype=int32, numpy=\n",
              " array([[1, 2],\n",
              "        [3, 4],\n",
              "        [5, 6]], dtype=int32)>, <tf.Tensor: shape=(3, 2), dtype=int32, numpy=\n",
              " array([[ 7,  8],\n",
              "        [ 9, 10],\n",
              "        [11, 12]], dtype=int32)>)"
            ]
          },
          "metadata": {},
          "execution_count": 23
        }
      ]
    },
    {
      "cell_type": "code",
      "source": [
        "# Perform the dot product on x and y (this requires x or y to be transposed)\n",
        "tf.tensordot(tf.transpose(x),y,axes=1)"
      ],
      "metadata": {
        "colab": {
          "base_uri": "https://localhost:8080/"
        },
        "id": "vOeTriTPNUCW",
        "outputId": "4b4d6179-2c38-4d6b-e4d7-86c40cd5b3bf"
      },
      "execution_count": null,
      "outputs": [
        {
          "output_type": "execute_result",
          "data": {
            "text/plain": [
              "<tf.Tensor: shape=(2, 2), dtype=int32, numpy=\n",
              "array([[ 89,  98],\n",
              "       [116, 128]], dtype=int32)>"
            ]
          },
          "metadata": {},
          "execution_count": 25
        }
      ]
    },
    {
      "cell_type": "code",
      "source": [
        "# Perform matrix multiplication between x and y (transposed)\n",
        "tf.matmul(x,tf.transpose(y))"
      ],
      "metadata": {
        "colab": {
          "base_uri": "https://localhost:8080/"
        },
        "id": "D5nagbxYN_hK",
        "outputId": "5352f0ac-8a02-48d4-fea8-313a75223cde"
      },
      "execution_count": null,
      "outputs": [
        {
          "output_type": "execute_result",
          "data": {
            "text/plain": [
              "<tf.Tensor: shape=(3, 3), dtype=int32, numpy=\n",
              "array([[ 23,  29,  35],\n",
              "       [ 53,  67,  81],\n",
              "       [ 83, 105, 127]], dtype=int32)>"
            ]
          },
          "metadata": {},
          "execution_count": 26
        }
      ]
    },
    {
      "cell_type": "code",
      "source": [
        "#Perform matrix multiplication between x and y (reshaped)\n",
        "tf.matmul(x,tf.reshape(y,shape=(2,3)))"
      ],
      "metadata": {
        "colab": {
          "base_uri": "https://localhost:8080/"
        },
        "id": "E2hQZQJETDcU",
        "outputId": "2089ac54-b065-44bd-e9a5-2d7f61c8f16f"
      },
      "execution_count": null,
      "outputs": [
        {
          "output_type": "execute_result",
          "data": {
            "text/plain": [
              "<tf.Tensor: shape=(3, 3), dtype=int32, numpy=\n",
              "array([[ 27,  30,  33],\n",
              "       [ 61,  68,  75],\n",
              "       [ 95, 106, 117]], dtype=int32)>"
            ]
          },
          "metadata": {},
          "execution_count": 28
        }
      ]
    },
    {
      "cell_type": "code",
      "source": [
        "# Check the values of y, reshape Y and transposed Y\n",
        "print(\"Normal Y:\")\n",
        "print(y,\"\\n\")\n",
        "print(\"Y reshaped to (2,3)\")\n",
        "print(tf.reshape(y,shape=(2,3)),\"\\n\")\n",
        "print(\"Y transposed\")\n",
        "print(tf.transpose(y),\"\\n\")"
      ],
      "metadata": {
        "colab": {
          "base_uri": "https://localhost:8080/"
        },
        "id": "4nijlo0hTtTz",
        "outputId": "bddc2e60-6c06-454a-af19-9d7af857173b"
      },
      "execution_count": null,
      "outputs": [
        {
          "output_type": "stream",
          "name": "stdout",
          "text": [
            "Normal Y:\n",
            "tf.Tensor(\n",
            "[[ 7  8]\n",
            " [ 9 10]\n",
            " [11 12]], shape=(3, 2), dtype=int32) \n",
            "\n",
            "Y reshaped to (2,3)\n",
            "tf.Tensor(\n",
            "[[ 7  8  9]\n",
            " [10 11 12]], shape=(2, 3), dtype=int32) \n",
            "\n",
            "Y transposed\n",
            "tf.Tensor(\n",
            "[[ 7  9 11]\n",
            " [ 8 10 12]], shape=(2, 3), dtype=int32) \n",
            "\n"
          ]
        }
      ]
    },
    {
      "cell_type": "code",
      "source": [
        "tf.matmul(x,tf.transpose(y))"
      ],
      "metadata": {
        "colab": {
          "base_uri": "https://localhost:8080/"
        },
        "id": "ER847YvrUXYB",
        "outputId": "e7f5730f-224a-49bc-edcd-5e6e04fa0ed2"
      },
      "execution_count": null,
      "outputs": [
        {
          "output_type": "execute_result",
          "data": {
            "text/plain": [
              "<tf.Tensor: shape=(3, 3), dtype=int32, numpy=\n",
              "array([[ 23,  29,  35],\n",
              "       [ 53,  67,  81],\n",
              "       [ 83, 105, 127]], dtype=int32)>"
            ]
          },
          "metadata": {},
          "execution_count": 32
        }
      ]
    },
    {
      "cell_type": "markdown",
      "source": [
        "Generally, when performing matrix multiplication on two tensors and one of the axes doesnt line up, you will transpose (rather than reshape) one of the tensors to get satisfy the matrix multiplication rules"
      ],
      "metadata": {
        "id": "f5AUBDU-Uz8O"
      }
    },
    {
      "cell_type": "markdown",
      "source": [
        "## **Changing the datatype of a tensor**"
      ],
      "metadata": {
        "id": "4IJr8ruCVUtn"
      }
    },
    {
      "cell_type": "code",
      "source": [
        "tf.__version__"
      ],
      "metadata": {
        "colab": {
          "base_uri": "https://localhost:8080/",
          "height": 35
        },
        "id": "eWfEpPUAWBOP",
        "outputId": "fa6cc1ca-fc23-4232-839b-a62facc0f029"
      },
      "execution_count": null,
      "outputs": [
        {
          "output_type": "execute_result",
          "data": {
            "text/plain": [
              "'2.11.0'"
            ],
            "application/vnd.google.colaboratory.intrinsic+json": {
              "type": "string"
            }
          },
          "metadata": {},
          "execution_count": 36
        }
      ]
    },
    {
      "cell_type": "code",
      "source": [
        "# Create a new tensor with default datatype (float32)\n",
        "B = tf.constant([1.7, 7.4])\n",
        "B.dtype"
      ],
      "metadata": {
        "colab": {
          "base_uri": "https://localhost:8080/"
        },
        "id": "JgaPZJcUVkM7",
        "outputId": "9fec66eb-c2a6-41b8-85ce-5693fc5ca809"
      },
      "execution_count": null,
      "outputs": [
        {
          "output_type": "execute_result",
          "data": {
            "text/plain": [
              "tf.float32"
            ]
          },
          "metadata": {},
          "execution_count": 34
        }
      ]
    },
    {
      "cell_type": "code",
      "source": [
        "C=tf.constant([7,10])\n",
        "C.dtype"
      ],
      "metadata": {
        "colab": {
          "base_uri": "https://localhost:8080/"
        },
        "id": "hTeNz8vBVw67",
        "outputId": "80f0d3f9-45f1-4903-b66c-3c57d3b015b3"
      },
      "execution_count": null,
      "outputs": [
        {
          "output_type": "execute_result",
          "data": {
            "text/plain": [
              "tf.int32"
            ]
          },
          "metadata": {},
          "execution_count": 35
        }
      ]
    },
    {
      "cell_type": "code",
      "source": [
        "# Change from float32 to float16 ( called reduced precision)\n",
        "D=tf.cast(B,dtype=tf.float16)\n",
        "D, B.dtype"
      ],
      "metadata": {
        "colab": {
          "base_uri": "https://localhost:8080/"
        },
        "id": "oXUnxNDlV2RS",
        "outputId": "97643882-7ccc-4065-c6e8-4f08ed051529"
      },
      "execution_count": null,
      "outputs": [
        {
          "output_type": "execute_result",
          "data": {
            "text/plain": [
              "(<tf.Tensor: shape=(2,), dtype=float16, numpy=array([1.7, 7.4], dtype=float16)>,\n",
              " tf.float16)"
            ]
          },
          "metadata": {},
          "execution_count": 38
        }
      ]
    },
    {
      "cell_type": "code",
      "source": [
        "# Change from int 32 to float 32\n",
        "E=tf.cast(C,dtype=tf.float32)\n",
        "E"
      ],
      "metadata": {
        "colab": {
          "base_uri": "https://localhost:8080/"
        },
        "id": "OHZaciC7cd4v",
        "outputId": "d2f8d122-e255-4dc9-c6c8-dede22f6fbd3"
      },
      "execution_count": null,
      "outputs": [
        {
          "output_type": "execute_result",
          "data": {
            "text/plain": [
              "<tf.Tensor: shape=(2,), dtype=float32, numpy=array([ 7., 10.], dtype=float32)>"
            ]
          },
          "metadata": {},
          "execution_count": 39
        }
      ]
    },
    {
      "cell_type": "code",
      "source": [
        "E_float=tf.cast(E,dtype=tf.float16)\n",
        "E_float"
      ],
      "metadata": {
        "colab": {
          "base_uri": "https://localhost:8080/"
        },
        "id": "8Dra6o4MeymS",
        "outputId": "1539015e-3eae-42c0-889b-b8e0f0ce930c"
      },
      "execution_count": null,
      "outputs": [
        {
          "output_type": "execute_result",
          "data": {
            "text/plain": [
              "<tf.Tensor: shape=(2,), dtype=float16, numpy=array([ 7., 10.], dtype=float16)>"
            ]
          },
          "metadata": {},
          "execution_count": 41
        }
      ]
    },
    {
      "cell_type": "markdown",
      "source": [
        "##**Aggregating tensor**\n",
        "\n",
        "Aggregating tensors = condensing from multiple values down to a smaller amount of values"
      ],
      "metadata": {
        "id": "u1A4t4cVe_GZ"
      }
    },
    {
      "cell_type": "code",
      "source": [
        "# Create a tensor\n",
        "D = tf.constant([-7,-10])\n",
        "D"
      ],
      "metadata": {
        "colab": {
          "base_uri": "https://localhost:8080/"
        },
        "id": "s_coAOW3fIMl",
        "outputId": "6a73d780-3984-4fe1-e729-7cc5c6bb8a10"
      },
      "execution_count": null,
      "outputs": [
        {
          "output_type": "execute_result",
          "data": {
            "text/plain": [
              "<tf.Tensor: shape=(2,), dtype=int32, numpy=array([ -7, -10], dtype=int32)>"
            ]
          },
          "metadata": {},
          "execution_count": 42
        }
      ]
    },
    {
      "cell_type": "code",
      "source": [
        "# Get the absolute values\n",
        "tf.abs(D)"
      ],
      "metadata": {
        "colab": {
          "base_uri": "https://localhost:8080/"
        },
        "id": "cKqm__-7gLR-",
        "outputId": "99b19d57-8229-4b9d-cfbd-08e055b476e1"
      },
      "execution_count": null,
      "outputs": [
        {
          "output_type": "execute_result",
          "data": {
            "text/plain": [
              "<tf.Tensor: shape=(2,), dtype=int32, numpy=array([ 7, 10], dtype=int32)>"
            ]
          },
          "metadata": {},
          "execution_count": 43
        }
      ]
    },
    {
      "cell_type": "markdown",
      "source": [
        "Let's go through the following forms of aggregation:\n",
        "\n",
        "* Get the minimum\n",
        "* Get the maximum\n",
        "* Get the mean of a tensor\n",
        "* Get the sum of the tensor"
      ],
      "metadata": {
        "id": "mED02Vk6gPLz"
      }
    },
    {
      "cell_type": "code",
      "source": [
        "# Create a random tensor with values between 0 and 100 of size 50\n",
        "E=tf.constant(np.random.randint(0,100, size=50))\n",
        "E"
      ],
      "metadata": {
        "colab": {
          "base_uri": "https://localhost:8080/"
        },
        "id": "x4qquXPDhETW",
        "outputId": "55b91ed2-ca78-49d4-8b39-d3d959b33d40"
      },
      "execution_count": null,
      "outputs": [
        {
          "output_type": "execute_result",
          "data": {
            "text/plain": [
              "<tf.Tensor: shape=(50,), dtype=int64, numpy=\n",
              "array([22, 23, 28, 94, 10, 57, 39,  4, 19, 41, 44, 20, 81, 59, 39,  9, 72,\n",
              "        6, 89, 93, 67, 77,  2, 30, 92,  3, 96, 48, 62,  5, 68, 89, 15, 29,\n",
              "       36, 46, 83,  9, 22, 28, 69, 25, 83, 26, 16, 50, 51, 30, 10, 67])>"
            ]
          },
          "metadata": {},
          "execution_count": 49
        }
      ]
    },
    {
      "cell_type": "code",
      "source": [
        "# Details about the tensor\n",
        "tf.size(E), tf.shape(E), E.ndim"
      ],
      "metadata": {
        "colab": {
          "base_uri": "https://localhost:8080/"
        },
        "id": "At5EOy1CgeVf",
        "outputId": "f2b30e95-9298-46d8-ba60-e6d1bc961454"
      },
      "execution_count": null,
      "outputs": [
        {
          "output_type": "execute_result",
          "data": {
            "text/plain": [
              "(<tf.Tensor: shape=(), dtype=int32, numpy=50>,\n",
              " <tf.Tensor: shape=(1,), dtype=int32, numpy=array([50], dtype=int32)>,\n",
              " 1)"
            ]
          },
          "metadata": {},
          "execution_count": 52
        }
      ]
    },
    {
      "cell_type": "code",
      "source": [
        "#Find the minimum \n",
        "tf.reduce_min(E)"
      ],
      "metadata": {
        "colab": {
          "base_uri": "https://localhost:8080/"
        },
        "id": "252RKETlgxfz",
        "outputId": "fc8250ca-e8b5-40b4-868b-8d24f41efab1"
      },
      "execution_count": null,
      "outputs": [
        {
          "output_type": "execute_result",
          "data": {
            "text/plain": [
              "<tf.Tensor: shape=(), dtype=int64, numpy=2>"
            ]
          },
          "metadata": {},
          "execution_count": 53
        }
      ]
    },
    {
      "cell_type": "code",
      "source": [
        "# Find the maximum of a tensor\n",
        "tf.reduce_max(E)"
      ],
      "metadata": {
        "colab": {
          "base_uri": "https://localhost:8080/"
        },
        "id": "QIAjRhhsg-9Y",
        "outputId": "80961114-c769-473e-aff6-691f95edc739"
      },
      "execution_count": null,
      "outputs": [
        {
          "output_type": "execute_result",
          "data": {
            "text/plain": [
              "<tf.Tensor: shape=(), dtype=int64, numpy=96>"
            ]
          },
          "metadata": {},
          "execution_count": 55
        }
      ]
    },
    {
      "cell_type": "code",
      "source": [
        "# Find the mean\n",
        "tf.reduce_mean(E)"
      ],
      "metadata": {
        "colab": {
          "base_uri": "https://localhost:8080/"
        },
        "id": "xXfnAuvJiC97",
        "outputId": "cc5f3481-e490-47f1-8d70-246cf5f78191"
      },
      "execution_count": null,
      "outputs": [
        {
          "output_type": "execute_result",
          "data": {
            "text/plain": [
              "<tf.Tensor: shape=(), dtype=int64, numpy=43>"
            ]
          },
          "metadata": {},
          "execution_count": 56
        }
      ]
    },
    {
      "cell_type": "code",
      "source": [
        "# Find the sum \n",
        "tf.reduce_sum(E)"
      ],
      "metadata": {
        "colab": {
          "base_uri": "https://localhost:8080/"
        },
        "id": "7qgwj-auiH8Y",
        "outputId": "7e5849cc-9ee8-497c-8017-cdf6e5fe97a7"
      },
      "execution_count": null,
      "outputs": [
        {
          "output_type": "execute_result",
          "data": {
            "text/plain": [
              "<tf.Tensor: shape=(), dtype=int64, numpy=2183>"
            ]
          },
          "metadata": {},
          "execution_count": 57
        }
      ]
    },
    {
      "cell_type": "code",
      "source": [
        "#Find the variance and standard deviation of the tensor\n",
        "#tf.reduce_std(E) #wont work\n",
        "tf.math.reduce_variance(tf.cast(E,dtype=tf.float32)) # this works but if you want to work with tfp then go with tfp else use this"
      ],
      "metadata": {
        "colab": {
          "base_uri": "https://localhost:8080/"
        },
        "id": "nGA36RpmiLbN",
        "outputId": "9327c69b-daf8-44b2-e68c-e1c45a2632fc"
      },
      "execution_count": null,
      "outputs": [
        {
          "output_type": "execute_result",
          "data": {
            "text/plain": [
              "<tf.Tensor: shape=(), dtype=float32, numpy=845.2644>"
            ]
          },
          "metadata": {},
          "execution_count": 71
        }
      ]
    },
    {
      "cell_type": "code",
      "source": [
        "import tensorflow_probability as tfp"
      ],
      "metadata": {
        "id": "2xs-Q-iCieLf"
      },
      "execution_count": null,
      "outputs": []
    },
    {
      "cell_type": "code",
      "source": [
        "# find the variance of our tensor we need the access to tensorflow_probability\n",
        "tfp.stats.variance(E)"
      ],
      "metadata": {
        "colab": {
          "base_uri": "https://localhost:8080/"
        },
        "id": "MroSJw5KjKV9",
        "outputId": "5690665a-6472-414e-cb26-fef434ad1b35"
      },
      "execution_count": null,
      "outputs": [
        {
          "output_type": "execute_result",
          "data": {
            "text/plain": [
              "<tf.Tensor: shape=(), dtype=int64, numpy=845>"
            ]
          },
          "metadata": {},
          "execution_count": 62
        }
      ]
    },
    {
      "cell_type": "code",
      "source": [
        "# Find the standard deviation \n",
        "tf.math.reduce_std(tf.cast(E,dtype=tf.float32))"
      ],
      "metadata": {
        "colab": {
          "base_uri": "https://localhost:8080/"
        },
        "id": "t108RH8JjOQC",
        "outputId": "3a26f6a7-1a44-45c3-d032-6212d37d3196"
      },
      "execution_count": null,
      "outputs": [
        {
          "output_type": "execute_result",
          "data": {
            "text/plain": [
              "<tf.Tensor: shape=(), dtype=float32, numpy=29.073431>"
            ]
          },
          "metadata": {},
          "execution_count": 65
        }
      ]
    },
    {
      "cell_type": "markdown",
      "source": [
        "**Find the positional Maximum and Minimum**\n",
        "\n"
      ],
      "metadata": {
        "id": "6nm7V_ROjcoH"
      }
    },
    {
      "cell_type": "code",
      "source": [
        "#Create a new tensor for finding the positional minimum and maximum\n",
        "tf.random.set_seed(43)\n",
        "F=tf.random.uniform(shape=[50])\n",
        "F"
      ],
      "metadata": {
        "colab": {
          "base_uri": "https://localhost:8080/"
        },
        "id": "RH3Dv54ckUw6",
        "outputId": "6860a4bb-3cc1-440b-a15a-7aac6facb72b"
      },
      "execution_count": null,
      "outputs": [
        {
          "output_type": "execute_result",
          "data": {
            "text/plain": [
              "<tf.Tensor: shape=(50,), dtype=float32, numpy=\n",
              "array([0.2733041 , 0.5020257 , 0.6628481 , 0.6473899 , 0.3857293 ,\n",
              "       0.36172044, 0.5412978 , 0.48597205, 0.8773687 , 0.19192028,\n",
              "       0.9264002 , 0.89626896, 0.6672703 , 0.47216296, 0.22052324,\n",
              "       0.88224113, 0.21332026, 0.3742751 , 0.6198429 , 0.67401516,\n",
              "       0.33629417, 0.04864144, 0.00223255, 0.9375315 , 0.1595205 ,\n",
              "       0.76488817, 0.5631764 , 0.48775423, 0.4250028 , 0.29910493,\n",
              "       0.8409952 , 0.6727512 , 0.00153816, 0.4085456 , 0.9261861 ,\n",
              "       0.18742752, 0.60272205, 0.99417937, 0.42423892, 0.27978897,\n",
              "       0.9430332 , 0.80545497, 0.06359637, 0.56783044, 0.26592016,\n",
              "       0.98973536, 0.5452112 , 0.11514163, 0.53635466, 0.6935723 ],\n",
              "      dtype=float32)>"
            ]
          },
          "metadata": {},
          "execution_count": 74
        }
      ]
    },
    {
      "cell_type": "code",
      "source": [
        "# Find the positional maximum\n",
        "tf.argmax(F)"
      ],
      "metadata": {
        "colab": {
          "base_uri": "https://localhost:8080/"
        },
        "id": "3Tk5cGpSly-k",
        "outputId": "adba2812-b9f9-4ae9-d4da-daf93955aee3"
      },
      "execution_count": null,
      "outputs": [
        {
          "output_type": "execute_result",
          "data": {
            "text/plain": [
              "<tf.Tensor: shape=(), dtype=int64, numpy=37>"
            ]
          },
          "metadata": {},
          "execution_count": 75
        }
      ]
    },
    {
      "cell_type": "code",
      "source": [
        "# Index on our largest value postion\n",
        "F[tf.argmax(F)]"
      ],
      "metadata": {
        "colab": {
          "base_uri": "https://localhost:8080/"
        },
        "id": "9q_2PxY9mQdv",
        "outputId": "3cffb3dd-aeb5-46fc-bd95-45fa3538abb5"
      },
      "execution_count": null,
      "outputs": [
        {
          "output_type": "execute_result",
          "data": {
            "text/plain": [
              "<tf.Tensor: shape=(), dtype=float32, numpy=0.99417937>"
            ]
          },
          "metadata": {},
          "execution_count": 76
        }
      ]
    },
    {
      "cell_type": "code",
      "source": [
        "#Find the max value of F\n",
        "tf.reduce_max(F)"
      ],
      "metadata": {
        "colab": {
          "base_uri": "https://localhost:8080/"
        },
        "id": "h4nwOt4FmcIX",
        "outputId": "a3c859e4-6242-40c9-a329-062b4f610dbf"
      },
      "execution_count": null,
      "outputs": [
        {
          "output_type": "execute_result",
          "data": {
            "text/plain": [
              "<tf.Tensor: shape=(), dtype=float32, numpy=0.99417937>"
            ]
          },
          "metadata": {},
          "execution_count": 77
        }
      ]
    },
    {
      "cell_type": "code",
      "source": [
        "# Check for equality\n",
        "F[tf.argmax(F)]==tf.reduce_max(F)"
      ],
      "metadata": {
        "colab": {
          "base_uri": "https://localhost:8080/"
        },
        "id": "4ZtyF5EWmhAD",
        "outputId": "fe6c486d-cce5-4520-e0f8-01d75c8a3990"
      },
      "execution_count": null,
      "outputs": [
        {
          "output_type": "execute_result",
          "data": {
            "text/plain": [
              "<tf.Tensor: shape=(), dtype=bool, numpy=True>"
            ]
          },
          "metadata": {},
          "execution_count": 79
        }
      ]
    },
    {
      "cell_type": "code",
      "source": [
        "# FInd the positional minimum\n",
        "tf.argmin(F)"
      ],
      "metadata": {
        "colab": {
          "base_uri": "https://localhost:8080/"
        },
        "id": "iGWcq2axmrq5",
        "outputId": "773e1219-cd0a-4354-bdf5-a3a51020c2e4"
      },
      "execution_count": null,
      "outputs": [
        {
          "output_type": "execute_result",
          "data": {
            "text/plain": [
              "<tf.Tensor: shape=(), dtype=int64, numpy=32>"
            ]
          },
          "metadata": {},
          "execution_count": 80
        }
      ]
    },
    {
      "cell_type": "code",
      "source": [
        "#Index of the minimum value position\n",
        "F[tf.argmin(F)]"
      ],
      "metadata": {
        "colab": {
          "base_uri": "https://localhost:8080/"
        },
        "id": "QlMQreZim8UW",
        "outputId": "ea45a468-defb-4ee5-a195-e71bd2e914c4"
      },
      "execution_count": null,
      "outputs": [
        {
          "output_type": "execute_result",
          "data": {
            "text/plain": [
              "<tf.Tensor: shape=(), dtype=float32, numpy=0.0015381575>"
            ]
          },
          "metadata": {},
          "execution_count": 81
        }
      ]
    },
    {
      "cell_type": "markdown",
      "source": [
        "## **Squeezing a tensor (Removing all single dimensions)**"
      ],
      "metadata": {
        "id": "zZE0XbHym-GJ"
      }
    },
    {
      "cell_type": "code",
      "source": [
        "# Create a tensor to get started\n",
        "tf.random.set_seed(42)\n",
        "G=tf.constant(tf.random.uniform(shape=[50]),shape=(1,1,1,1,50))\n",
        "G"
      ],
      "metadata": {
        "colab": {
          "base_uri": "https://localhost:8080/"
        },
        "id": "SgiKpG56nWxV",
        "outputId": "2ed0821e-4e6b-4898-de8e-4f8b2b19423c"
      },
      "execution_count": null,
      "outputs": [
        {
          "output_type": "execute_result",
          "data": {
            "text/plain": [
              "<tf.Tensor: shape=(1, 1, 1, 1, 50), dtype=float32, numpy=\n",
              "array([[[[[0.6645621 , 0.44100678, 0.3528825 , 0.46448255, 0.03366041,\n",
              "           0.68467236, 0.74011743, 0.8724445 , 0.22632635, 0.22319686,\n",
              "           0.3103881 , 0.7223358 , 0.13318717, 0.5480639 , 0.5746088 ,\n",
              "           0.8996835 , 0.00946367, 0.5212307 , 0.6345445 , 0.1993283 ,\n",
              "           0.72942245, 0.54583454, 0.10756552, 0.6767061 , 0.6602763 ,\n",
              "           0.33695042, 0.60141766, 0.21062577, 0.8527372 , 0.44062173,\n",
              "           0.9485276 , 0.23752594, 0.81179297, 0.5263394 , 0.494308  ,\n",
              "           0.21612847, 0.8457197 , 0.8718841 , 0.3083862 , 0.6868038 ,\n",
              "           0.23764038, 0.7817228 , 0.9671384 , 0.06870162, 0.79873943,\n",
              "           0.66028714, 0.5871513 , 0.16461694, 0.7381023 , 0.32054043]]]]],\n",
              "      dtype=float32)>"
            ]
          },
          "metadata": {},
          "execution_count": 83
        }
      ]
    },
    {
      "cell_type": "code",
      "source": [
        "G.shape"
      ],
      "metadata": {
        "colab": {
          "base_uri": "https://localhost:8080/"
        },
        "id": "57iHm9RjnkMj",
        "outputId": "52e6fc8e-6e0a-4810-940f-08e1d16538a1"
      },
      "execution_count": null,
      "outputs": [
        {
          "output_type": "execute_result",
          "data": {
            "text/plain": [
              "TensorShape([1, 1, 1, 1, 50])"
            ]
          },
          "metadata": {},
          "execution_count": 84
        }
      ]
    },
    {
      "cell_type": "code",
      "source": [
        "G_squeezed = tf.squeeze(G)\n",
        "G_squeezed"
      ],
      "metadata": {
        "colab": {
          "base_uri": "https://localhost:8080/"
        },
        "id": "yxnREEfknxYw",
        "outputId": "f4d918aa-0ee9-4418-d398-f00066132422"
      },
      "execution_count": null,
      "outputs": [
        {
          "output_type": "execute_result",
          "data": {
            "text/plain": [
              "<tf.Tensor: shape=(50,), dtype=float32, numpy=\n",
              "array([0.6645621 , 0.44100678, 0.3528825 , 0.46448255, 0.03366041,\n",
              "       0.68467236, 0.74011743, 0.8724445 , 0.22632635, 0.22319686,\n",
              "       0.3103881 , 0.7223358 , 0.13318717, 0.5480639 , 0.5746088 ,\n",
              "       0.8996835 , 0.00946367, 0.5212307 , 0.6345445 , 0.1993283 ,\n",
              "       0.72942245, 0.54583454, 0.10756552, 0.6767061 , 0.6602763 ,\n",
              "       0.33695042, 0.60141766, 0.21062577, 0.8527372 , 0.44062173,\n",
              "       0.9485276 , 0.23752594, 0.81179297, 0.5263394 , 0.494308  ,\n",
              "       0.21612847, 0.8457197 , 0.8718841 , 0.3083862 , 0.6868038 ,\n",
              "       0.23764038, 0.7817228 , 0.9671384 , 0.06870162, 0.79873943,\n",
              "       0.66028714, 0.5871513 , 0.16461694, 0.7381023 , 0.32054043],\n",
              "      dtype=float32)>"
            ]
          },
          "metadata": {},
          "execution_count": 88
        }
      ]
    },
    {
      "cell_type": "markdown",
      "source": [
        "##**One Hot encoding**\n",
        "\n"
      ],
      "metadata": {
        "id": "qeDeREyrn3Z4"
      }
    },
    {
      "cell_type": "code",
      "source": [
        "# Create a list of indices\n",
        "some_list=[0,1,2,3]# coould be red, green, blue, purple\n",
        "\n",
        "# One hot encode list of indices\n",
        "tf.one_hot(some_list,depth=4)"
      ],
      "metadata": {
        "colab": {
          "base_uri": "https://localhost:8080/"
        },
        "id": "2jMMchW_BuoX",
        "outputId": "c4bab677-fdb2-43f6-b174-98b8eb469d7e"
      },
      "execution_count": null,
      "outputs": [
        {
          "output_type": "execute_result",
          "data": {
            "text/plain": [
              "<tf.Tensor: shape=(4, 4), dtype=float32, numpy=\n",
              "array([[1., 0., 0., 0.],\n",
              "       [0., 1., 0., 0.],\n",
              "       [0., 0., 1., 0.],\n",
              "       [0., 0., 0., 1.]], dtype=float32)>"
            ]
          },
          "metadata": {},
          "execution_count": 3
        }
      ]
    },
    {
      "cell_type": "code",
      "source": [
        "# Specify custom values for one hot encoding\n",
        "tf.one_hot(some_list,depth=4,on_value='blue',off_value=\"red\")"
      ],
      "metadata": {
        "colab": {
          "base_uri": "https://localhost:8080/"
        },
        "id": "VdxugR8rCUoT",
        "outputId": "a020714d-624c-456c-a075-7e86021613f1"
      },
      "execution_count": null,
      "outputs": [
        {
          "output_type": "execute_result",
          "data": {
            "text/plain": [
              "<tf.Tensor: shape=(4, 4), dtype=string, numpy=\n",
              "array([[b'blue', b'red', b'red', b'red'],\n",
              "       [b'red', b'blue', b'red', b'red'],\n",
              "       [b'red', b'red', b'blue', b'red'],\n",
              "       [b'red', b'red', b'red', b'blue']], dtype=object)>"
            ]
          },
          "metadata": {},
          "execution_count": 4
        }
      ]
    },
    {
      "cell_type": "code",
      "source": [],
      "metadata": {
        "id": "M7Z7t3kHDXbk"
      },
      "execution_count": null,
      "outputs": []
    },
    {
      "cell_type": "markdown",
      "source": [
        "##**Squaring,log,square root**"
      ],
      "metadata": {
        "id": "ClLIYvfHEAv8"
      }
    },
    {
      "cell_type": "code",
      "source": [
        "#Create a new tensor\n",
        "H=tf.range(1,10)\n",
        "H"
      ],
      "metadata": {
        "colab": {
          "base_uri": "https://localhost:8080/"
        },
        "id": "EXT2v5oWEIkV",
        "outputId": "5d9123ad-5251-48f5-dae7-324cbe4f2140"
      },
      "execution_count": null,
      "outputs": [
        {
          "output_type": "execute_result",
          "data": {
            "text/plain": [
              "<tf.Tensor: shape=(9,), dtype=int32, numpy=array([1, 2, 3, 4, 5, 6, 7, 8, 9], dtype=int32)>"
            ]
          },
          "metadata": {},
          "execution_count": 5
        }
      ]
    },
    {
      "cell_type": "code",
      "source": [
        "#Square it\n",
        "tf.square(H)"
      ],
      "metadata": {
        "colab": {
          "base_uri": "https://localhost:8080/"
        },
        "id": "djpGrYbhEPn5",
        "outputId": "c9c7f1a6-2f4b-46f2-f604-93f6d8032b1f"
      },
      "execution_count": null,
      "outputs": [
        {
          "output_type": "execute_result",
          "data": {
            "text/plain": [
              "<tf.Tensor: shape=(9,), dtype=int32, numpy=array([ 1,  4,  9, 16, 25, 36, 49, 64, 81], dtype=int32)>"
            ]
          },
          "metadata": {},
          "execution_count": 7
        }
      ]
    },
    {
      "cell_type": "code",
      "source": [
        "#Find the squareroot (will errorm method require non-int type)\n",
        "tf.sqrt(H)"
      ],
      "metadata": {
        "colab": {
          "base_uri": "https://localhost:8080/",
          "height": 433
        },
        "id": "2iTJLp7bEmdO",
        "outputId": "d529221b-a5d3-44b8-86fe-cc4cbb5d3214"
      },
      "execution_count": null,
      "outputs": [
        {
          "output_type": "error",
          "ename": "InvalidArgumentError",
          "evalue": "ignored",
          "traceback": [
            "\u001b[0;31m---------------------------------------------------------------------------\u001b[0m",
            "\u001b[0;31mInvalidArgumentError\u001b[0m                      Traceback (most recent call last)",
            "\u001b[0;32m<ipython-input-9-a7fe4dcbc656>\u001b[0m in \u001b[0;36m<module>\u001b[0;34m\u001b[0m\n\u001b[1;32m      1\u001b[0m \u001b[0;31m#Find the squareroot (will errorm method require non-int type)\u001b[0m\u001b[0;34m\u001b[0m\u001b[0;34m\u001b[0m\u001b[0;34m\u001b[0m\u001b[0m\n\u001b[0;32m----> 2\u001b[0;31m \u001b[0mtf\u001b[0m\u001b[0;34m.\u001b[0m\u001b[0msqrt\u001b[0m\u001b[0;34m(\u001b[0m\u001b[0mH\u001b[0m\u001b[0;34m)\u001b[0m\u001b[0;34m\u001b[0m\u001b[0;34m\u001b[0m\u001b[0m\n\u001b[0m",
            "\u001b[0;32m/usr/local/lib/python3.8/dist-packages/tensorflow/python/util/traceback_utils.py\u001b[0m in \u001b[0;36merror_handler\u001b[0;34m(*args, **kwargs)\u001b[0m\n\u001b[1;32m    151\u001b[0m     \u001b[0;32mexcept\u001b[0m \u001b[0mException\u001b[0m \u001b[0;32mas\u001b[0m \u001b[0me\u001b[0m\u001b[0;34m:\u001b[0m\u001b[0;34m\u001b[0m\u001b[0;34m\u001b[0m\u001b[0m\n\u001b[1;32m    152\u001b[0m       \u001b[0mfiltered_tb\u001b[0m \u001b[0;34m=\u001b[0m \u001b[0m_process_traceback_frames\u001b[0m\u001b[0;34m(\u001b[0m\u001b[0me\u001b[0m\u001b[0;34m.\u001b[0m\u001b[0m__traceback__\u001b[0m\u001b[0;34m)\u001b[0m\u001b[0;34m\u001b[0m\u001b[0;34m\u001b[0m\u001b[0m\n\u001b[0;32m--> 153\u001b[0;31m       \u001b[0;32mraise\u001b[0m \u001b[0me\u001b[0m\u001b[0;34m.\u001b[0m\u001b[0mwith_traceback\u001b[0m\u001b[0;34m(\u001b[0m\u001b[0mfiltered_tb\u001b[0m\u001b[0;34m)\u001b[0m \u001b[0;32mfrom\u001b[0m \u001b[0;32mNone\u001b[0m\u001b[0;34m\u001b[0m\u001b[0;34m\u001b[0m\u001b[0m\n\u001b[0m\u001b[1;32m    154\u001b[0m     \u001b[0;32mfinally\u001b[0m\u001b[0;34m:\u001b[0m\u001b[0;34m\u001b[0m\u001b[0;34m\u001b[0m\u001b[0m\n\u001b[1;32m    155\u001b[0m       \u001b[0;32mdel\u001b[0m \u001b[0mfiltered_tb\u001b[0m\u001b[0;34m\u001b[0m\u001b[0;34m\u001b[0m\u001b[0m\n",
            "\u001b[0;32m/usr/local/lib/python3.8/dist-packages/tensorflow/python/framework/ops.py\u001b[0m in \u001b[0;36mraise_from_not_ok_status\u001b[0;34m(e, name)\u001b[0m\n\u001b[1;32m   7213\u001b[0m \u001b[0;32mdef\u001b[0m \u001b[0mraise_from_not_ok_status\u001b[0m\u001b[0;34m(\u001b[0m\u001b[0me\u001b[0m\u001b[0;34m,\u001b[0m \u001b[0mname\u001b[0m\u001b[0;34m)\u001b[0m\u001b[0;34m:\u001b[0m\u001b[0;34m\u001b[0m\u001b[0;34m\u001b[0m\u001b[0m\n\u001b[1;32m   7214\u001b[0m   \u001b[0me\u001b[0m\u001b[0;34m.\u001b[0m\u001b[0mmessage\u001b[0m \u001b[0;34m+=\u001b[0m \u001b[0;34m(\u001b[0m\u001b[0;34m\" name: \"\u001b[0m \u001b[0;34m+\u001b[0m \u001b[0mname\u001b[0m \u001b[0;32mif\u001b[0m \u001b[0mname\u001b[0m \u001b[0;32mis\u001b[0m \u001b[0;32mnot\u001b[0m \u001b[0;32mNone\u001b[0m \u001b[0;32melse\u001b[0m \u001b[0;34m\"\"\u001b[0m\u001b[0;34m)\u001b[0m\u001b[0;34m\u001b[0m\u001b[0;34m\u001b[0m\u001b[0m\n\u001b[0;32m-> 7215\u001b[0;31m   \u001b[0;32mraise\u001b[0m \u001b[0mcore\u001b[0m\u001b[0;34m.\u001b[0m\u001b[0m_status_to_exception\u001b[0m\u001b[0;34m(\u001b[0m\u001b[0me\u001b[0m\u001b[0;34m)\u001b[0m \u001b[0;32mfrom\u001b[0m \u001b[0;32mNone\u001b[0m  \u001b[0;31m# pylint: disable=protected-access\u001b[0m\u001b[0;34m\u001b[0m\u001b[0;34m\u001b[0m\u001b[0m\n\u001b[0m\u001b[1;32m   7216\u001b[0m \u001b[0;34m\u001b[0m\u001b[0m\n\u001b[1;32m   7217\u001b[0m \u001b[0;34m\u001b[0m\u001b[0m\n",
            "\u001b[0;31mInvalidArgumentError\u001b[0m: Value for attr 'T' of int32 is not in the list of allowed values: bfloat16, half, float, double, complex64, complex128\n\t; NodeDef: {{node Sqrt}}; Op<name=Sqrt; signature=x:T -> y:T; attr=T:type,allowed=[DT_BFLOAT16, DT_HALF, DT_FLOAT, DT_DOUBLE, DT_COMPLEX64, DT_COMPLEX128]> [Op:Sqrt]"
          ]
        }
      ]
    },
    {
      "cell_type": "code",
      "source": [
        "#Find the square root\n",
        "tf.sqrt(tf.cast(H,dtype=tf.float32))"
      ],
      "metadata": {
        "colab": {
          "base_uri": "https://localhost:8080/"
        },
        "id": "CrQ-wKLTES_U",
        "outputId": "ec797f62-a68c-499f-9963-f48b4311c7ff"
      },
      "execution_count": null,
      "outputs": [
        {
          "output_type": "execute_result",
          "data": {
            "text/plain": [
              "<tf.Tensor: shape=(9,), dtype=float32, numpy=\n",
              "array([1.       , 1.4142135, 1.7320508, 2.       , 2.236068 , 2.4494898,\n",
              "       2.6457512, 2.828427 , 3.       ], dtype=float32)>"
            ]
          },
          "metadata": {},
          "execution_count": 8
        }
      ]
    },
    {
      "cell_type": "code",
      "source": [
        "# Find the log ( this give an error, change the dtype to allowed dtype)\n",
        "tf.math.log(H)"
      ],
      "metadata": {
        "id": "Mkzp1TXfE-jc"
      },
      "execution_count": null,
      "outputs": []
    },
    {
      "cell_type": "code",
      "source": [
        "#Find the log\n",
        "tf.math.log(tf.cast(H,dtype=tf.float32))"
      ],
      "metadata": {
        "colab": {
          "base_uri": "https://localhost:8080/"
        },
        "id": "z44w8qfKErkO",
        "outputId": "190a904c-ecac-4a89-e183-4730ca481682"
      },
      "execution_count": null,
      "outputs": [
        {
          "output_type": "execute_result",
          "data": {
            "text/plain": [
              "<tf.Tensor: shape=(9,), dtype=float32, numpy=\n",
              "array([0.       , 0.6931472, 1.0986123, 1.3862944, 1.609438 , 1.7917595,\n",
              "       1.9459102, 2.0794415, 2.1972246], dtype=float32)>"
            ]
          },
          "metadata": {},
          "execution_count": 11
        }
      ]
    },
    {
      "cell_type": "markdown",
      "source": [
        "## **Tensors and NumPy**\n",
        "\n",
        "TensorFlow interacts beautifully with NumPy arrays.\n",
        "\n",
        "🔑 **Note:** One of the main differences between a TensorFlow tensor and NumPy array is that TensorFlow tensor can be run on a GPU or TPU (for faster numerical processing)"
      ],
      "metadata": {
        "id": "DrbZYRRlFWzI"
      }
    },
    {
      "cell_type": "code",
      "source": [
        "# Create a tensor directly from a NumPy array\n",
        "J = tf.constant(np.array([3.,7.,10.]))\n",
        "J"
      ],
      "metadata": {
        "colab": {
          "base_uri": "https://localhost:8080/"
        },
        "id": "w3-QCQVFFciD",
        "outputId": "bd96c773-7150-439c-9bfa-452ad89edc77"
      },
      "execution_count": null,
      "outputs": [
        {
          "output_type": "execute_result",
          "data": {
            "text/plain": [
              "<tf.Tensor: shape=(3,), dtype=float64, numpy=array([ 3.,  7., 10.])>"
            ]
          },
          "metadata": {},
          "execution_count": 13
        }
      ]
    },
    {
      "cell_type": "code",
      "source": [
        "# Convert tensor to NumPy array\n",
        "np.array(J) ,type(np.array(J))"
      ],
      "metadata": {
        "colab": {
          "base_uri": "https://localhost:8080/"
        },
        "id": "UDun5ulgF2TR",
        "outputId": "40f22a30-1be3-4458-e448-6b4029fc8868"
      },
      "execution_count": null,
      "outputs": [
        {
          "output_type": "execute_result",
          "data": {
            "text/plain": [
              "(array([ 3.,  7., 10.]), numpy.ndarray)"
            ]
          },
          "metadata": {},
          "execution_count": 15
        }
      ]
    },
    {
      "cell_type": "code",
      "source": [
        "#Convert tensor to NumPy array \n",
        "J.numpy(), type(J.numpy())"
      ],
      "metadata": {
        "colab": {
          "base_uri": "https://localhost:8080/"
        },
        "id": "cjHXoL3cF-Wt",
        "outputId": "e8ee09b9-9d88-42c8-a313-bdc76c97a457"
      },
      "execution_count": null,
      "outputs": [
        {
          "output_type": "execute_result",
          "data": {
            "text/plain": [
              "(array([ 3.,  7., 10.]), numpy.ndarray)"
            ]
          },
          "metadata": {},
          "execution_count": 17
        }
      ]
    },
    {
      "cell_type": "code",
      "source": [
        "# The default tupes of each are slightly different\n",
        "numpy_J=tf.constant([np.array([3.,7.,10.])])\n",
        "tensor_J = tf.constant([3.,7.,10.])\n",
        "#Check the datatypes of each\n",
        "numpy_J.dtype, tensor_J.dtype"
      ],
      "metadata": {
        "colab": {
          "base_uri": "https://localhost:8080/"
        },
        "id": "RDHaA_x1GPe0",
        "outputId": "78dd4ea8-b90a-45e5-dc9a-9bc5a831567d"
      },
      "execution_count": null,
      "outputs": [
        {
          "output_type": "execute_result",
          "data": {
            "text/plain": [
              "(tf.float64, tf.float32)"
            ]
          },
          "metadata": {},
          "execution_count": 19
        }
      ]
    },
    {
      "cell_type": "markdown",
      "source": [
        "## **Finding Access to the GPUs**"
      ],
      "metadata": {
        "id": "zTwsjWGbGdqo"
      }
    },
    {
      "cell_type": "code",
      "source": [
        "import tensorflow as tf\n",
        "tf.config.list_physical_devices('GPU')"
      ],
      "metadata": {
        "colab": {
          "base_uri": "https://localhost:8080/"
        },
        "id": "GJYgC4_8IFPb",
        "outputId": "de77ef3e-e223-4fd8-9990-6a902072dc43"
      },
      "execution_count": null,
      "outputs": [
        {
          "output_type": "execute_result",
          "data": {
            "text/plain": [
              "[PhysicalDevice(name='/physical_device:GPU:0', device_type='GPU')]"
            ]
          },
          "metadata": {},
          "execution_count": 3
        }
      ]
    },
    {
      "cell_type": "code",
      "source": [
        "!nvidia-smi"
      ],
      "metadata": {
        "colab": {
          "base_uri": "https://localhost:8080/"
        },
        "id": "SfsHWRnyIW3n",
        "outputId": "edbfaf49-12c6-4324-ec34-cd3cc536d31c"
      },
      "execution_count": null,
      "outputs": [
        {
          "output_type": "stream",
          "name": "stdout",
          "text": [
            "Mon Feb 13 05:03:32 2023       \n",
            "+-----------------------------------------------------------------------------+\n",
            "| NVIDIA-SMI 510.47.03    Driver Version: 510.47.03    CUDA Version: 11.6     |\n",
            "|-------------------------------+----------------------+----------------------+\n",
            "| GPU  Name        Persistence-M| Bus-Id        Disp.A | Volatile Uncorr. ECC |\n",
            "| Fan  Temp  Perf  Pwr:Usage/Cap|         Memory-Usage | GPU-Util  Compute M. |\n",
            "|                               |                      |               MIG M. |\n",
            "|===============================+======================+======================|\n",
            "|   0  Tesla T4            Off  | 00000000:00:04.0 Off |                    0 |\n",
            "| N/A   37C    P8     9W /  70W |      3MiB / 15360MiB |      0%      Default |\n",
            "|                               |                      |                  N/A |\n",
            "+-------------------------------+----------------------+----------------------+\n",
            "                                                                               \n",
            "+-----------------------------------------------------------------------------+\n",
            "| Processes:                                                                  |\n",
            "|  GPU   GI   CI        PID   Type   Process name                  GPU Memory |\n",
            "|        ID   ID                                                   Usage      |\n",
            "|=============================================================================|\n",
            "|  No running processes found                                                 |\n",
            "+-----------------------------------------------------------------------------+\n"
          ]
        }
      ]
    },
    {
      "cell_type": "markdown",
      "source": [
        "🔑**Note:** If you have access to CUDA enabled GPU, TensorFlow will automatically use it whenever possible"
      ],
      "metadata": {
        "id": "7eoBBKbFJfRC"
      }
    }
  ]
}