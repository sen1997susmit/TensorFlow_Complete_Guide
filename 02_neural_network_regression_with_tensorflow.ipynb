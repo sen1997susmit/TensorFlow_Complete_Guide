{
  "cells": [
    {
      "cell_type": "markdown",
      "metadata": {
        "id": "NzDU33Ydr0VN"
      },
      "source": [
        "# **Introduction to Regression with Neural Networks in TensorFlow**\n",
        "\n",
        "There are many definitions for a regression problem but in out case, we're going to simplify it: predicting a numerical variable based on some other combination of variables, even shorter ..... predicting number."
      ]
    },
    {
      "cell_type": "code",
      "execution_count": null,
      "metadata": {
        "colab": {
          "base_uri": "https://localhost:8080/"
        },
        "id": "MdTgeF0xPodU",
        "outputId": "341b1d9e-8cff-4228-c7d8-d6585ac30571"
      },
      "outputs": [
        {
          "output_type": "stream",
          "name": "stdout",
          "text": [
            "2.12.0\n"
          ]
        }
      ],
      "source": [
        "# Import TensorFlow\n",
        "import tensorflow as tf\n",
        "print(tf.__version__)"
      ]
    },
    {
      "cell_type": "markdown",
      "metadata": {
        "id": "vwX4gBb1QE5N"
      },
      "source": [
        "##**Create data to view and fit**"
      ]
    },
    {
      "cell_type": "code",
      "execution_count": null,
      "metadata": {
        "colab": {
          "base_uri": "https://localhost:8080/",
          "height": 453
        },
        "id": "AhIwsyhCQQgD",
        "outputId": "94816052-6dc5-4d02-8ffb-0b95fe8ea2d4"
      },
      "outputs": [
        {
          "output_type": "execute_result",
          "data": {
            "text/plain": [
              "<matplotlib.collections.PathCollection at 0x7f9bbc3013f0>"
            ]
          },
          "metadata": {},
          "execution_count": 2
        },
        {
          "output_type": "display_data",
          "data": {
            "text/plain": [
              "<Figure size 640x480 with 1 Axes>"
            ],
            "image/png": "[encoded data removed]"
          },
          "metadata": {}
        }
      ],
      "source": [
        "import numpy as np \n",
        "import matplotlib.pyplot as plt\n",
        "\n",
        "# Create features\n",
        "X=np.array([-7.0,-4.0,-1.0,2.0,5.0,8.0,11.0,14.0])\n",
        "\n",
        "#Create labels\n",
        "y=np.array([3.0,6.0,9.0,12.0,15.0,18.0,21.0,24.0])\n",
        "\n",
        "#Visualize it\n",
        "plt.scatter(X,y)"
      ]
    },
    {
      "cell_type": "code",
      "execution_count": null,
      "metadata": {
        "colab": {
          "base_uri": "https://localhost:8080/"
        },
        "id": "AwsgQclqRNQi",
        "outputId": "8e09280b-f5e9-402b-be30-06db44d3ba12"
      },
      "outputs": [
        {
          "output_type": "execute_result",
          "data": {
            "text/plain": [
              "array([ True,  True,  True,  True,  True,  True,  True,  True])"
            ]
          },
          "metadata": {},
          "execution_count": 3
        }
      ],
      "source": [
        "y == X+10"
      ]
    },
    {
      "cell_type": "markdown",
      "metadata": {
        "id": "UpiKSCK9RPSJ"
      },
      "source": [
        "## **Input and output shapes**"
      ]
    },
    {
      "cell_type": "code",
      "execution_count": null,
      "metadata": {
        "colab": {
          "base_uri": "https://localhost:8080/"
        },
        "id": "2-uYaCVqRcaR",
        "outputId": "1f16d4fb-c77e-4345-959c-c8a2212ffdcd"
      },
      "outputs": [
        {
          "output_type": "execute_result",
          "data": {
            "text/plain": [
              "(<tf.Tensor: shape=(3,), dtype=string, numpy=array([b'bedroom', b'bathroom', b'garage'], dtype=object)>,\n",
              " <tf.Tensor: shape=(1,), dtype=int32, numpy=array([939700], dtype=int32)>)"
            ]
          },
          "metadata": {},
          "execution_count": 4
        }
      ],
      "source": [
        "# Create a demo tensor for our housing price prediction problem\n",
        "house_info=tf.constant([\"bedroom\",\"bathroom\",\"garage\"])\n",
        "house_price=tf.constant([939700])\n",
        "house_info, house_price"
      ]
    },
    {
      "cell_type": "code",
      "execution_count": null,
      "metadata": {
        "colab": {
          "base_uri": "https://localhost:8080/"
        },
        "id": "Df0mPbw2SJWL",
        "outputId": "8bb32c61-0ab7-46e9-8b6f-551777f83a16"
      },
      "outputs": [
        {
          "output_type": "execute_result",
          "data": {
            "text/plain": [
              "(-7.0, 3.0)"
            ]
          },
          "metadata": {},
          "execution_count": 5
        }
      ],
      "source": [
        "X[0],y[0]"
      ]
    },
    {
      "cell_type": "code",
      "execution_count": null,
      "metadata": {
        "colab": {
          "base_uri": "https://localhost:8080/"
        },
        "id": "ShNJySp-SMol",
        "outputId": "801ea10f-3a82-46ec-aeb0-ccfaf27fd20d"
      },
      "outputs": [
        {
          "output_type": "execute_result",
          "data": {
            "text/plain": [
              "(-4.0, 6.0)"
            ]
          },
          "metadata": {},
          "execution_count": 6
        }
      ],
      "source": [
        "X[1],y[1]"
      ]
    },
    {
      "cell_type": "code",
      "execution_count": null,
      "metadata": {
        "colab": {
          "base_uri": "https://localhost:8080/"
        },
        "id": "ehGTo9ozR4oQ",
        "outputId": "e45d0536-4b0b-4ea8-ad22-1a0823cfec70"
      },
      "outputs": [
        {
          "output_type": "execute_result",
          "data": {
            "text/plain": [
              "((8,), (8,))"
            ]
          },
          "metadata": {},
          "execution_count": 7
        }
      ],
      "source": [
        "input_shape=X.shape\n",
        "output_shape=y.shape\n",
        "input_shape,output_shape"
      ]
    },
    {
      "cell_type": "code",
      "execution_count": null,
      "metadata": {
        "colab": {
          "base_uri": "https://localhost:8080/"
        },
        "id": "_MzwRKr4SECc",
        "outputId": "d9d87bb0-87e7-44cf-a675-786f1919c5b9"
      },
      "outputs": [
        {
          "output_type": "execute_result",
          "data": {
            "text/plain": [
              "0"
            ]
          },
          "metadata": {},
          "execution_count": 8
        }
      ],
      "source": [
        "X[0].ndim"
      ]
    },
    {
      "cell_type": "code",
      "execution_count": null,
      "metadata": {
        "colab": {
          "base_uri": "https://localhost:8080/"
        },
        "id": "mCmRoNIHSlxS",
        "outputId": "14fcd6c1-7cab-4e99-95bf-1f2b9770d5a2"
      },
      "outputs": [
        {
          "output_type": "execute_result",
          "data": {
            "text/plain": [
              "(<tf.Tensor: shape=(8,), dtype=float64, numpy=array([-7., -4., -1.,  2.,  5.,  8., 11., 14.])>,\n",
              " <tf.Tensor: shape=(8,), dtype=float64, numpy=array([ 3.,  6.,  9., 12., 15., 18., 21., 24.])>)"
            ]
          },
          "metadata": {},
          "execution_count": 9
        }
      ],
      "source": [
        "#Turn our NumPy arrays into tensors\n",
        "X= tf.constant(X)\n",
        "y=tf.constant(y)\n",
        "X,y"
      ]
    },
    {
      "cell_type": "code",
      "execution_count": null,
      "metadata": {
        "colab": {
          "base_uri": "https://localhost:8080/"
        },
        "id": "XUla8N66t_uD",
        "outputId": "f3474835-e10d-4d27-ae7f-4ffe791a50db"
      },
      "outputs": [
        {
          "output_type": "execute_result",
          "data": {
            "text/plain": [
              "(TensorShape([]), TensorShape([]))"
            ]
          },
          "metadata": {},
          "execution_count": 10
        }
      ],
      "source": [
        "input_shape=X[0].shape\n",
        "output_shape=y[0].shape\n",
        "input_shape,output_shape"
      ]
    },
    {
      "cell_type": "code",
      "execution_count": null,
      "metadata": {
        "colab": {
          "base_uri": "https://localhost:8080/",
          "height": 453
        },
        "id": "kE1c3I4fwJDL",
        "outputId": "8fb09399-5b78-481c-c53d-df592ecf6896"
      },
      "outputs": [
        {
          "output_type": "execute_result",
          "data": {
            "text/plain": [
              "<matplotlib.collections.PathCollection at 0x7f9bba24b040>"
            ]
          },
          "metadata": {},
          "execution_count": 11
        },
        {
          "output_type": "display_data",
          "data": {
            "text/plain": [
              "<Figure size 640x480 with 1 Axes>"
            ],
            "image/png": "[encoded data removed]"
          },
          "metadata": {}
        }
      ],
      "source": [
        "plt.scatter(X,y)"
      ]
    },
    {
      "cell_type": "markdown",
      "metadata": {
        "id": "Zrs0DfEE85Pf"
      },
      "source": [
        "## **Steps in modelling with TensorFlow**\n",
        "\n",
        "1. **Creating a model**- define the input and output layers, as well as the hidden layers of a deep learning models.\n",
        "2. **Compiling a model** - define the loss function ( in other words, the function which tells our model how wrong it is) and the optimizer ( tells our model how to improve patterns its learning) and evaluation metrics (what we can use to interpret the performance of our model).\n",
        "3. **Fitting a model** - letting the model try to find patterns between X & y ( features and labels)"
      ]
    },
    {
      "cell_type": "code",
      "execution_count": null,
      "metadata": {
        "colab": {
          "base_uri": "https://localhost:8080/"
        },
        "id": "YDMuaSOn8_KX",
        "outputId": "5639f156-b8b2-4400-ef87-81313dda149a"
      },
      "outputs": [
        {
          "output_type": "stream",
          "name": "stdout",
          "text": [
            "Epoch 1/5\n",
            "1/1 [==============================] - 1s 682ms/step - loss: 10.9141 - mae: 10.9141\n",
            "Epoch 2/5\n",
            "1/1 [==============================] - 0s 13ms/step - loss: 10.7816 - mae: 10.7816\n",
            "Epoch 3/5\n",
            "1/1 [==============================] - 0s 12ms/step - loss: 10.6491 - mae: 10.6491\n",
            "Epoch 4/5\n",
            "1/1 [==============================] - 0s 13ms/step - loss: 10.5166 - mae: 10.5166\n",
            "Epoch 5/5\n",
            "1/1 [==============================] - 0s 13ms/step - loss: 10.3841 - mae: 10.3841\n"
          ]
        },
        {
          "output_type": "execute_result",
          "data": {
            "text/plain": [
              "<keras.callbacks.History at 0x7f9bb818fdc0>"
            ]
          },
          "metadata": {},
          "execution_count": 12
        }
      ],
      "source": [
        "# Set random seed\n",
        "tf.random.set_seed(42)\n",
        "\n",
        "# 1.Create a model using the Sequential API\n",
        "model = tf.keras.Sequential([       #\n",
        "    tf.keras.layers.Dense(1)\n",
        "]) \n",
        "\n",
        "#2. Compile the model\n",
        "model.compile(loss=tf.keras.losses.mae, # mean absolute error\n",
        "              optimizer=tf.keras.optimizers.SGD(), #Stochastic Gradient Descent\n",
        "              metrics=[\"mae\"]) \n",
        "\n",
        "# 3. Fit the model\n",
        "model.fit(tf.expand_dims(X,axis=1),y,epochs=5)  #epochs are the oppurtunities to go through the model "
      ]
    },
    {
      "cell_type": "code",
      "execution_count": null,
      "metadata": {
        "colab": {
          "base_uri": "https://localhost:8080/"
        },
        "id": "OEfm5lfIJ6zJ",
        "outputId": "aa0e35f2-1e16-41f7-a53c-7c6f295379b1"
      },
      "outputs": [
        {
          "output_type": "execute_result",
          "data": {
            "text/plain": [
              "(<tf.Tensor: shape=(8,), dtype=float64, numpy=array([-7., -4., -1.,  2.,  5.,  8., 11., 14.])>,\n",
              " <tf.Tensor: shape=(8,), dtype=float64, numpy=array([ 3.,  6.,  9., 12., 15., 18., 21., 24.])>)"
            ]
          },
          "metadata": {},
          "execution_count": 13
        }
      ],
      "source": [
        "# Check out X and y\n",
        "X, y"
      ]
    },
    {
      "cell_type": "code",
      "execution_count": null,
      "metadata": {
        "colab": {
          "base_uri": "https://localhost:8080/"
        },
        "id": "7UCYXUQ4Mxx6",
        "outputId": "4c6c459d-ec00-49d6-af47-0aa4471b8e13"
      },
      "outputs": [
        {
          "output_type": "stream",
          "name": "stdout",
          "text": [
            "1/1 [==============================] - 0s 108ms/step\n"
          ]
        },
        {
          "output_type": "execute_result",
          "data": {
            "text/plain": [
              "array([[15.585072]], dtype=float32)"
            ]
          },
          "metadata": {},
          "execution_count": 14
        }
      ],
      "source": [
        "# Try and make a prediction using out model\n",
        "ypred=model.predict([17.0])\n",
        "ypred"
      ]
    },
    {
      "cell_type": "markdown",
      "metadata": {
        "id": "4Jj9d2YXNOF4"
      },
      "source": [
        "## **Improving the model**\n",
        "\n",
        "We can improve our model, by altering the steps we took to create a model.\n",
        "\n",
        "1. **Creating a Model** - here we might add more layers, increase the number of hidden units(also called neurons) within each of the hidden layers, change the activation function of each layer.\n",
        "2. **Compiling a model** - here we might change the optimization function or perhaps the **learning rate** of the optimization function \n",
        "3. **Fitting a model** - here we might fit a model for more **epochs** (leave it traininig for longer) or on more data (give the model more examples)"
      ]
    },
    {
      "cell_type": "code",
      "execution_count": null,
      "metadata": {
        "colab": {
          "base_uri": "https://localhost:8080/"
        },
        "id": "UGDCZTL21RCh",
        "outputId": "ef69eea1-3cda-45be-e0dc-4348c077a93c"
      },
      "outputs": [
        {
          "output_type": "stream",
          "name": "stdout",
          "text": [
            "Epoch 1/100\n",
            "1/1 [==============================] - 0s 357ms/step - loss: 17.9467 - mae: 17.9467\n",
            "Epoch 2/100\n",
            "1/1 [==============================] - 0s 11ms/step - loss: 17.6654 - mae: 17.6654\n",
            "Epoch 3/100\n",
            "1/1 [==============================] - 0s 11ms/step - loss: 17.3842 - mae: 17.3842\n",
            "Epoch 4/100\n",
            "1/1 [==============================] - 0s 17ms/step - loss: 17.1029 - mae: 17.1029\n",
            "Epoch 5/100\n",
            "1/1 [==============================] - 0s 20ms/step - loss: 16.8217 - mae: 16.8217\n",
            "Epoch 6/100\n",
            "1/1 [==============================] - 0s 12ms/step - loss: 16.5404 - mae: 16.5404\n",
            "Epoch 7/100\n",
            "1/1 [==============================] - 0s 15ms/step - loss: 16.2592 - mae: 16.2592\n",
            "Epoch 8/100\n",
            "1/1 [==============================] - 0s 12ms/step - loss: 15.9779 - mae: 15.9779\n",
            "Epoch 9/100\n",
            "1/1 [==============================] - 0s 12ms/step - loss: 15.6967 - mae: 15.6967\n",
            "Epoch 10/100\n",
            "1/1 [==============================] - 0s 17ms/step - loss: 15.4154 - mae: 15.4154\n",
            "Epoch 11/100\n",
            "1/1 [==============================] - 0s 14ms/step - loss: 15.1342 - mae: 15.1342\n",
            "Epoch 12/100\n",
            "1/1 [==============================] - 0s 6ms/step - loss: 14.8607 - mae: 14.8607\n",
            "Epoch 13/100\n",
            "1/1 [==============================] - 0s 12ms/step - loss: 14.7282 - mae: 14.7282\n",
            "Epoch 14/100\n",
            "1/1 [==============================] - 0s 12ms/step - loss: 14.5957 - mae: 14.5957\n",
            "Epoch 15/100\n",
            "1/1 [==============================] - 0s 13ms/step - loss: 14.4632 - mae: 14.4632\n",
            "Epoch 16/100\n",
            "1/1 [==============================] - 0s 11ms/step - loss: 14.3307 - mae: 14.3307\n",
            "Epoch 17/100\n",
            "1/1 [==============================] - 0s 12ms/step - loss: 14.1982 - mae: 14.1982\n",
            "Epoch 18/100\n",
            "1/1 [==============================] - 0s 11ms/step - loss: 14.0657 - mae: 14.0657\n",
            "Epoch 19/100\n",
            "1/1 [==============================] - 0s 10ms/step - loss: 13.9332 - mae: 13.9332\n",
            "Epoch 20/100\n",
            "1/1 [==============================] - 0s 10ms/step - loss: 13.8007 - mae: 13.8007\n",
            "Epoch 21/100\n",
            "1/1 [==============================] - 0s 10ms/step - loss: 13.6682 - mae: 13.6682\n",
            "Epoch 22/100\n",
            "1/1 [==============================] - 0s 10ms/step - loss: 13.5357 - mae: 13.5357\n",
            "Epoch 23/100\n",
            "1/1 [==============================] - 0s 11ms/step - loss: 13.4032 - mae: 13.4032\n",
            "Epoch 24/100\n",
            "1/1 [==============================] - 0s 10ms/step - loss: 13.2707 - mae: 13.2707\n",
            "Epoch 25/100\n",
            "1/1 [==============================] - 0s 9ms/step - loss: 13.1382 - mae: 13.1382\n",
            "Epoch 26/100\n",
            "1/1 [==============================] - 0s 11ms/step - loss: 13.0057 - mae: 13.0057\n",
            "Epoch 27/100\n",
            "1/1 [==============================] - 0s 12ms/step - loss: 12.8732 - mae: 12.8732\n",
            "Epoch 28/100\n",
            "1/1 [==============================] - 0s 10ms/step - loss: 12.7407 - mae: 12.7407\n",
            "Epoch 29/100\n",
            "1/1 [==============================] - 0s 12ms/step - loss: 12.6082 - mae: 12.6082\n",
            "Epoch 30/100\n",
            "1/1 [==============================] - 0s 10ms/step - loss: 12.4757 - mae: 12.4757\n",
            "Epoch 31/100\n",
            "1/1 [==============================] - 0s 11ms/step - loss: 12.3432 - mae: 12.3432\n",
            "Epoch 32/100\n",
            "1/1 [==============================] - 0s 10ms/step - loss: 12.2107 - mae: 12.2107\n",
            "Epoch 33/100\n",
            "1/1 [==============================] - 0s 11ms/step - loss: 12.0782 - mae: 12.0782\n",
            "Epoch 34/100\n",
            "1/1 [==============================] - 0s 11ms/step - loss: 11.9457 - mae: 11.9457\n",
            "Epoch 35/100\n",
            "1/1 [==============================] - 0s 11ms/step - loss: 11.8132 - mae: 11.8132\n",
            "Epoch 36/100\n",
            "1/1 [==============================] - 0s 11ms/step - loss: 11.6807 - mae: 11.6807\n",
            "Epoch 37/100\n",
            "1/1 [==============================] - 0s 11ms/step - loss: 11.5482 - mae: 11.5482\n",
            "Epoch 38/100\n",
            "1/1 [==============================] - 0s 10ms/step - loss: 11.4157 - mae: 11.4157\n",
            "Epoch 39/100\n",
            "1/1 [==============================] - 0s 11ms/step - loss: 11.2832 - mae: 11.2832\n",
            "Epoch 40/100\n",
            "1/1 [==============================] - 0s 10ms/step - loss: 11.1507 - mae: 11.1507\n",
            "Epoch 41/100\n",
            "1/1 [==============================] - 0s 11ms/step - loss: 11.0182 - mae: 11.0182\n",
            "Epoch 42/100\n",
            "1/1 [==============================] - 0s 11ms/step - loss: 10.8857 - mae: 10.8857\n",
            "Epoch 43/100\n",
            "1/1 [==============================] - 0s 11ms/step - loss: 10.7532 - mae: 10.7532\n",
            "Epoch 44/100\n",
            "1/1 [==============================] - 0s 10ms/step - loss: 10.6207 - mae: 10.6207\n",
            "Epoch 45/100\n",
            "1/1 [==============================] - 0s 11ms/step - loss: 10.4882 - mae: 10.4882\n",
            "Epoch 46/100\n",
            "1/1 [==============================] - 0s 13ms/step - loss: 10.3557 - mae: 10.3557\n",
            "Epoch 47/100\n",
            "1/1 [==============================] - 0s 11ms/step - loss: 10.2232 - mae: 10.2232\n",
            "Epoch 48/100\n",
            "1/1 [==============================] - 0s 10ms/step - loss: 10.0907 - mae: 10.0907\n",
            "Epoch 49/100\n",
            "1/1 [==============================] - 0s 13ms/step - loss: 9.9582 - mae: 9.9582\n",
            "Epoch 50/100\n",
            "1/1 [==============================] - 0s 10ms/step - loss: 9.8257 - mae: 9.8257\n",
            "Epoch 51/100\n",
            "1/1 [==============================] - 0s 10ms/step - loss: 9.6932 - mae: 9.6932\n",
            "Epoch 52/100\n",
            "1/1 [==============================] - 0s 11ms/step - loss: 9.5607 - mae: 9.5607\n",
            "Epoch 53/100\n",
            "1/1 [==============================] - 0s 10ms/step - loss: 9.4282 - mae: 9.4282\n",
            "Epoch 54/100\n",
            "1/1 [==============================] - 0s 12ms/step - loss: 9.2957 - mae: 9.2957\n",
            "Epoch 55/100\n",
            "1/1 [==============================] - 0s 11ms/step - loss: 9.1632 - mae: 9.1632\n",
            "Epoch 56/100\n",
            "1/1 [==============================] - 0s 10ms/step - loss: 9.0307 - mae: 9.0307\n",
            "Epoch 57/100\n",
            "1/1 [==============================] - 0s 11ms/step - loss: 8.8982 - mae: 8.8982\n",
            "Epoch 58/100\n",
            "1/1 [==============================] - 0s 10ms/step - loss: 8.7657 - mae: 8.7657\n",
            "Epoch 59/100\n",
            "1/1 [==============================] - 0s 10ms/step - loss: 8.6332 - mae: 8.6332\n",
            "Epoch 60/100\n",
            "1/1 [==============================] - 0s 11ms/step - loss: 8.5007 - mae: 8.5007\n",
            "Epoch 61/100\n",
            "1/1 [==============================] - 0s 11ms/step - loss: 8.3682 - mae: 8.3682\n",
            "Epoch 62/100\n",
            "1/1 [==============================] - 0s 11ms/step - loss: 8.2357 - mae: 8.2357\n",
            "Epoch 63/100\n",
            "1/1 [==============================] - 0s 11ms/step - loss: 8.1032 - mae: 8.1032\n",
            "Epoch 64/100\n",
            "1/1 [==============================] - 0s 11ms/step - loss: 7.9707 - mae: 7.9707\n",
            "Epoch 65/100\n",
            "1/1 [==============================] - 0s 16ms/step - loss: 7.8382 - mae: 7.8382\n",
            "Epoch 66/100\n",
            "1/1 [==============================] - 0s 10ms/step - loss: 7.7057 - mae: 7.7057\n",
            "Epoch 67/100\n",
            "1/1 [==============================] - 0s 17ms/step - loss: 7.5732 - mae: 7.5732\n",
            "Epoch 68/100\n",
            "1/1 [==============================] - 0s 10ms/step - loss: 7.4407 - mae: 7.4407\n",
            "Epoch 69/100\n",
            "1/1 [==============================] - 0s 10ms/step - loss: 7.3082 - mae: 7.3082\n",
            "Epoch 70/100\n",
            "1/1 [==============================] - 0s 13ms/step - loss: 7.1757 - mae: 7.1757\n",
            "Epoch 71/100\n",
            "1/1 [==============================] - 0s 9ms/step - loss: 7.0432 - mae: 7.0432\n",
            "Epoch 72/100\n",
            "1/1 [==============================] - 0s 11ms/step - loss: 6.9881 - mae: 6.9881\n",
            "Epoch 73/100\n",
            "1/1 [==============================] - 0s 16ms/step - loss: 6.9825 - mae: 6.9825\n",
            "Epoch 74/100\n",
            "1/1 [==============================] - 0s 9ms/step - loss: 6.9769 - mae: 6.9769\n",
            "Epoch 75/100\n",
            "1/1 [==============================] - 0s 15ms/step - loss: 6.9712 - mae: 6.9712\n",
            "Epoch 76/100\n",
            "1/1 [==============================] - 0s 14ms/step - loss: 6.9656 - mae: 6.9656\n",
            "Epoch 77/100\n",
            "1/1 [==============================] - 0s 14ms/step - loss: 6.9600 - mae: 6.9600\n",
            "Epoch 78/100\n",
            "1/1 [==============================] - 0s 13ms/step - loss: 6.9544 - mae: 6.9544\n",
            "Epoch 79/100\n",
            "1/1 [==============================] - 0s 14ms/step - loss: 6.9488 - mae: 6.9488\n",
            "Epoch 80/100\n",
            "1/1 [==============================] - 0s 14ms/step - loss: 6.9431 - mae: 6.9431\n",
            "Epoch 81/100\n",
            "1/1 [==============================] - 0s 12ms/step - loss: 6.9375 - mae: 6.9375\n",
            "Epoch 82/100\n",
            "1/1 [==============================] - 0s 11ms/step - loss: 6.9319 - mae: 6.9319\n",
            "Epoch 83/100\n",
            "1/1 [==============================] - 0s 10ms/step - loss: 6.9263 - mae: 6.9263\n",
            "Epoch 84/100\n",
            "1/1 [==============================] - 0s 12ms/step - loss: 6.9206 - mae: 6.9206\n",
            "Epoch 85/100\n",
            "1/1 [==============================] - 0s 14ms/step - loss: 6.9150 - mae: 6.9150\n",
            "Epoch 86/100\n",
            "1/1 [==============================] - 0s 10ms/step - loss: 6.9094 - mae: 6.9094\n",
            "Epoch 87/100\n",
            "1/1 [==============================] - 0s 11ms/step - loss: 6.9038 - mae: 6.9038\n",
            "Epoch 88/100\n",
            "1/1 [==============================] - 0s 11ms/step - loss: 6.8981 - mae: 6.8981\n",
            "Epoch 89/100\n",
            "1/1 [==============================] - 0s 11ms/step - loss: 6.8925 - mae: 6.8925\n",
            "Epoch 90/100\n",
            "1/1 [==============================] - 0s 12ms/step - loss: 6.8869 - mae: 6.8869\n",
            "Epoch 91/100\n",
            "1/1 [==============================] - 0s 11ms/step - loss: 6.8813 - mae: 6.8813\n",
            "Epoch 92/100\n",
            "1/1 [==============================] - 0s 14ms/step - loss: 6.8756 - mae: 6.8756\n",
            "Epoch 93/100\n",
            "1/1 [==============================] - 0s 10ms/step - loss: 6.8700 - mae: 6.8700\n",
            "Epoch 94/100\n",
            "1/1 [==============================] - 0s 9ms/step - loss: 6.8644 - mae: 6.8644\n",
            "Epoch 95/100\n",
            "1/1 [==============================] - 0s 10ms/step - loss: 6.8588 - mae: 6.8588\n",
            "Epoch 96/100\n",
            "1/1 [==============================] - 0s 12ms/step - loss: 6.8531 - mae: 6.8531\n",
            "Epoch 97/100\n",
            "1/1 [==============================] - 0s 11ms/step - loss: 6.8475 - mae: 6.8475\n",
            "Epoch 98/100\n",
            "1/1 [==============================] - 0s 12ms/step - loss: 6.8419 - mae: 6.8419\n",
            "Epoch 99/100\n",
            "1/1 [==============================] - 0s 9ms/step - loss: 6.8363 - mae: 6.8363\n",
            "Epoch 100/100\n",
            "1/1 [==============================] - 0s 9ms/step - loss: 6.8306 - mae: 6.8306\n"
          ]
        },
        {
          "output_type": "execute_result",
          "data": {
            "text/plain": [
              "<keras.callbacks.History at 0x7f9baa557eb0>"
            ]
          },
          "metadata": {},
          "execution_count": 15
        }
      ],
      "source": [
        "#Let's rebuild our model\n",
        "\n",
        "# 1. Create the model \n",
        "model=tf.keras.Sequential([\n",
        "    tf.keras.layers.Dense(1)\n",
        "])\n",
        "\n",
        "# 2. Compile the model\n",
        "model.compile(loss=tf.keras.losses.mae,\n",
        "              optimizer=tf.keras.optimizers.SGD(),\n",
        "              metrics=['mae']\n",
        "              )\n",
        "# 3. Fit the model ( this time we'll train for longer)\n",
        "model.fit(tf.expand_dims(X,axis=1), y, epochs=100)\n",
        "\n"
      ]
    },
    {
      "cell_type": "code",
      "execution_count": null,
      "metadata": {
        "colab": {
          "base_uri": "https://localhost:8080/"
        },
        "id": "vjW3taGe95yl",
        "outputId": "f8cf2fe3-c9ef-42ca-b6ca-4b83a67d6997"
      },
      "outputs": [
        {
          "output_type": "execute_result",
          "data": {
            "text/plain": [
              "(<tf.Tensor: shape=(8,), dtype=float64, numpy=array([-7., -4., -1.,  2.,  5.,  8., 11., 14.])>,\n",
              " <tf.Tensor: shape=(8,), dtype=float64, numpy=array([ 3.,  6.,  9., 12., 15., 18., 21., 24.])>)"
            ]
          },
          "metadata": {},
          "execution_count": 16
        }
      ],
      "source": [
        "# Remind ourselves of the data\n",
        "X, y"
      ]
    },
    {
      "cell_type": "code",
      "execution_count": null,
      "metadata": {
        "colab": {
          "base_uri": "https://localhost:8080/"
        },
        "id": "DDkAZNRJ98hl",
        "outputId": "069b283f-7530-497f-98fe-44bda7770f0f"
      },
      "outputs": [
        {
          "output_type": "stream",
          "name": "stdout",
          "text": [
            "1/1 [==============================] - 0s 138ms/step\n"
          ]
        },
        {
          "output_type": "execute_result",
          "data": {
            "text/plain": [
              "array([[29.59016]], dtype=float32)"
            ]
          },
          "metadata": {},
          "execution_count": 17
        }
      ],
      "source": [
        "# Let's see if our model's prediction has improved\n",
        "model.predict([17.0])"
      ]
    },
    {
      "cell_type": "code",
      "execution_count": null,
      "metadata": {
        "colab": {
          "base_uri": "https://localhost:8080/"
        },
        "id": "4VAUCALnAJr4",
        "outputId": "eb253fd0-0d77-472f-d1ff-57fb28b1128c"
      },
      "outputs": [
        {
          "output_type": "stream",
          "name": "stderr",
          "text": [
            "WARNING:absl:`lr` is deprecated in Keras optimizer, please use `learning_rate` or use the legacy optimizer, e.g.,tf.keras.optimizers.legacy.Adam.\n"
          ]
        },
        {
          "output_type": "stream",
          "name": "stdout",
          "text": [
            "Epoch 1/100\n",
            "1/1 [==============================] - 1s 1s/step - loss: 13.3768 - mae: 13.3768\n",
            "Epoch 2/100\n",
            "1/1 [==============================] - 0s 10ms/step - loss: 12.5128 - mae: 12.5128\n",
            "Epoch 3/100\n",
            "1/1 [==============================] - 0s 10ms/step - loss: 11.6332 - mae: 11.6332\n",
            "Epoch 4/100\n",
            "1/1 [==============================] - 0s 14ms/step - loss: 10.7257 - mae: 10.7257\n",
            "Epoch 5/100\n",
            "1/1 [==============================] - 0s 15ms/step - loss: 9.7789 - mae: 9.7789\n",
            "Epoch 6/100\n",
            "1/1 [==============================] - 0s 12ms/step - loss: 8.7832 - mae: 8.7832\n",
            "Epoch 7/100\n",
            "1/1 [==============================] - 0s 14ms/step - loss: 7.7286 - mae: 7.7286\n",
            "Epoch 8/100\n",
            "1/1 [==============================] - 0s 13ms/step - loss: 7.2796 - mae: 7.2796\n",
            "Epoch 9/100\n",
            "1/1 [==============================] - 0s 11ms/step - loss: 7.8173 - mae: 7.8173\n",
            "Epoch 10/100\n",
            "1/1 [==============================] - 0s 12ms/step - loss: 8.1174 - mae: 8.1174\n",
            "Epoch 11/100\n",
            "1/1 [==============================] - 0s 12ms/step - loss: 8.1211 - mae: 8.1211\n",
            "Epoch 12/100\n",
            "1/1 [==============================] - 0s 12ms/step - loss: 7.8925 - mae: 7.8925\n",
            "Epoch 13/100\n",
            "1/1 [==============================] - 0s 11ms/step - loss: 7.6112 - mae: 7.6112\n",
            "Epoch 14/100\n",
            "1/1 [==============================] - 0s 13ms/step - loss: 7.2779 - mae: 7.2779\n",
            "Epoch 15/100\n",
            "1/1 [==============================] - 0s 11ms/step - loss: 7.0974 - mae: 7.0974\n",
            "Epoch 16/100\n",
            "1/1 [==============================] - 0s 11ms/step - loss: 7.0808 - mae: 7.0808\n",
            "Epoch 17/100\n",
            "1/1 [==============================] - 0s 11ms/step - loss: 7.3759 - mae: 7.3759\n",
            "Epoch 18/100\n",
            "1/1 [==============================] - 0s 12ms/step - loss: 7.5160 - mae: 7.5160\n",
            "Epoch 19/100\n",
            "1/1 [==============================] - 0s 11ms/step - loss: 7.5153 - mae: 7.5153\n",
            "Epoch 20/100\n",
            "1/1 [==============================] - 0s 11ms/step - loss: 7.3957 - mae: 7.3957\n",
            "Epoch 21/100\n",
            "1/1 [==============================] - 0s 11ms/step - loss: 7.1712 - mae: 7.1712\n",
            "Epoch 22/100\n",
            "1/1 [==============================] - 0s 11ms/step - loss: 6.9121 - mae: 6.9121\n",
            "Epoch 23/100\n",
            "1/1 [==============================] - 0s 11ms/step - loss: 6.8728 - mae: 6.8728\n",
            "Epoch 24/100\n",
            "1/1 [==============================] - 0s 11ms/step - loss: 6.8330 - mae: 6.8330\n",
            "Epoch 25/100\n",
            "1/1 [==============================] - 0s 10ms/step - loss: 6.9476 - mae: 6.9476\n",
            "Epoch 26/100\n",
            "1/1 [==============================] - 0s 11ms/step - loss: 7.0083 - mae: 7.0083\n",
            "Epoch 27/100\n",
            "1/1 [==============================] - 0s 11ms/step - loss: 6.9890 - mae: 6.9890\n",
            "Epoch 28/100\n",
            "1/1 [==============================] - 0s 11ms/step - loss: 6.8988 - mae: 6.8988\n",
            "Epoch 29/100\n",
            "1/1 [==============================] - 0s 14ms/step - loss: 6.7478 - mae: 6.7478\n",
            "Epoch 30/100\n",
            "1/1 [==============================] - 0s 17ms/step - loss: 6.6564 - mae: 6.6564\n",
            "Epoch 31/100\n",
            "1/1 [==============================] - 0s 11ms/step - loss: 6.6361 - mae: 6.6361\n",
            "Epoch 32/100\n",
            "1/1 [==============================] - 0s 12ms/step - loss: 6.6144 - mae: 6.6144\n",
            "Epoch 33/100\n",
            "1/1 [==============================] - 0s 12ms/step - loss: 6.6558 - mae: 6.6558\n",
            "Epoch 34/100\n",
            "1/1 [==============================] - 0s 11ms/step - loss: 6.6421 - mae: 6.6421\n",
            "Epoch 35/100\n",
            "1/1 [==============================] - 0s 11ms/step - loss: 6.5216 - mae: 6.5216\n",
            "Epoch 36/100\n",
            "1/1 [==============================] - 0s 12ms/step - loss: 6.4820 - mae: 6.4820\n",
            "Epoch 37/100\n",
            "1/1 [==============================] - 0s 12ms/step - loss: 6.4415 - mae: 6.4415\n",
            "Epoch 38/100\n",
            "1/1 [==============================] - 0s 13ms/step - loss: 6.3998 - mae: 6.3998\n",
            "Epoch 39/100\n",
            "1/1 [==============================] - 0s 14ms/step - loss: 6.3570 - mae: 6.3570\n",
            "Epoch 40/100\n",
            "1/1 [==============================] - 0s 13ms/step - loss: 6.3130 - mae: 6.3130\n",
            "Epoch 41/100\n",
            "1/1 [==============================] - 0s 17ms/step - loss: 6.3005 - mae: 6.3005\n",
            "Epoch 42/100\n",
            "1/1 [==============================] - 0s 12ms/step - loss: 6.2611 - mae: 6.2611\n",
            "Epoch 43/100\n",
            "1/1 [==============================] - 0s 11ms/step - loss: 6.1965 - mae: 6.1965\n",
            "Epoch 44/100\n",
            "1/1 [==============================] - 0s 10ms/step - loss: 6.1619 - mae: 6.1619\n",
            "Epoch 45/100\n",
            "1/1 [==============================] - 0s 11ms/step - loss: 6.1251 - mae: 6.1251\n",
            "Epoch 46/100\n",
            "1/1 [==============================] - 0s 11ms/step - loss: 6.0859 - mae: 6.0859\n",
            "Epoch 47/100\n",
            "1/1 [==============================] - 0s 12ms/step - loss: 6.0443 - mae: 6.0443\n",
            "Epoch 48/100\n",
            "1/1 [==============================] - 0s 12ms/step - loss: 6.0003 - mae: 6.0003\n",
            "Epoch 49/100\n",
            "1/1 [==============================] - 0s 12ms/step - loss: 5.9537 - mae: 5.9537\n",
            "Epoch 50/100\n",
            "1/1 [==============================] - 0s 16ms/step - loss: 5.9044 - mae: 5.9044\n",
            "Epoch 51/100\n",
            "1/1 [==============================] - 0s 12ms/step - loss: 5.8523 - mae: 5.8523\n",
            "Epoch 52/100\n",
            "1/1 [==============================] - 0s 12ms/step - loss: 5.7973 - mae: 5.7973\n",
            "Epoch 53/100\n",
            "1/1 [==============================] - 0s 17ms/step - loss: 5.7391 - mae: 5.7391\n",
            "Epoch 54/100\n",
            "1/1 [==============================] - 0s 18ms/step - loss: 5.6776 - mae: 5.6776\n",
            "Epoch 55/100\n",
            "1/1 [==============================] - 0s 15ms/step - loss: 5.6126 - mae: 5.6126\n",
            "Epoch 56/100\n",
            "1/1 [==============================] - 0s 12ms/step - loss: 5.5518 - mae: 5.5518\n",
            "Epoch 57/100\n",
            "1/1 [==============================] - 0s 12ms/step - loss: 5.4844 - mae: 5.4844\n",
            "Epoch 58/100\n",
            "1/1 [==============================] - 0s 11ms/step - loss: 5.4203 - mae: 5.4203\n",
            "Epoch 59/100\n",
            "1/1 [==============================] - 0s 15ms/step - loss: 5.3512 - mae: 5.3512\n",
            "Epoch 60/100\n",
            "1/1 [==============================] - 0s 18ms/step - loss: 5.2768 - mae: 5.2768\n",
            "Epoch 61/100\n",
            "1/1 [==============================] - 0s 11ms/step - loss: 5.1969 - mae: 5.1969\n",
            "Epoch 62/100\n",
            "1/1 [==============================] - 0s 11ms/step - loss: 5.1110 - mae: 5.1110\n",
            "Epoch 63/100\n",
            "1/1 [==============================] - 0s 11ms/step - loss: 5.0189 - mae: 5.0189\n",
            "Epoch 64/100\n",
            "1/1 [==============================] - 0s 11ms/step - loss: 4.9503 - mae: 4.9503\n",
            "Epoch 65/100\n",
            "1/1 [==============================] - 0s 13ms/step - loss: 4.8321 - mae: 4.8321\n",
            "Epoch 66/100\n",
            "1/1 [==============================] - 0s 15ms/step - loss: 4.7360 - mae: 4.7360\n",
            "Epoch 67/100\n",
            "1/1 [==============================] - 0s 13ms/step - loss: 4.6311 - mae: 4.6311\n",
            "Epoch 68/100\n",
            "1/1 [==============================] - 0s 12ms/step - loss: 4.5169 - mae: 4.5169\n",
            "Epoch 69/100\n",
            "1/1 [==============================] - 0s 14ms/step - loss: 4.3927 - mae: 4.3927\n",
            "Epoch 70/100\n",
            "1/1 [==============================] - 0s 11ms/step - loss: 4.2579 - mae: 4.2579\n",
            "Epoch 71/100\n",
            "1/1 [==============================] - 0s 12ms/step - loss: 4.1117 - mae: 4.1117\n",
            "Epoch 72/100\n",
            "1/1 [==============================] - 0s 12ms/step - loss: 3.9531 - mae: 3.9531\n",
            "Epoch 73/100\n",
            "1/1 [==============================] - 0s 15ms/step - loss: 3.7810 - mae: 3.7810\n",
            "Epoch 74/100\n",
            "1/1 [==============================] - 0s 11ms/step - loss: 3.5944 - mae: 3.5944\n",
            "Epoch 75/100\n",
            "1/1 [==============================] - 0s 12ms/step - loss: 3.4876 - mae: 3.4876\n",
            "Epoch 76/100\n",
            "1/1 [==============================] - 0s 13ms/step - loss: 3.2028 - mae: 3.2028\n",
            "Epoch 77/100\n",
            "1/1 [==============================] - 0s 14ms/step - loss: 2.9945 - mae: 2.9945\n",
            "Epoch 78/100\n",
            "1/1 [==============================] - 0s 18ms/step - loss: 2.8813 - mae: 2.8813\n",
            "Epoch 79/100\n",
            "1/1 [==============================] - 0s 14ms/step - loss: 2.5311 - mae: 2.5311\n",
            "Epoch 80/100\n",
            "1/1 [==============================] - 0s 11ms/step - loss: 2.2926 - mae: 2.2926\n",
            "Epoch 81/100\n",
            "1/1 [==============================] - 0s 11ms/step - loss: 2.0219 - mae: 2.0219\n",
            "Epoch 82/100\n",
            "1/1 [==============================] - 0s 11ms/step - loss: 1.6619 - mae: 1.6619\n",
            "Epoch 83/100\n",
            "1/1 [==============================] - 0s 11ms/step - loss: 1.3436 - mae: 1.3436\n",
            "Epoch 84/100\n",
            "1/1 [==============================] - 0s 11ms/step - loss: 1.1260 - mae: 1.1260\n",
            "Epoch 85/100\n",
            "1/1 [==============================] - 0s 11ms/step - loss: 0.9612 - mae: 0.9612\n",
            "Epoch 86/100\n",
            "1/1 [==============================] - 0s 13ms/step - loss: 0.3206 - mae: 0.3206\n",
            "Epoch 87/100\n",
            "1/1 [==============================] - 0s 15ms/step - loss: 1.5064 - mae: 1.5064\n",
            "Epoch 88/100\n",
            "1/1 [==============================] - 0s 12ms/step - loss: 1.3520 - mae: 1.3520\n",
            "Epoch 89/100\n",
            "1/1 [==============================] - 0s 11ms/step - loss: 0.9953 - mae: 0.9953\n",
            "Epoch 90/100\n",
            "1/1 [==============================] - 0s 11ms/step - loss: 1.4804 - mae: 1.4804\n",
            "Epoch 91/100\n",
            "1/1 [==============================] - 0s 13ms/step - loss: 1.3008 - mae: 1.3008\n",
            "Epoch 92/100\n",
            "1/1 [==============================] - 0s 12ms/step - loss: 1.2035 - mae: 1.2035\n",
            "Epoch 93/100\n",
            "1/1 [==============================] - 0s 12ms/step - loss: 1.2127 - mae: 1.2127\n",
            "Epoch 94/100\n",
            "1/1 [==============================] - 0s 19ms/step - loss: 0.8605 - mae: 0.8605\n",
            "Epoch 95/100\n",
            "1/1 [==============================] - 0s 14ms/step - loss: 0.7013 - mae: 0.7013\n",
            "Epoch 96/100\n",
            "1/1 [==============================] - 0s 24ms/step - loss: 0.8336 - mae: 0.8336\n",
            "Epoch 97/100\n",
            "1/1 [==============================] - 0s 14ms/step - loss: 0.3793 - mae: 0.3793\n",
            "Epoch 98/100\n",
            "1/1 [==============================] - 0s 14ms/step - loss: 0.8033 - mae: 0.8033\n",
            "Epoch 99/100\n",
            "1/1 [==============================] - 0s 13ms/step - loss: 0.7634 - mae: 0.7634\n",
            "Epoch 100/100\n",
            "1/1 [==============================] - 0s 12ms/step - loss: 0.4524 - mae: 0.4524\n"
          ]
        },
        {
          "output_type": "execute_result",
          "data": {
            "text/plain": [
              "<keras.callbacks.History at 0x7f9ba9c5dea0>"
            ]
          },
          "metadata": {},
          "execution_count": 18
        }
      ],
      "source": [
        "#Let's see if we can make another change to improve our model\n",
        "\n",
        "#1. Create the model (this time withh an extra hidden layer with 100 hidden units)\n",
        "model=tf.keras.Sequential([\n",
        "    tf.keras.layers.Dense(50,activation=None),\n",
        "    tf.keras.layers.Dense(50,activation=None),\n",
        "    tf.keras.layers.Dense(50,activation=None),\n",
        "    tf.keras.layers.Dense(50,activation=None),\n",
        "    tf.keras.layers.Dense(1)\n",
        "\n",
        "])\n",
        "#2.Compile the model\n",
        "model.compile(loss=\"mae\",\n",
        "              optimizer=tf.keras.optimizers.Adam(lr=0.01),\n",
        "              metrics=['mae'])\n",
        "\n",
        "#3. Fit the model\n",
        "model.fit(tf.expand_dims(X,axis=1),y , epochs=100)"
      ]
    },
    {
      "cell_type": "code",
      "execution_count": null,
      "metadata": {
        "colab": {
          "base_uri": "https://localhost:8080/"
        },
        "id": "moFdZMiaBV_u",
        "outputId": "c044c264-76b8-4be0-9489-acdab87bf846"
      },
      "outputs": [
        {
          "output_type": "stream",
          "name": "stdout",
          "text": [
            "1/1 [==============================] - 0s 357ms/step\n"
          ]
        },
        {
          "output_type": "execute_result",
          "data": {
            "text/plain": [
              "array([[25.504215]], dtype=float32)"
            ]
          },
          "metadata": {},
          "execution_count": 19
        }
      ],
      "source": [
        "model.predict([17.0])"
      ]
    },
    {
      "cell_type": "markdown",
      "metadata": {
        "id": "IgEf9ENKB-Uf"
      },
      "source": [
        "#**Evaluating a model**\n",
        "\n",
        "In practice, a typical workflow you'lll go through when building neural network is:\n",
        " \n",
        "```\n",
        "Build a model -> fit it -> evaluate it -> tweak a model -> fit it-> evaluate it......\n",
        "```"
      ]
    },
    {
      "cell_type": "markdown",
      "metadata": {
        "id": "nTPA6sPLtumD"
      },
      "source": [
        "When it comes to evaluation ... there are 3 words you should memorize:\n",
        "\n",
        ">  \"Visualize, visualize visualize\"\n",
        "\n",
        "It's a good idea to visualize:\n",
        "* The data - what data are we working with? What does it look like?\n",
        "* The model itself - what does our model look like?\n",
        "* The training of a model - how does a model perform while it learns?\n",
        "* The predictions of the model - how do the predictions of a model line up against the ground truth (the original labels)?."
      ]
    },
    {
      "cell_type": "code",
      "execution_count": null,
      "metadata": {
        "colab": {
          "base_uri": "https://localhost:8080/"
        },
        "id": "u048S18gvdeA",
        "outputId": "347305bd-7889-4b25-9b50-5f99b49de694"
      },
      "outputs": [
        {
          "output_type": "execute_result",
          "data": {
            "text/plain": [
              "<tf.Tensor: shape=(50,), dtype=int32, numpy=\n",
              "array([-100,  -96,  -92,  -88,  -84,  -80,  -76,  -72,  -68,  -64,  -60,\n",
              "        -56,  -52,  -48,  -44,  -40,  -36,  -32,  -28,  -24,  -20,  -16,\n",
              "        -12,   -8,   -4,    0,    4,    8,   12,   16,   20,   24,   28,\n",
              "         32,   36,   40,   44,   48,   52,   56,   60,   64,   68,   72,\n",
              "         76,   80,   84,   88,   92,   96], dtype=int32)>"
            ]
          },
          "metadata": {},
          "execution_count": 20
        }
      ],
      "source": [
        "# Make a bigger dataset\n",
        "X = tf.range(-100,100,4)\n",
        "X"
      ]
    },
    {
      "cell_type": "code",
      "execution_count": null,
      "metadata": {
        "colab": {
          "base_uri": "https://localhost:8080/"
        },
        "id": "AMabVOpovssY",
        "outputId": "7e444e2a-5903-42ab-940f-a15e6f5f14ee"
      },
      "outputs": [
        {
          "output_type": "execute_result",
          "data": {
            "text/plain": [
              "<tf.Tensor: shape=(50,), dtype=int32, numpy=\n",
              "array([-90, -86, -82, -78, -74, -70, -66, -62, -58, -54, -50, -46, -42,\n",
              "       -38, -34, -30, -26, -22, -18, -14, -10,  -6,  -2,   2,   6,  10,\n",
              "        14,  18,  22,  26,  30,  34,  38,  42,  46,  50,  54,  58,  62,\n",
              "        66,  70,  74,  78,  82,  86,  90,  94,  98, 102, 106], dtype=int32)>"
            ]
          },
          "metadata": {},
          "execution_count": 21
        }
      ],
      "source": [
        "# Make labels for the dataset\n",
        "y = X +10\n",
        "y"
      ]
    },
    {
      "cell_type": "code",
      "execution_count": null,
      "metadata": {
        "colab": {
          "base_uri": "https://localhost:8080/",
          "height": 448
        },
        "id": "dH7afy2Hv1ql",
        "outputId": "dfea2e8d-7cb3-452c-a65f-1417b33019c7"
      },
      "outputs": [
        {
          "output_type": "execute_result",
          "data": {
            "text/plain": [
              "<matplotlib.collections.PathCollection at 0x7f9baaef6680>"
            ]
          },
          "metadata": {},
          "execution_count": 22
        },
        {
          "output_type": "display_data",
          "data": {
            "text/plain": [
              "<Figure size 640x480 with 1 Axes>"
            ],
            "image/png": "[encoded data removed]"
          },
          "metadata": {}
        }
      ],
      "source": [
        "# Visualize the data \n",
        "import matplotlib.pyplot as plt\n",
        "plt.scatter(X,y)"
      ]
    },
    {
      "cell_type": "markdown",
      "metadata": {
        "id": "pDOdaGokv90i"
      },
      "source": [
        "### The 3 sets....\n",
        "* Training set - the model learns from this data, which is typically 70-80% of the data you have available.\n",
        "* Validation set - the model gets tuned on this data, which is typically 10-15% of the data available. \n",
        "* Test set - the model gets evaluated on this data to test what is has learned, this set is typically 10-15% of the total data available.\n",
        "\n",
        "``Generalization -  The ability for a machine learning model to perform well on data it hasn't seen before`` \n"
      ]
    },
    {
      "cell_type": "code",
      "execution_count": null,
      "metadata": {
        "colab": {
          "base_uri": "https://localhost:8080/"
        },
        "id": "2xv5NJbuxOrZ",
        "outputId": "a69b9fb0-700c-4542-ce72-993e0d7c8e72"
      },
      "outputs": [
        {
          "output_type": "execute_result",
          "data": {
            "text/plain": [
              "50"
            ]
          },
          "metadata": {},
          "execution_count": 23
        }
      ],
      "source": [
        "# Check the length of how many samples we have\n",
        "len(X)"
      ]
    },
    {
      "cell_type": "code",
      "execution_count": null,
      "metadata": {
        "colab": {
          "base_uri": "https://localhost:8080/"
        },
        "id": "YjMu0nv_yBFP",
        "outputId": "971f50c1-3a3d-46c4-ed7a-105d60b93912"
      },
      "outputs": [
        {
          "output_type": "execute_result",
          "data": {
            "text/plain": [
              "(40, 10, 40, 10)"
            ]
          },
          "metadata": {},
          "execution_count": 24
        }
      ],
      "source": [
        "# Split the data into train and tes sets\n",
        "X_train = X[:40] #first 40 training samples (80% of the data)\n",
        "y_train = y[:40]\n",
        "\n",
        "X_test = X[40:] #last 10 testing samples (20% of the data)\n",
        "y_test = y[40:]\n",
        "len(X_train), len(X_test) , len(y_train),len(y_test)\n"
      ]
    },
    {
      "cell_type": "markdown",
      "metadata": {
        "id": "r99M17NNzDQh"
      },
      "source": [
        "### **Visualizing the data**\n",
        "Now we've got our data in training and test sets... let's visualize it again !"
      ]
    },
    {
      "cell_type": "code",
      "execution_count": null,
      "metadata": {
        "colab": {
          "base_uri": "https://localhost:8080/",
          "height": 617
        },
        "id": "Ijeov4Q2zIPM",
        "outputId": "4f2b7210-d751-497b-a583-e1d247f9c90f"
      },
      "outputs": [
        {
          "output_type": "execute_result",
          "data": {
            "text/plain": [
              "<matplotlib.collections.PathCollection at 0x7f9baa8bf1f0>"
            ]
          },
          "metadata": {},
          "execution_count": 25
        },
        {
          "output_type": "display_data",
          "data": {
            "text/plain": [
              "<Figure size 1000x700 with 1 Axes>"
            ],
            "image/png": "[encoded data removed]"
          },
          "metadata": {}
        }
      ],
      "source": [
        "plt.figure(figsize=(10,7))\n",
        "#plot training data in blue\n",
        "plt.scatter(X_train,y_train,c='r',label=\"Training data\")\n",
        "# Plot test data in green\n",
        "plt.scatter(X_test,y_test,c='g',label=\"Testing data\")"
      ]
    },
    {
      "cell_type": "code",
      "execution_count": null,
      "metadata": {
        "id": "rldZFZ8G0Bsy"
      },
      "outputs": [],
      "source": [
        " # Let's have a look at how to build a neural netwoek for our data\n",
        "\n",
        "#1. Create a model \n",
        " model= tf.keras.Sequential([\n",
        "     tf.keras.layers.Dense(1)\n",
        " ])\n",
        "\n",
        "#2. Compile the model\n",
        "model.compile(loss=tf.keras.losses.mae,\n",
        "              optimizer=tf.keras.optimizers.SGD(),\n",
        "              metrics=[\"mae\"])\n",
        "\n",
        "# 3. Fit the model\n",
        "# model.fit(tf.expand_dims(X_train,axis=1),y_train,epochs=100)"
      ]
    },
    {
      "cell_type": "markdown",
      "metadata": {
        "id": "m8en7VJi3L4m"
      },
      "source": [
        "## Visualizing the model"
      ]
    },
    {
      "cell_type": "code",
      "execution_count": null,
      "metadata": {
        "colab": {
          "base_uri": "https://localhost:8080/",
          "height": 299
        },
        "id": "BgclPBrb3XGl",
        "outputId": "accc87be-93fe-43fb-ac0b-a7fdbe55f6b5"
      },
      "outputs": [
        {
          "output_type": "error",
          "ename": "ValueError",
          "evalue": "ignored",
          "traceback": [
            "\u001b[0;31m---------------------------------------------------------------------------\u001b[0m",
            "\u001b[0;31mValueError\u001b[0m                                Traceback (most recent call last)",
            "\u001b[0;32m<ipython-input-28-2f52417d930d>\u001b[0m in \u001b[0;36m<cell line: 1>\u001b[0;34m()\u001b[0m\n\u001b[0;32m----> 1\u001b[0;31m \u001b[0mmodel\u001b[0m\u001b[0;34m.\u001b[0m\u001b[0mbuild\u001b[0m\u001b[0;34m(\u001b[0m\u001b[0;34m)\u001b[0m\u001b[0;34m\u001b[0m\u001b[0;34m\u001b[0m\u001b[0m\n\u001b[0m",
            "\u001b[0;32m/usr/local/lib/python3.10/dist-packages/keras/engine/sequential.py\u001b[0m in \u001b[0;36mbuild\u001b[0;34m(self, input_shape)\u001b[0m\n\u001b[1;32m    376\u001b[0m         \u001b[0;32melse\u001b[0m\u001b[0;34m:\u001b[0m\u001b[0;34m\u001b[0m\u001b[0;34m\u001b[0m\u001b[0m\n\u001b[1;32m    377\u001b[0m             \u001b[0;32mif\u001b[0m \u001b[0minput_shape\u001b[0m \u001b[0;32mis\u001b[0m \u001b[0;32mNone\u001b[0m\u001b[0;34m:\u001b[0m\u001b[0;34m\u001b[0m\u001b[0;34m\u001b[0m\u001b[0m\n\u001b[0;32m--> 378\u001b[0;31m                 \u001b[0;32mraise\u001b[0m \u001b[0mValueError\u001b[0m\u001b[0;34m(\u001b[0m\u001b[0;34m\"You must provide an `input_shape` argument.\"\u001b[0m\u001b[0;34m)\u001b[0m\u001b[0;34m\u001b[0m\u001b[0;34m\u001b[0m\u001b[0m\n\u001b[0m\u001b[1;32m    379\u001b[0m             \u001b[0mself\u001b[0m\u001b[0;34m.\u001b[0m\u001b[0m_build_graph_network_for_inferred_shape\u001b[0m\u001b[0;34m(\u001b[0m\u001b[0minput_shape\u001b[0m\u001b[0;34m)\u001b[0m\u001b[0;34m\u001b[0m\u001b[0;34m\u001b[0m\u001b[0m\n\u001b[1;32m    380\u001b[0m             \u001b[0;32mif\u001b[0m \u001b[0;32mnot\u001b[0m \u001b[0mself\u001b[0m\u001b[0;34m.\u001b[0m\u001b[0mbuilt\u001b[0m\u001b[0;34m:\u001b[0m\u001b[0;34m\u001b[0m\u001b[0;34m\u001b[0m\u001b[0m\n",
            "\u001b[0;31mValueError\u001b[0m: You must provide an `input_shape` argument."
          ]
        }
      ],
      "source": [
        "model.build()"
      ]
    },
    {
      "cell_type": "code",
      "execution_count": null,
      "metadata": {
        "id": "EZ9Ifwx93Pxd",
        "colab": {
          "base_uri": "https://localhost:8080/",
          "height": 299
        },
        "outputId": "fd42b42f-1a15-4d83-93cb-3caec713fa1c"
      },
      "outputs": [
        {
          "output_type": "error",
          "ename": "ValueError",
          "evalue": "ignored",
          "traceback": [
            "\u001b[0;31m---------------------------------------------------------------------------\u001b[0m",
            "\u001b[0;31mValueError\u001b[0m                                Traceback (most recent call last)",
            "\u001b[0;32m<ipython-input-29-5f15418b3570>\u001b[0m in \u001b[0;36m<cell line: 1>\u001b[0;34m()\u001b[0m\n\u001b[0;32m----> 1\u001b[0;31m \u001b[0mmodel\u001b[0m\u001b[0;34m.\u001b[0m\u001b[0msummary\u001b[0m\u001b[0;34m(\u001b[0m\u001b[0;34m)\u001b[0m\u001b[0;34m\u001b[0m\u001b[0;34m\u001b[0m\u001b[0m\n\u001b[0m",
            "\u001b[0;32m/usr/local/lib/python3.10/dist-packages/keras/engine/training.py\u001b[0m in \u001b[0;36msummary\u001b[0;34m(self, line_length, positions, print_fn, expand_nested, show_trainable, layer_range)\u001b[0m\n\u001b[1;32m   3227\u001b[0m         \"\"\"\n\u001b[1;32m   3228\u001b[0m         \u001b[0;32mif\u001b[0m \u001b[0;32mnot\u001b[0m \u001b[0mself\u001b[0m\u001b[0;34m.\u001b[0m\u001b[0mbuilt\u001b[0m\u001b[0;34m:\u001b[0m\u001b[0;34m\u001b[0m\u001b[0;34m\u001b[0m\u001b[0m\n\u001b[0;32m-> 3229\u001b[0;31m             raise ValueError(\n\u001b[0m\u001b[1;32m   3230\u001b[0m                 \u001b[0;34m\"This model has not yet been built. \"\u001b[0m\u001b[0;34m\u001b[0m\u001b[0;34m\u001b[0m\u001b[0m\n\u001b[1;32m   3231\u001b[0m                 \u001b[0;34m\"Build the model first by calling `build()` or by calling \"\u001b[0m\u001b[0;34m\u001b[0m\u001b[0;34m\u001b[0m\u001b[0m\n",
            "\u001b[0;31mValueError\u001b[0m: This model has not yet been built. Build the model first by calling `build()` or by calling the model on a batch of data."
          ]
        }
      ],
      "source": [
        "model.summary()"
      ]
    },
    {
      "cell_type": "code",
      "execution_count": null,
      "metadata": {
        "id": "myCuEus93dlu"
      },
      "outputs": [],
      "source": [
        "#Let's create a model which builds automatically by defining the input_shape argument\n",
        "tf.random.set_seed(42)\n",
        "#Create a model\n",
        "model = tf.keras.Sequential([\n",
        "    tf.keras.layers.Dense(10,input_shape=[1],name=\"input_layer\"),\n",
        "    tf.keras.layers.Dense(1, name=\"output_layer\")\n",
        "], name=\"model_1\")\n",
        "\n",
        "model.compile(loss=tf.keras.losses.mae,\n",
        "              optimizer=tf.keras.optimizers.SGD(),\n",
        "              metrics=[\"mae\"])\n",
        "\n",
        "# model.fit(tf.expand_dims(X))"
      ]
    },
    {
      "cell_type": "code",
      "execution_count": null,
      "metadata": {
        "id": "Uy2X83tH4Wn0",
        "colab": {
          "base_uri": "https://localhost:8080/"
        },
        "outputId": "838cc64c-78fd-40d3-973d-1a959c683b74"
      },
      "outputs": [
        {
          "output_type": "stream",
          "name": "stdout",
          "text": [
            "Model: \"model_1\"\n",
            "_________________________________________________________________\n",
            " Layer (type)                Output Shape              Param #   \n",
            "=================================================================\n",
            " input_layer (Dense)         (None, 10)                20        \n",
            "                                                                 \n",
            " output_layer (Dense)        (None, 1)                 11        \n",
            "                                                                 \n",
            "=================================================================\n",
            "Total params: 31\n",
            "Trainable params: 31\n",
            "Non-trainable params: 0\n",
            "_________________________________________________________________\n"
          ]
        }
      ],
      "source": [
        "model.summary()"
      ]
    },
    {
      "cell_type": "markdown",
      "metadata": {
        "id": "axImJAHNpTP2"
      },
      "source": [
        "* Total params - total number of parameters in model.\n",
        "\n",
        "* Trainable parameters - these are the parameters (patterns) the model can update it trains.\n",
        "\n",
        "* Non-trainable params - these parameters aren't updated during training (this is typical when you bring in already learn patterns or parameters from other models during **transfer learning**).\n"
      ]
    },
    {
      "cell_type": "code",
      "execution_count": null,
      "metadata": {
        "colab": {
          "base_uri": "https://localhost:8080/"
        },
        "id": "eiIvWuUNpoa5",
        "outputId": "0b639b9b-a280-4de9-ce5e-b884932b2c95"
      },
      "outputs": [
        {
          "output_type": "execute_result",
          "data": {
            "text/plain": [
              "<keras.callbacks.History at 0x7f9bab4976a0>"
            ]
          },
          "metadata": {},
          "execution_count": 32
        }
      ],
      "source": [
        "# Let's fit our model to the training data\n",
        "model.fit(tf.expand_dims(X_train,axis=1), y_train,epochs=100,verbose=0)"
      ]
    },
    {
      "cell_type": "code",
      "execution_count": null,
      "metadata": {
        "colab": {
          "base_uri": "https://localhost:8080/"
        },
        "id": "24GeTCTR7tgt",
        "outputId": "3972200a-d756-43c3-97e8-d75c031ef957"
      },
      "outputs": [
        {
          "output_type": "stream",
          "name": "stdout",
          "text": [
            "Model: \"model_1\"\n",
            "_________________________________________________________________\n",
            " Layer (type)                Output Shape              Param #   \n",
            "=================================================================\n",
            " input_layer (Dense)         (None, 10)                20        \n",
            "                                                                 \n",
            " output_layer (Dense)        (None, 1)                 11        \n",
            "                                                                 \n",
            "=================================================================\n",
            "Total params: 31\n",
            "Trainable params: 31\n",
            "Non-trainable params: 0\n",
            "_________________________________________________________________\n"
          ]
        }
      ],
      "source": [
        "# Get a summary of our model\n",
        "model.summary()"
      ]
    },
    {
      "cell_type": "code",
      "execution_count": null,
      "metadata": {
        "colab": {
          "base_uri": "https://localhost:8080/",
          "height": 312
        },
        "id": "-_chHoHN8Zd-",
        "outputId": "a3b7f910-884f-4bb9-f481-31f6815c40ab"
      },
      "outputs": [
        {
          "output_type": "execute_result",
          "data": {
            "image/png": "[encoded data removed]",
            "text/plain": [
              "<IPython.core.display.Image object>"
            ]
          },
          "metadata": {},
          "execution_count": 34
        }
      ],
      "source": [
        "from tensorflow.keras.utils import plot_model\n",
        "plot_model(model=model, show_shapes=True)"
      ]
    },
    {
      "cell_type": "markdown",
      "metadata": {
        "id": "JmCr3KiP86Ko"
      },
      "source": [
        "### Visualizing our model's prediction\n",
        "\n",
        "To visualize predictions, it's a good idea to plot them against the ground truth labels.\n",
        " \n",
        " Often you'll see this in form of `y_test` or `y_true` versus `y_pred` (ground truth versus model's predictions)"
      ]
    },
    {
      "cell_type": "code",
      "execution_count": null,
      "metadata": {
        "colab": {
          "base_uri": "https://localhost:8080/"
        },
        "id": "WOgczeh5-q0N",
        "outputId": "f104d803-53cb-42d6-bef0-ad22b6e11a0a"
      },
      "outputs": [
        {
          "output_type": "stream",
          "name": "stdout",
          "text": [
            "1/1 [==============================] - 0s 57ms/step\n"
          ]
        },
        {
          "output_type": "execute_result",
          "data": {
            "text/plain": [
              "array([[ 76.856544],\n",
              "       [ 81.8685  ],\n",
              "       [ 86.880455],\n",
              "       [ 91.89242 ],\n",
              "       [ 96.90436 ],\n",
              "       [101.916306],\n",
              "       [106.92825 ],\n",
              "       [111.94022 ],\n",
              "       [116.95217 ],\n",
              "       [121.96412 ]], dtype=float32)"
            ]
          },
          "metadata": {},
          "execution_count": 35
        }
      ],
      "source": [
        "#Make some predictions\n",
        "y_pred = model.predict(X_test)\n",
        "y_pred"
      ]
    },
    {
      "cell_type": "code",
      "execution_count": null,
      "metadata": {
        "colab": {
          "base_uri": "https://localhost:8080/"
        },
        "id": "p1yI6X8r-5OX",
        "outputId": "7e2a3ece-f089-4585-e80a-13f26cb40878"
      },
      "outputs": [
        {
          "output_type": "execute_result",
          "data": {
            "text/plain": [
              "<tf.Tensor: shape=(10,), dtype=int32, numpy=array([ 70,  74,  78,  82,  86,  90,  94,  98, 102, 106], dtype=int32)>"
            ]
          },
          "metadata": {},
          "execution_count": 36
        }
      ],
      "source": [
        "y_test"
      ]
    },
    {
      "cell_type": "markdown",
      "metadata": {
        "id": "YxveEt9O_M9f"
      },
      "source": [
        "🔑**Note:** If you feel like you're going to reuse some kind of functionality in the future, it's a good idea to turn it into a function."
      ]
    },
    {
      "cell_type": "code",
      "execution_count": null,
      "metadata": {
        "id": "hm2lTHIv-7SI"
      },
      "outputs": [],
      "source": [
        "# Let's create a plotting function\n",
        "def plot_predictions(train_data=X_train,\n",
        "                     train_labels=y_train,\n",
        "                     test_data=X_test,\n",
        "                     test_labels=y_test,\n",
        "                     predictions=y_pred):\n",
        "  \"\"\"\n",
        "  Plots training data, test data and compares predictions to ground truth labels\n",
        "  \"\"\"\n",
        "  plt.figure(figsize=(10,7))\n",
        "  plt.scatter(train_data,train_labels,c=\"b\",label=\"Training data\")\n",
        "  #Plot testing data in green\n",
        "  plt.scatter(test_data,test_labels, c=\"g\",label=\"Testing data\")\n",
        "  #Plot model's predictions in red\n",
        "  plt.scatter(test_data, predictions,c=\"r\", label=\"Predictions\")\n",
        "  plt.legend()"
      ]
    },
    {
      "cell_type": "code",
      "execution_count": null,
      "metadata": {
        "colab": {
          "base_uri": "https://localhost:8080/",
          "height": 599
        },
        "id": "pMxPfm_VAfR5",
        "outputId": "5f7d63b2-6a7e-4472-9a72-01d42bbc89d1"
      },
      "outputs": [
        {
          "output_type": "display_data",
          "data": {
            "text/plain": [
              "<Figure size 1000x700 with 1 Axes>"
            ],
            "image/png": "[encoded data removed]"
          },
          "metadata": {}
        }
      ],
      "source": [
        "plot_predictions(train_data=X_train,\n",
        "                          train_labels=y_train,\n",
        "                          test_data=X_test,\n",
        "                          test_labels=y_test,\n",
        "                          predictions=y_pred)"
      ]
    },
    {
      "cell_type": "markdown",
      "metadata": {
        "id": "D5-wL8OxA5Vd"
      },
      "source": [
        "### Evaluating our model's predictions with regression evaluatino metrics\n",
        "\n",
        "Depending on the problem you're working on, there will be different evaluation metrics to evaluate your model's performance\n",
        "\n",
        "Since we're working on a regression, two of the main metrics:\n",
        "* MAE - mean absolute error, \"on average, how wrong is each of the model's prediction\"\n",
        "* MSE - mean square error, \"square the average errors\"\n"
      ]
    },
    {
      "cell_type": "code",
      "execution_count": null,
      "metadata": {
        "colab": {
          "base_uri": "https://localhost:8080/"
        },
        "id": "ssP79YuNBArr",
        "outputId": "aed4c0ba-6125-4773-fada-b777a9fe6ae8"
      },
      "outputs": [
        {
          "output_type": "stream",
          "name": "stdout",
          "text": [
            "1/1 [==============================] - 0s 170ms/step - loss: 11.4103 - mae: 11.4103\n"
          ]
        },
        {
          "output_type": "execute_result",
          "data": {
            "text/plain": [
              "[11.410337448120117, 11.410337448120117]"
            ]
          },
          "metadata": {},
          "execution_count": 39
        }
      ],
      "source": [
        "#Evaluate the model on the test \n",
        "model.evaluate(X_test,y_test)"
      ]
    },
    {
      "cell_type": "markdown",
      "metadata": {
        "id": "zkWSw34JfjHI"
      },
      "source": [
        "## MAE - As a great started metric for any regression problem"
      ]
    },
    {
      "cell_type": "code",
      "execution_count": null,
      "metadata": {
        "colab": {
          "base_uri": "https://localhost:8080/"
        },
        "id": "LjfeBv-scHM9",
        "outputId": "eba0a16d-0f66-40a7-f660-f1fafca15d4f"
      },
      "outputs": [
        {
          "output_type": "execute_result",
          "data": {
            "text/plain": [
              "<tf.Tensor: shape=(10,), dtype=float32, numpy=\n",
              "array([13.086073 , 10.8526   , 10.       , 10.378484 , 11.961743 ,\n",
              "       14.7497835, 18.928253 , 23.940224 , 28.952173 , 33.96412  ],\n",
              "      dtype=float32)>"
            ]
          },
          "metadata": {},
          "execution_count": 40
        }
      ],
      "source": [
        "#Calculate the mean absolute error\n",
        "mae=tf.metrics.mean_absolute_error(y_true=y_test,\n",
        "                                   y_pred=y_pred)\n",
        "mae"
      ]
    },
    {
      "cell_type": "code",
      "execution_count": null,
      "metadata": {
        "colab": {
          "base_uri": "https://localhost:8080/"
        },
        "id": "opYhuzzubiq5",
        "outputId": "4dbc3989-c80d-4083-a510-9c53b90aea8c"
      },
      "outputs": [
        {
          "output_type": "execute_result",
          "data": {
            "text/plain": [
              "<tf.Tensor: shape=(10, 1), dtype=float32, numpy=\n",
              "array([[ 76.856544],\n",
              "       [ 81.8685  ],\n",
              "       [ 86.880455],\n",
              "       [ 91.89242 ],\n",
              "       [ 96.90436 ],\n",
              "       [101.916306],\n",
              "       [106.92825 ],\n",
              "       [111.94022 ],\n",
              "       [116.95217 ],\n",
              "       [121.96412 ]], dtype=float32)>"
            ]
          },
          "metadata": {},
          "execution_count": 41
        }
      ],
      "source": [
        "tf.constant(y_pred)"
      ]
    },
    {
      "cell_type": "code",
      "execution_count": null,
      "metadata": {
        "colab": {
          "base_uri": "https://localhost:8080/"
        },
        "id": "aq1cMpzccF6r",
        "outputId": "34305bf4-578b-4a21-d0b8-94d38970c6df"
      },
      "outputs": [
        {
          "output_type": "execute_result",
          "data": {
            "text/plain": [
              "<tf.Tensor: shape=(10,), dtype=int32, numpy=array([ 70,  74,  78,  82,  86,  90,  94,  98, 102, 106], dtype=int32)>"
            ]
          },
          "metadata": {},
          "execution_count": 42
        }
      ],
      "source": [
        "y_test"
      ]
    },
    {
      "cell_type": "code",
      "execution_count": null,
      "metadata": {
        "colab": {
          "base_uri": "https://localhost:8080/"
        },
        "id": "8zt6u4bqcGjj",
        "outputId": "f7d75eb9-49c4-4f27-dd7f-6625ccf8322b"
      },
      "outputs": [
        {
          "output_type": "execute_result",
          "data": {
            "text/plain": [
              "<tf.Tensor: shape=(10,), dtype=float32, numpy=\n",
              "array([ 76.856544,  81.8685  ,  86.880455,  91.89242 ,  96.90436 ,\n",
              "       101.916306, 106.92825 , 111.94022 , 116.95217 , 121.96412 ],\n",
              "      dtype=float32)>"
            ]
          },
          "metadata": {},
          "execution_count": 43
        }
      ],
      "source": [
        "tf.squeeze(y_pred)"
      ]
    },
    {
      "cell_type": "code",
      "execution_count": null,
      "metadata": {
        "colab": {
          "base_uri": "https://localhost:8080/"
        },
        "id": "kUT-wFpCeS1s",
        "outputId": "c5439ded-363a-4eb0-93dd-7983f50011e0"
      },
      "outputs": [
        {
          "output_type": "execute_result",
          "data": {
            "text/plain": [
              "<tf.Tensor: shape=(), dtype=float32, numpy=11.410335>"
            ]
          },
          "metadata": {},
          "execution_count": 44
        }
      ],
      "source": [
        "#Calculate the mean absolute error\n",
        "mae_error=tf.metrics.mean_absolute_error(y_true=y_test,y_pred=tf.squeeze(y_pred))\n",
        "mae_error"
      ]
    },
    {
      "cell_type": "markdown",
      "metadata": {
        "id": "NGGqLy-2ef8L"
      },
      "source": [
        "# Mean Square Error\n",
        "* When a larger errors are more significant than smaller errors."
      ]
    },
    {
      "cell_type": "code",
      "execution_count": null,
      "metadata": {
        "colab": {
          "base_uri": "https://localhost:8080/"
        },
        "id": "PPdKkmxce9SW",
        "outputId": "10dda2a7-e56a-41e4-86cb-361fdfc5bf7e"
      },
      "outputs": [
        {
          "output_type": "execute_result",
          "data": {
            "text/plain": [
              "<tf.Tensor: shape=(), dtype=float32, numpy=138.64413>"
            ]
          },
          "metadata": {},
          "execution_count": 45
        }
      ],
      "source": [
        "tf.keras.losses.MSE(y_test,tf.squeeze(y_pred))"
      ]
    },
    {
      "cell_type": "code",
      "execution_count": null,
      "metadata": {
        "colab": {
          "base_uri": "https://localhost:8080/"
        },
        "id": "Am7qcPn7fFuH",
        "outputId": "627f9b0c-188d-4084-d540-a0d61e44c1dd"
      },
      "outputs": [
        {
          "output_type": "execute_result",
          "data": {
            "text/plain": [
              "<tf.Tensor: shape=(), dtype=float32, numpy=138.64413>"
            ]
          },
          "metadata": {},
          "execution_count": 46
        }
      ],
      "source": [
        "tf.metrics.mean_squared_error(y_true=y_test,y_pred=tf.squeeze(y_pred))"
      ]
    },
    {
      "cell_type": "code",
      "execution_count": null,
      "metadata": {
        "id": "GOb3xtZVfW_D"
      },
      "outputs": [],
      "source": [
        "# Make some functions to reuse MAE and MSE\n",
        "def mae(y_true,y_pred):\n",
        "  return tf.metrics.mean_absolute_error(y_true=y_true,y_pred=tf.squeeze(y_pred))\n",
        "\n",
        "def mse(y_true,y_pred):\n",
        "  return tf.metrics.mean_squared_error(y_true=y_true,y_pred=tf.squeeze(y_pred))\n"
      ]
    },
    {
      "cell_type": "markdown",
      "metadata": {
        "id": "Uh89HHYVgUbd"
      },
      "source": [
        "### **Running experiments to improve our model**\n",
        "\n",
        "```\n",
        "Build a model -> fit it -> evaluate it -> tweak it -> fit it-> evaluate it -> tweak it -> evaluate it.... \n",
        "```\n",
        "\n",
        "1. Get more data - get more examples for your model to train on (more oppurtunities to learn patterns or relationships between features and labels).\n",
        "2. Make you  model larger (using a more complex model) - this might come in the form of more layers or more hidden units in each layer.\n",
        "3. Train for longer - Give your model more of a chance to find patterns in the data.\n",
        "\n",
        "Let's do 3 modelling experiments: \n",
        "\n",
        "1. `model_1` - same as the original model, 1 layer, trained for 100 epochs.\n",
        "2. ` model_2` - 2 layers trained for 100 epochs.\n",
        "3. `model_3` - 2 layers trained for 500 epochs.\n",
        "4. \n",
        "5. \n",
        "\n",
        "**Build `model_1`:**"
      ]
    },
    {
      "cell_type": "code",
      "execution_count": null,
      "metadata": {
        "colab": {
          "base_uri": "https://localhost:8080/"
        },
        "id": "9vWMJd1HhA9y",
        "outputId": "498392ad-33f2-4ea1-99dd-1f968483b440"
      },
      "outputs": [
        {
          "output_type": "execute_result",
          "data": {
            "text/plain": [
              "(<tf.Tensor: shape=(40,), dtype=int32, numpy=\n",
              " array([-100,  -96,  -92,  -88,  -84,  -80,  -76,  -72,  -68,  -64,  -60,\n",
              "         -56,  -52,  -48,  -44,  -40,  -36,  -32,  -28,  -24,  -20,  -16,\n",
              "         -12,   -8,   -4,    0,    4,    8,   12,   16,   20,   24,   28,\n",
              "          32,   36,   40,   44,   48,   52,   56], dtype=int32)>,\n",
              " <tf.Tensor: shape=(40,), dtype=int32, numpy=\n",
              " array([-90, -86, -82, -78, -74, -70, -66, -62, -58, -54, -50, -46, -42,\n",
              "        -38, -34, -30, -26, -22, -18, -14, -10,  -6,  -2,   2,   6,  10,\n",
              "         14,  18,  22,  26,  30,  34,  38,  42,  46,  50,  54,  58,  62,\n",
              "         66], dtype=int32)>)"
            ]
          },
          "metadata": {},
          "execution_count": 48
        }
      ],
      "source": [
        "X_train,y_train"
      ]
    },
    {
      "cell_type": "code",
      "execution_count": null,
      "metadata": {
        "colab": {
          "base_uri": "https://localhost:8080/"
        },
        "id": "aLAsAYoiiP2S",
        "outputId": "0a86fca5-2cc4-4d61-aa68-9e8b17d3a54d"
      },
      "outputs": [
        {
          "output_type": "stream",
          "name": "stdout",
          "text": [
            "Epoch 1/100\n",
            "2/2 [==============================] - 0s 13ms/step - loss: 102.1179 - mae: 102.1179\n",
            "Epoch 2/100\n",
            "2/2 [==============================] - 0s 9ms/step - loss: 66.6624 - mae: 66.6624\n",
            "Epoch 3/100\n",
            "2/2 [==============================] - 0s 9ms/step - loss: 29.3697 - mae: 29.3697\n",
            "Epoch 4/100\n",
            "2/2 [==============================] - 0s 9ms/step - loss: 10.2855 - mae: 10.2855\n",
            "Epoch 5/100\n",
            "2/2 [==============================] - 0s 8ms/step - loss: 11.2989 - mae: 11.2989\n",
            "Epoch 6/100\n",
            "2/2 [==============================] - 0s 9ms/step - loss: 10.4300 - mae: 10.4300\n",
            "Epoch 7/100\n",
            "2/2 [==============================] - 0s 9ms/step - loss: 9.4100 - mae: 9.4100\n",
            "Epoch 8/100\n",
            "2/2 [==============================] - 0s 8ms/step - loss: 9.2853 - mae: 9.2853\n",
            "Epoch 9/100\n",
            "2/2 [==============================] - 0s 9ms/step - loss: 11.9847 - mae: 11.9847\n",
            "Epoch 10/100\n",
            "2/2 [==============================] - 0s 10ms/step - loss: 13.9491 - mae: 13.9491\n",
            "Epoch 11/100\n",
            "2/2 [==============================] - 0s 11ms/step - loss: 12.0893 - mae: 12.0893\n",
            "Epoch 12/100\n",
            "2/2 [==============================] - 0s 9ms/step - loss: 16.0887 - mae: 16.0887\n",
            "Epoch 13/100\n",
            "2/2 [==============================] - 0s 10ms/step - loss: 11.7288 - mae: 11.7288\n",
            "Epoch 14/100\n",
            "2/2 [==============================] - 0s 8ms/step - loss: 13.5768 - mae: 13.5768\n",
            "Epoch 15/100\n",
            "2/2 [==============================] - 0s 9ms/step - loss: 10.8896 - mae: 10.8896\n",
            "Epoch 16/100\n",
            "2/2 [==============================] - 0s 10ms/step - loss: 8.5372 - mae: 8.5372\n",
            "Epoch 17/100\n",
            "2/2 [==============================] - 0s 13ms/step - loss: 13.5984 - mae: 13.5984\n",
            "Epoch 18/100\n",
            "1/2 [==============>...............] - ETA: 0s - loss: 12.0334 - mae: 12.0334"
          ]
        }
      ],
      "source": [
        "#Set random seed\n",
        "tf.random.set_seed(42)\n",
        "\n",
        "#1. Create the model\n",
        "model_1 = tf.keras.Sequential(\n",
        "    tf.keras.layers.Dense(1)\n",
        ")\n",
        "#2. Compile \n",
        "model_1.compile(loss=tf.keras.losses.mae,\n",
        "                optimizer=tf.keras.optimizers.SGD(),\n",
        "                metrics=['mae'])\n",
        "#3. Fit the model\n",
        "model_1.fit(tf.expand_dims(X_train,axis=1),y_train,epochs=100)"
      ]
    },
    {
      "cell_type": "code",
      "execution_count": null,
      "metadata": {
        "id": "MBIT80hrj1eP"
      },
      "outputs": [],
      "source": [
        "#Make and plot predictions for model_1\n",
        "y_pred_1 = model_1.predict(X_test)\n",
        "plot_predictions(predictions=y_pred_1)"
      ]
    },
    {
      "cell_type": "code",
      "source": [
        "# Calculate model_1 evaluation metrics\n",
        "mae_1 =mae(y_test,y_pred_1)\n",
        "mse_1=mse(y_test,y_pred_1)\n",
        "mae_1,mse_1"
      ],
      "metadata": {
        "id": "YQCaTgrB151D"
      },
      "execution_count": null,
      "outputs": []
    },
    {
      "cell_type": "markdown",
      "source": [
        "### Model_2\n",
        "\n",
        "* 2 Dense layers, trained for 100 epochs"
      ],
      "metadata": {
        "id": "bUu27fSR2UXy"
      }
    },
    {
      "cell_type": "code",
      "source": [
        "tf.random.set_seed(42)\n",
        "model_2 = tf.keras.Sequential([\n",
        "    tf.keras.layers.Dense(10),\n",
        "    tf.keras.layers.Dense(1)\n",
        "])\n",
        "model_2.compile(loss=tf.keras.losses.mae,\n",
        "                optimizer=tf.keras.optimizers.SGD(),\n",
        "                metrics=['mse'])\n",
        "model_2.fit(tf.expand_dims(X_train,axis=1),y_train,epochs=100)"
      ],
      "metadata": {
        "id": "QophMGjZ3X8X"
      },
      "execution_count": null,
      "outputs": []
    },
    {
      "cell_type": "code",
      "source": [
        "# Plot the graph\n",
        "y_pred_2= model_2.predict(X_test)\n",
        "plot_predictions(predictions=y_pred_2)"
      ],
      "metadata": {
        "id": "p9wffI634E-U"
      },
      "execution_count": null,
      "outputs": []
    },
    {
      "cell_type": "code",
      "source": [
        "#Calculate model_2 evaluation metrics\n",
        "mae_2=mae(y_test,y_pred_2)\n",
        "mse_2=mse(y_test,y_pred_2)\n",
        "mae_2,mse_2"
      ],
      "metadata": {
        "id": "qTEgHRQI5IN8"
      },
      "execution_count": null,
      "outputs": []
    },
    {
      "cell_type": "code",
      "source": [
        "print(\"Model 1:\")\n",
        "print('mae 1: ',mae_1)\n",
        "print('mse 1: ',mse_1)\n",
        "print(\"\\nModel 2:\")\n",
        "print('mae 2: ',mae_2)\n",
        "print('mse 2: ',mse_2)\n"
      ],
      "metadata": {
        "id": "PIDi47N_5YJ_"
      },
      "execution_count": null,
      "outputs": []
    },
    {
      "cell_type": "markdown",
      "source": [
        "### Build Model 3\n",
        "\n",
        "* 2 layers trained for 500 epochs"
      ],
      "metadata": {
        "id": "jrjaxN7252XL"
      }
    },
    {
      "cell_type": "code",
      "source": [
        "tf.random.set_seed(42)\n",
        "model_3=tf.keras.Sequential([\n",
        "    tf.keras.layers.Dense(10),\n",
        "    tf.keras.layers.Dense(1)\n",
        "])\n",
        "model_3.compile(loss=tf.keras.losses.mae,\n",
        "                optimizer=tf.keras.optimizers.SGD(),\n",
        "                metrics=['mae'])\n",
        "model_3.fit(tf.expand_dims(X_train,axis=1),y_train,epochs=500)"
      ],
      "metadata": {
        "id": "tIxdvVPg6DDT"
      },
      "execution_count": null,
      "outputs": []
    },
    {
      "cell_type": "code",
      "source": [
        "#Plot the graph\n",
        "y_pred_3=model_3.predict(X_test)\n",
        "plot_predictions(predictions=y_pred_3)"
      ],
      "metadata": {
        "id": "gamkaFoU6pnA"
      },
      "execution_count": null,
      "outputs": []
    },
    {
      "cell_type": "code",
      "source": [
        "#Calculate the evaluation metrics\n",
        "mae_3=mae(y_test,y_pred_3)\n",
        "mse_3=mse(y_test,y_pred_3)\n",
        "mae_3,mse_3"
      ],
      "metadata": {
        "id": "-laxgYDl7Jx7"
      },
      "execution_count": null,
      "outputs": []
    },
    {
      "cell_type": "markdown",
      "source": [
        "🔑**Note :**  You want to start with small experiments (small models) and make sure they work and then increase their scale when necessary."
      ],
      "metadata": {
        "id": "Jqs41z9ESLpG"
      }
    },
    {
      "cell_type": "markdown",
      "source": [
        "### **Comparing the results of our Experiments**\n",
        "We've run a few experiments, let's compare the results."
      ],
      "metadata": {
        "id": "MU2WLsFG7YrI"
      }
    },
    {
      "cell_type": "code",
      "source": [
        "# Let's compare our model's results using a pandas dataframe\n",
        "import pandas as pd\n",
        "\n",
        "model_results=[[\"model_1\", mae_1.numpy(), mse_1.numpy()],\n",
        "               [\"model_2\", mae_2.numpy(), mse_2.numpy()],\n",
        "               [\"model_3\", mae_3.numpy(), mse_3.numpy()]]\n",
        "\n",
        "all_results=pd.DataFrame(model_results, columns=[\"model\",\"mae\",\"mse\"])\n",
        "all_results\n",
        "                           "
      ],
      "metadata": {
        "id": "jGkzRslBR5Ur"
      },
      "execution_count": null,
      "outputs": []
    },
    {
      "cell_type": "markdown",
      "source": [
        "Looks like `model_2` performed the best"
      ],
      "metadata": {
        "id": "sMfGNoDBY12f"
      }
    },
    {
      "cell_type": "code",
      "source": [
        "model_2.summary()"
      ],
      "metadata": {
        "id": "B5lMWGMYThF8"
      },
      "execution_count": null,
      "outputs": []
    },
    {
      "cell_type": "markdown",
      "source": [
        ">🔑**Note:**  One of your main goals should be to minimize the timem between your experiments. The more experiments you do, the more things you'll figure out which don't work and in turn, get closer to figuring out what does work. Remember the machine learning parctioner motto: \"experiment, experiment, experiment\"."
      ],
      "metadata": {
        "id": "Yb-yzfxhYqWW"
      }
    },
    {
      "cell_type": "markdown",
      "source": [
        "## Tracking your experiments\n",
        "One really good habit in machine learning modelling is to track the results of your experiments.\n",
        " \n",
        " And when doing so, it can be tedious if you're running lots of experiments\n",
        "\n",
        " Luckily, there are tools to help us!\n",
        " \n",
        "📖**Resource:** As you build more models you want to look into using:\n",
        "* Tensorboard - a component of the Tensorflow library to help track modelling experiments (we'll see this one later).\n",
        "* Weights & Biases - a tool for tracking all kinds of machine learning experiments (plugs straight into tensorboard)."
      ],
      "metadata": {
        "id": "kmA4V0fnZMFZ"
      }
    },
    {
      "cell_type": "markdown",
      "source": [
        "### Saving our models\n",
        "\n",
        "Saving our models allows us to use them outside of Google Colab (or wherever they were trained) such as in a web application or mobile app\n",
        "\n",
        "\n",
        "There are 2 main formats we can save our model's too:\n",
        "\n",
        "1. The SavedModel format\n",
        "2. The HDF5 format"
      ],
      "metadata": {
        "id": "FDiMn2DVcSnt"
      }
    },
    {
      "cell_type": "code",
      "source": [
        "# Save a model using the SavedModel format\n",
        "model_2.save(\"best_model_SavedModel_format\")"
      ],
      "metadata": {
        "id": "0bDxvXeQfzk8"
      },
      "execution_count": null,
      "outputs": []
    },
    {
      "cell_type": "code",
      "source": [
        "# Save a model using HDF5 format\n",
        "model_2.save(\"best_model_HDF5_format.h5\")"
      ],
      "metadata": {
        "id": "EW3pMcvzjHWP"
      },
      "execution_count": null,
      "outputs": []
    },
    {
      "cell_type": "markdown",
      "source": [
        "## Loading a Saved model"
      ],
      "metadata": {
        "id": "bxSJEA0Tjil8"
      }
    },
    {
      "cell_type": "code",
      "source": [
        "# Load in the SavedModel format\n",
        "loaded_SavedModel_format=tf.keras.models.load_model('/content/best_model_SavedModel_format')"
      ],
      "metadata": {
        "id": "fnDDm4yqnL32"
      },
      "execution_count": null,
      "outputs": []
    },
    {
      "cell_type": "code",
      "source": [
        "loaded_SavedModel_format.summary()"
      ],
      "metadata": {
        "id": "6hPFUaiCnhLZ"
      },
      "execution_count": null,
      "outputs": []
    },
    {
      "cell_type": "code",
      "source": [
        "model_2.summary()\n"
      ],
      "metadata": {
        "id": "lNBfUo_WnlNv"
      },
      "execution_count": null,
      "outputs": []
    },
    {
      "cell_type": "code",
      "source": [
        "#Compare model_2 predictions with SavedModel format model predictions\n",
        "model_2_preds = model_2.predict(X_test)\n",
        "loaded_SavedModel_format_preds =loaded_SavedModel_format.predict(X_test) "
      ],
      "metadata": {
        "id": "yg9pMEoonqDg"
      },
      "execution_count": null,
      "outputs": []
    },
    {
      "cell_type": "code",
      "source": [
        "model_2_preds == loaded_SavedModel_format_preds"
      ],
      "metadata": {
        "id": "YUgZSfsgoKl2"
      },
      "execution_count": null,
      "outputs": []
    },
    {
      "cell_type": "code",
      "source": [
        "mae(y_true=y_test,y_pred=model_2_preds) == mae(y_true=y_test,y_pred=loaded_SavedModel_format_preds)"
      ],
      "metadata": {
        "id": "YVkL7CpdoQVC"
      },
      "execution_count": null,
      "outputs": []
    },
    {
      "cell_type": "code",
      "source": [
        "model_2_preds.squeeze()"
      ],
      "metadata": {
        "id": "fcJ6sspOoXP_"
      },
      "execution_count": null,
      "outputs": []
    },
    {
      "cell_type": "code",
      "source": [
        "loaded_SavedModel_format_preds.squeeze()"
      ],
      "metadata": {
        "id": "VOeAE7Zxoyyr"
      },
      "execution_count": null,
      "outputs": []
    },
    {
      "cell_type": "code",
      "source": [
        "#Load in a model using the .h5 format\n",
        "loaded_h5=tf.keras.models.load_model('/content/best_model_HDF5_format.h5')\n",
        "loaded_h5.summary()"
      ],
      "metadata": {
        "id": "J6jGCdV_pRnU"
      },
      "execution_count": null,
      "outputs": []
    },
    {
      "cell_type": "code",
      "source": [
        "# Check to see if loaded .h5 model predictions match model_2\n",
        "model_2_preds= model_2.predict(X_test)\n",
        "loaded_h5_preds=loaded_h5.predict(X_test)\n"
      ],
      "metadata": {
        "id": "we7krY7Go3e_"
      },
      "execution_count": null,
      "outputs": []
    },
    {
      "cell_type": "code",
      "source": [
        "model_2_preds == loaded_h5_preds"
      ],
      "metadata": {
        "id": "mj7mzEzwqCsR"
      },
      "execution_count": null,
      "outputs": []
    },
    {
      "cell_type": "markdown",
      "source": [
        "## **A larger example**"
      ],
      "metadata": {
        "id": "5OsiTPWnqHFE"
      }
    },
    {
      "cell_type": "code",
      "source": [
        "# Import required libraries\n",
        "import tensorflow as tf\n",
        "import pandas as pd\n",
        "import matplotlib.pyplot as plt\n",
        "from sklearn.model_selection import train_test_split"
      ],
      "metadata": {
        "id": "n_Xt2oWFjIMb"
      },
      "execution_count": null,
      "outputs": []
    },
    {
      "cell_type": "code",
      "source": [
        "# Read in the insurance dataset\n",
        "insurance=pd.read_csv(\"https://raw.githubusercontent.com/stedy/Machine-Learning-with-R-datasets/master/insurance.csv\")\n",
        "insurance"
      ],
      "metadata": {
        "id": "Og1r-GsdjJqO"
      },
      "execution_count": null,
      "outputs": []
    },
    {
      "cell_type": "code",
      "source": [
        "insurance_onehot=pd.get_dummies(insurance)\n",
        "insurance_onehot"
      ],
      "metadata": {
        "id": "hjdZO1sPkQM5"
      },
      "execution_count": null,
      "outputs": []
    },
    {
      "cell_type": "code",
      "source": [
        "#Create x & y values(features and labels)\n",
        "X= insurance_onehot.drop(\"charges\",axis=1)\n",
        "y=insurance_onehot[\"charges\"]"
      ],
      "metadata": {
        "id": "A8u_MTCGArWT"
      },
      "execution_count": null,
      "outputs": []
    },
    {
      "cell_type": "code",
      "source": [
        "#View X\n",
        "X.head()"
      ],
      "metadata": {
        "id": "PXbQro_PA_iq"
      },
      "execution_count": null,
      "outputs": []
    },
    {
      "cell_type": "code",
      "source": [
        "y.head()"
      ],
      "metadata": {
        "id": "C3CD5XvwBFfE"
      },
      "execution_count": null,
      "outputs": []
    },
    {
      "cell_type": "code",
      "source": [
        "#Create training and test sets\n",
        "X_train,X_test,y_train,y_test=train_test_split(X, y, test_size=0.2, random_state=42)\n",
        "len(X),len(X_train),len(X_test)"
      ],
      "metadata": {
        "id": "PxFekCRjAsKr"
      },
      "execution_count": null,
      "outputs": []
    },
    {
      "cell_type": "code",
      "source": [
        "#Build a neural network (sort of like model_2 above)\n",
        "tf.random.set_seed(42)\n",
        "model=tf.keras.Sequential([\n",
        "    tf.keras.layers.Dense(10),\n",
        "    tf.keras.layers.Dense(1)\n",
        "])\n",
        "model.compile(loss=tf.keras.losses.mae,\n",
        "              optimizer=tf.keras.optimizers.SGD(),\n",
        "              metrics=['mae'])\n",
        "\n",
        "model.fit(tf.expand_dims(X_train,axis=1),y_train,epochs=100)"
      ],
      "metadata": {
        "id": "jkBXB6asBLVF"
      },
      "execution_count": null,
      "outputs": []
    },
    {
      "cell_type": "code",
      "source": [
        "#Check the results of the model on the test data\n",
        "model.evaluate(X_test,y_test)"
      ],
      "metadata": {
        "id": "QsWyjVWwCaAJ"
      },
      "execution_count": null,
      "outputs": []
    },
    {
      "cell_type": "code",
      "source": [
        "y_train.median(),y_train.mean()"
      ],
      "metadata": {
        "id": "bsQhKslaDRk_"
      },
      "execution_count": null,
      "outputs": []
    },
    {
      "cell_type": "markdown",
      "source": [
        "Right now it looks like our model isn't performing too well.. let's try and improve it!\n",
        "\n",
        "To(try) improve our model, we'll run  experiments:\n",
        "\n",
        "1. Add an extra layer with more hidden units and use the Adam Optimizer\n",
        "2. Same as above Train for longer \n",
        "\n"
      ],
      "metadata": {
        "id": "1H8nPjIaDsTM"
      }
    },
    {
      "cell_type": "code",
      "source": [
        "tf.random.set_seed(42)\n",
        "model_2=tf.keras.Sequential([\n",
        "    tf.keras.layers.Dense(100),\n",
        "    tf.keras.layers.Dense(10),\n",
        "    tf.keras.layers.Dense(1)\n",
        "])\n",
        "model_2.compile(loss=tf.keras.losses.mae,\n",
        "              optimizer=tf.keras.optimizers.Adam(),\n",
        "              metrics=['mae'])\n",
        "\n",
        "model_2.fit(tf.expand_dims(X_train,axis=1),y_train,epochs=100)"
      ],
      "metadata": {
        "id": "47hnqLATEFvt"
      },
      "execution_count": null,
      "outputs": []
    },
    {
      "cell_type": "code",
      "source": [
        "model_2.evaluate(X_test,y_test)"
      ],
      "metadata": {
        "id": "s2vjnRahELOF"
      },
      "execution_count": null,
      "outputs": []
    },
    {
      "cell_type": "code",
      "source": [
        "tf.random.set_seed(42)\n",
        "model_3=tf.keras.Sequential([\n",
        "    tf.keras.layers.Dense(100),\n",
        "    tf.keras.layers.Dense(10),\n",
        "    tf.keras.layers.Dense(1)\n",
        "])\n",
        "model_3.compile(loss=tf.keras.losses.mae,\n",
        "                optimizer=tf.keras.optimizers.Adam(),\n",
        "                metrics=['mae'])\n",
        "graph=model_3.fit(tf.expand_dims(X_train,axis=1),y_train,epochs=200)"
      ],
      "metadata": {
        "id": "1p5lwuJ0E0bO"
      },
      "execution_count": null,
      "outputs": []
    },
    {
      "cell_type": "code",
      "source": [
        "model_3.evaluate(X_test,y_test)"
      ],
      "metadata": {
        "id": "yFOyfzKkHLN-"
      },
      "execution_count": null,
      "outputs": []
    },
    {
      "cell_type": "code",
      "source": [
        "model.evaluate(X_test,y_test)"
      ],
      "metadata": {
        "id": "4OaeekBvHZAx"
      },
      "execution_count": null,
      "outputs": []
    },
    {
      "cell_type": "code",
      "source": [
        "# Plot history (also known as a loss curve or a training curve)\n",
        "pd.DataFrame(graph.history).plot()\n",
        "plt.ylabel('loss')\n",
        "plt.xlabel('epochs')"
      ],
      "metadata": {
        "id": "ysgeqf1NHiFp"
      },
      "execution_count": null,
      "outputs": []
    },
    {
      "cell_type": "markdown",
      "source": [
        ">🤔**Question:** How long should you train for?\n",
        "\n",
        "It depends. Really ... it depends on the problem you're working on. However, many people have asked this question before.... so TensorFlow has a solution! It's called the [`EarlyStopping Callback` ] which is a TensorFlow component you can add to your model to stop training for a certain metrics.\n"
      ],
      "metadata": {
        "id": "jXqeJL3uHzh3"
      }
    },
    {
      "cell_type": "markdown",
      "source": [
        "## Preporcessing data (normalization and standardization)\n",
        "\n",
        "In terms of scaling values, neural network tend to prefer normalization.\n",
        "\n",
        "If you're not sure on which to use, you could try both and see which performs better."
      ],
      "metadata": {
        "id": "-uR_oNT3I2qS"
      }
    },
    {
      "cell_type": "code",
      "source": [
        "import pandas as pd\n",
        "import matplotlib.pyplot as plt\n",
        "import tensorflow as tf\n",
        "\n",
        "#Read in the insurance dataframe\n",
        "insurance=pd.read_csv('https://raw.githubusercontent.com/stedy/Machine-Learning-with-R-datasets/master/insurance.csv')\n",
        "insurance"
      ],
      "metadata": {
        "id": "5l_tPgT2MoMs"
      },
      "execution_count": null,
      "outputs": []
    },
    {
      "cell_type": "markdown",
      "source": [
        "To prepare our data we can borrow a few classess from Scikit-Learn"
      ],
      "metadata": {
        "id": "aZJ4jvuKLi-2"
      }
    },
    {
      "cell_type": "code",
      "source": [
        "from sklearn.compose import make_column_transformer\n",
        "from sklearn.preprocessing import MinMaxScaler, OneHotEncoder\n",
        "from sklearn.model_selection import train_test_split\n",
        "#Create a column transformer\n",
        "ct=make_column_transformer(\n",
        "    (MinMaxScaler(),['age','bmi','children']),#turn all values in these columns between 0 and 1\n",
        "    (OneHotEncoder(handle_unknown=\"ignore\"),[\"sex\",\"smoker\",\"region\"])\n",
        ")\n",
        "#Create X & y \n",
        "X=insurance.drop(\"charges\",axis=1)\n",
        "y=insurance[\"charges\"]\n",
        "\n",
        "# Build our train and test sets\n",
        "X_train,X_test,y_train,y_test=train_test_split(X,y,test_size=0.2,random_state=42)\n",
        "\n",
        "#Fit the column transformer to our training data\n",
        "ct.fit(X_train)\n",
        "\n",
        "#Transform training and test data with normalization (MinMaxScaler) and OneHotEncoder\n",
        "X_train_normal=ct.transform(X_train)\n",
        "X_test_normal=ct.transform(X_test)"
      ],
      "metadata": {
        "id": "DjZEiRdHFsS7"
      },
      "execution_count": null,
      "outputs": []
    },
    {
      "cell_type": "code",
      "source": [
        "#What does the data look like\n",
        "X_train.loc[0]"
      ],
      "metadata": {
        "id": "0_-OY2zRGA4L"
      },
      "execution_count": null,
      "outputs": []
    },
    {
      "cell_type": "code",
      "source": [
        "X_train_normal[0]"
      ],
      "metadata": {
        "id": "W0fQ9nAmIFbd"
      },
      "execution_count": null,
      "outputs": []
    },
    {
      "cell_type": "code",
      "source": [
        "X_train.shape,X_train_normal.shape"
      ],
      "metadata": {
        "id": "PdrugcyJIIhP"
      },
      "execution_count": null,
      "outputs": []
    },
    {
      "cell_type": "markdown",
      "source": [
        "Beautiful! Our data has been normalized and one hot encoded. Now let's build a neural network model in it and see"
      ],
      "metadata": {
        "id": "pmF-2WqJIeq-"
      }
    },
    {
      "cell_type": "code",
      "source": [
        "# Build a neural network model to fit on our normalized data\n",
        "tf.random.set_seed(42)\n",
        "\n",
        "#1.Create the model\n",
        "insurance_model_4 = tf.keras.Sequential([\n",
        "    tf.keras.layers.Dense(100),\n",
        "    tf.keras.layers.Dense(10),\n",
        "    tf.keras.layers.Dense(1)\n",
        "])\n",
        "\n",
        "#2. Compile the model\n",
        "insurance_model_4.compile(\n",
        "    loss=tf.keras.losses.mae,\n",
        "    optimizer=tf.keras.optimizers.Adam(),\n",
        "    metrics=['mae']\n",
        ")\n",
        "\n",
        "#3. Fit the model\n",
        "insurance_model_4.fit(tf.expand_dims(X_train_normal,axis=1),y_train,epochs=100)"
      ],
      "metadata": {
        "id": "Fg_jdO7kIxBI"
      },
      "execution_count": null,
      "outputs": []
    },
    {
      "cell_type": "code",
      "source": [
        "# Evaluate our insurance model trained on normalized data\n",
        "insurance_model_4.evaluate(X_test_normal,y_test)"
      ],
      "metadata": {
        "id": "SSpTl9q_Jnx6"
      },
      "execution_count": null,
      "outputs": []
    },
    {
      "cell_type": "code",
      "source": [],
      "metadata": {
        "id": "bPib60ELLaPp"
      },
      "execution_count": null,
      "outputs": []
    }
  ],
  "metadata": {
    "colab": {
      "provenance": []
    },
    "gpuClass": "standard",
    "kernelspec": {
      "display_name": "Python 3",
      "name": "python3"
    },
    "language_info": {
      "name": "python"
    }
  },
  "nbformat": 4,
  "nbformat_minor": 0
}